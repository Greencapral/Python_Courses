{
  "nbformat": 4,
  "nbformat_minor": 0,
  "metadata": {
    "colab": {
      "provenance": [],
      "collapsed_sections": [
        "bocRIPrSzoOZ",
        "OXq2Z0RFy0S1",
        "MczjTxXYzSjy"
      ],
      "include_colab_link": true
    },
    "kernelspec": {
      "name": "python3",
      "display_name": "Python 3"
    },
    "language_info": {
      "name": "python"
    }
  },
  "cells": [
    {
      "cell_type": "markdown",
      "metadata": {
        "id": "view-in-github",
        "colab_type": "text"
      },
      "source": [
        "<a href=\"https://colab.research.google.com/github/Greencapral/Python_Courses/blob/main/%22%D0%97%D0%B0%D0%BD%D1%8F%D1%82%D0%B8%D0%B5_4_%D0%9A%D0%BE%D0%BB%D0%BB%D0%B5%D0%BA%D1%86%D0%B8%D0%B8_ipynb%22.ipynb\" target=\"_parent\"><img src=\"https://colab.research.google.com/assets/colab-badge.svg\" alt=\"Open In Colab\"/></a>"
      ]
    },
    {
      "cell_type": "markdown",
      "source": [
        "### 1. Введение\n",
        "\n",
        "Коллекции — это один из основных концептов в Python, который необходим для удобного хранения и управления группами данных. Они позволяют структурировано работать с множеством элементов, упрощая организацию и обработку данных.\n",
        "\n",
        "**Почему коллекции важны**:  \n",
        "Представьте, что вам нужно сохранить сотни отдельных значений данных. Управлять ими без системы было бы крайне неэффективно. Коллекции решают эту проблему, группируя элементы и предоставляя методы для добавления, удаления или изменения данных. Python предлагает несколько встроенных типов коллекций, каждый из которых подходит для разных задач.\n",
        "\n",
        "**Основные моменты**:\n",
        "- Коллекции используются для объединения нескольких элементов в одну переменную.\n",
        "- Они помогают эффективно управлять и манипулировать данными.\n",
        "- В Python существуют разные типы коллекций с уникальными возможностями.\n",
        "\n",
        "---\n",
        "\n",
        "### 2. Цели\n",
        "\n",
        "После изучения этого материала вы сможете:\n",
        "\n",
        "1. Понимать и различать основные встроенные типы коллекций в Python.\n",
        "2. Разбираться в разнице между изменяемыми (mutable) и неизменяемыми (immutable) объектами.\n",
        "3. Создавать и использовать списки, кортежи, множества и словари.\n",
        "4. Применять методы и операции, соответствующие каждому типу коллекций.\n",
        "5. Сравнивать разные типы коллекций и выбирать наиболее подходящий для решения конкретных задач."
      ],
      "metadata": {
        "id": "9DK0_bxnxDFa"
      }
    },
    {
      "cell_type": "markdown",
      "source": [
        "### 3. Краткое содержание\n",
        "\n",
        "Здесь мы рассмотрим основные встроенные коллекции в Python: списки (list), кортежи (tuple), множества (set) и словари (dictionary). Каждая коллекция имеет свои особенности и применение, поэтому важно понять, когда и как использовать каждую из них. Также обсудим различия между изменяемыми и неизменяемыми объектами, которые влияют на поведение коллекций в памяти.\n",
        "\n",
        "---\n",
        "\n",
        "### 3.1. Хранение в памяти изменяемых и неизменяемых объектов\n",
        "\n",
        "**Изменяемость объектов**  \n",
        "Изменяемость — это способность объекта изменять свое состояние после создания. В Python есть изменяемые и неизменяемые объекты:\n",
        "\n",
        "- **Изменяемые (mutable) объекты**: Можно изменять их содержимое после создания. Примеры: списки, множества, словари.\n",
        "- **Неизменяемые (immutable) объекты**: Их содержимое нельзя изменить после создания. Примеры: кортежи, строки, числа.\n",
        "\n",
        "**Отличия в хранении**  \n",
        "1. **Изменяемые объекты**: При изменении содержимого объект остаётся в той же области памяти. Например, список можно обновлять, добавляя или удаляя элементы, и его местоположение в памяти не изменится.\n",
        "2. **Неизменяемые объекты**: При попытке изменить объект создается новая копия в другой области памяти. Это объясняет, почему строки и числа в Python неизменяемы: их изменение приводит к созданию нового объекта.\n",
        "\n",
        "**Примеры кода**:\n",
        "\n",
        "```python\n",
        "# Пример изменяемого объекта\n",
        "my_list = [1, 2, 3]\n",
        "my_list.append(4)  # my_list теперь [1, 2, 3, 4]\n",
        "\n",
        "# Пример неизменяемого объекта\n",
        "my_tuple = (1, 2, 3)\n",
        "# my_tuple[0] = 4  # Ошибка! Нельзя изменить кортеж\n",
        "```\n",
        "\n",
        "**Когда использовать изменяемые и неизменяемые объекты**:\n",
        "- Используйте изменяемые объекты, когда данные нужно модифицировать.\n",
        "- Используйте неизменяемые объекты, когда важно сохранить данные в неизменном виде, например, при передаче значений в функцию для предотвращения случайных изменений."
      ],
      "metadata": {
        "id": "OuR-p2A4y-JB"
      }
    },
    {
      "cell_type": "markdown",
      "source": [
        "### 3.2. Списки (List)\n",
        "\n",
        "Списки в Python — это изменяемые коллекции, которые позволяют хранить упорядоченные элементы. Каждый элемент в списке можно добавлять, изменять или удалять, и элементы могут быть любого типа.\n",
        "\n",
        "**Создание и инициализация списков**\n"
      ],
      "metadata": {
        "id": "rG3T4_yRy_rg"
      }
    },
    {
      "cell_type": "code",
      "source": [
        "# Создание пустого списка\n",
        "empty_list = []\n",
        "# также создать можно так\n",
        "# empty_list = list()\n",
        "\n",
        "\n",
        "# Список с элементами\n",
        "numbers = [1, 2, 3, 4, 5]\n",
        "words = [\"apple\", \"banana\", \"cherry\"]\n",
        "\n",
        "print(empty_list)  # []\n",
        "print(numbers)     # [1, 2, 3, 4, 5]\n",
        "print(words)       # ['apple', 'banana', 'cherry']"
      ],
      "metadata": {
        "colab": {
          "base_uri": "https://localhost:8080/"
        },
        "id": "scK4K3onzmv6",
        "outputId": "3a399855-f2ed-4fc9-ad32-c1e06ef332d3"
      },
      "execution_count": null,
      "outputs": [
        {
          "output_type": "stream",
          "name": "stdout",
          "text": [
            "[]\n",
            "[1, 2, 3, 4, 5]\n",
            "['apple', 'banana', 'cherry']\n"
          ]
        }
      ]
    },
    {
      "cell_type": "markdown",
      "source": [
        "**Добавление элементов**\n",
        "\n",
        "1. **append()**: Добавляет элемент в конец списка.\n"
      ],
      "metadata": {
        "id": "_EORgz-C0EWy"
      }
    },
    {
      "cell_type": "code",
      "source": [
        "fruits = [\"apple\", \"banana\"]\n",
        "fruits.append(\"cherry\")\n",
        "print(fruits)  # ['apple', 'banana', 'cherry']\n"
      ],
      "metadata": {
        "colab": {
          "base_uri": "https://localhost:8080/"
        },
        "id": "rykcNwWTzucu",
        "outputId": "cbb6d6f9-4f19-4f33-a86b-5c38bc3e9120"
      },
      "execution_count": null,
      "outputs": [
        {
          "output_type": "stream",
          "name": "stdout",
          "text": [
            "['apple', 'banana', 'cherry']\n"
          ]
        }
      ]
    },
    {
      "cell_type": "markdown",
      "source": [
        "2. **insert(index, element)**: Вставляет элемент на указанную позицию."
      ],
      "metadata": {
        "id": "seicuycY0IFW"
      }
    },
    {
      "cell_type": "code",
      "source": [
        "colors = [\"red\", \"blue\"]\n",
        "colors.insert(1, \"green\")\n",
        "print(colors)  # ['red', 'green', 'blue']"
      ],
      "metadata": {
        "id": "F4hO3QDR0NCc"
      },
      "execution_count": null,
      "outputs": []
    },
    {
      "cell_type": "markdown",
      "source": [
        "3. **extend(iterable)**: Расширяет список элементами из другого списка или итерируемого объекта.\n"
      ],
      "metadata": {
        "id": "wmYfmo7F0QFP"
      }
    },
    {
      "cell_type": "code",
      "source": [
        "numbers = [1, 2]\n",
        "more_numbers = [3, 4, 5]\n",
        "numbers.extend(more_numbers)\n",
        "print(numbers)  # [1, 2, 3, 4, 5]"
      ],
      "metadata": {
        "colab": {
          "base_uri": "https://localhost:8080/"
        },
        "id": "bF5jBEJT0Pz2",
        "outputId": "65aba940-2579-41c8-f52e-b272bc3b4ba3"
      },
      "execution_count": null,
      "outputs": [
        {
          "output_type": "stream",
          "name": "stdout",
          "text": [
            "[1, 2, 3, 4, 5]\n"
          ]
        }
      ]
    },
    {
      "cell_type": "markdown",
      "source": [
        "\n",
        "**Удаление элементов**\n",
        "\n",
        "1. **remove(element)**: Удаляет **первое вхождение** указанного элемента. Если элемент не найден, возникает ошибка."
      ],
      "metadata": {
        "id": "Meo5rAyL0TPa"
      }
    },
    {
      "cell_type": "code",
      "source": [
        "animals = [\"cat\", \"dog\", \"bird\", \"dog\"]\n",
        "animals.remove(\"dog\")\n",
        "print(animals)  # ['cat', 'bird', \"dog\"]"
      ],
      "metadata": {
        "colab": {
          "base_uri": "https://localhost:8080/"
        },
        "id": "Yio5eTfv0Vds",
        "outputId": "14c2982d-236d-4d71-c8e3-e752e92ea9d5"
      },
      "execution_count": null,
      "outputs": [
        {
          "output_type": "stream",
          "name": "stdout",
          "text": [
            "['cat', 'bird', 'dog']\n"
          ]
        }
      ]
    },
    {
      "cell_type": "markdown",
      "source": [
        "2. **pop(index)**: Удаляет элемент по индексу и возвращает его. Если индекс не указан, удаляет последний элемент."
      ],
      "metadata": {
        "id": "L_mJBf4r0fge"
      }
    },
    {
      "cell_type": "code",
      "source": [
        "letters = [\"a\", \"b\", \"c\", \"d\"]\n",
        "removed_letter = letters.pop(2)\n",
        "print(letters)        # ['a', 'b', 'd']\n",
        "print(removed_letter) # 'c'"
      ],
      "metadata": {
        "colab": {
          "base_uri": "https://localhost:8080/"
        },
        "id": "kXKL7d3U0kqA",
        "outputId": "0848bf75-0413-4918-b0d1-15b27d117cfe"
      },
      "execution_count": null,
      "outputs": [
        {
          "output_type": "stream",
          "name": "stdout",
          "text": [
            "['a', 'b', 'd']\n",
            "c\n"
          ]
        }
      ]
    },
    {
      "cell_type": "markdown",
      "source": [
        "3. **clear()**: Очищает список, удаляя все элементы."
      ],
      "metadata": {
        "id": "XbJ0xE4_0o9U"
      }
    },
    {
      "cell_type": "code",
      "source": [
        "items = [\"pen\", \"pencil\", \"eraser\"]\n",
        "items.clear()\n",
        "print(items)  # []"
      ],
      "metadata": {
        "id": "rZ6dRLKo0qKm"
      },
      "execution_count": null,
      "outputs": []
    },
    {
      "cell_type": "markdown",
      "source": [
        "**Изменение элементов**"
      ],
      "metadata": {
        "id": "N6ggHVRo0r49"
      }
    },
    {
      "cell_type": "code",
      "source": [
        "my_list = [10, 20, 30]\n",
        "my_list[1] = 25\n",
        "print(my_list)  # [10, 25, 30]"
      ],
      "metadata": {
        "colab": {
          "base_uri": "https://localhost:8080/"
        },
        "id": "jWTny0SR0vdm",
        "outputId": "028e742a-acfa-4a99-b532-00f8edfec6fa"
      },
      "execution_count": null,
      "outputs": [
        {
          "output_type": "stream",
          "name": "stdout",
          "text": [
            "[10, 25, 30]\n"
          ]
        }
      ]
    },
    {
      "cell_type": "markdown",
      "source": [
        "**Индексация и срезы**\n",
        "\n",
        "1. **Индексация**: Доступ к элементам по индексу."
      ],
      "metadata": {
        "id": "0LgHfjv10t2R"
      }
    },
    {
      "cell_type": "code",
      "source": [
        "names = [\"Alice\", \"Bob\", \"Charlie\"]\n",
        "print(names[0])  # 'Alice'\n",
        "print(names[-1]) # 'Charlie'"
      ],
      "metadata": {
        "id": "kQgfhAeU0zpP"
      },
      "execution_count": null,
      "outputs": []
    },
    {
      "cell_type": "markdown",
      "source": [
        "2. **Срезы**: Доступ к подспискам."
      ],
      "metadata": {
        "id": "6f9Hxjld01vy"
      }
    },
    {
      "cell_type": "code",
      "source": [
        "numbers = [1, 2, 3, 4, 5]\n",
        "print(numbers[1:4])  # [2, 3, 4]\n",
        "print(numbers[:3])   # [1, 2, 3]\n",
        "print(numbers[3:])   # [4, 5]"
      ],
      "metadata": {
        "colab": {
          "base_uri": "https://localhost:8080/"
        },
        "id": "mS3GNPq205Lq",
        "outputId": "1ed4ed75-73fa-407d-f300-ad9dbbe9aa0b"
      },
      "execution_count": null,
      "outputs": [
        {
          "output_type": "stream",
          "name": "stdout",
          "text": [
            "[2, 3, 4]\n",
            "[1, 2, 3]\n",
            "[4, 5]\n"
          ]
        }
      ]
    },
    {
      "cell_type": "markdown",
      "source": [
        "**Основные методы списков**\n",
        "\n",
        "1. **index(element, start, end)**: Возвращает индекс первого вхождения элемента. Можно указать диапазон поиска."
      ],
      "metadata": {
        "id": "SK8kD1_w086V"
      }
    },
    {
      "cell_type": "code",
      "source": [
        "fruits = [\"apple\", \"banana\", \"cherry\", \"banana\"]\n",
        "print(fruits.index(\"banana\"))  # 1"
      ],
      "metadata": {
        "id": "dNf63A700_q6"
      },
      "execution_count": null,
      "outputs": []
    },
    {
      "cell_type": "markdown",
      "source": [
        "2. **count(element)**: Возвращает количество вхождений элемента в списке."
      ],
      "metadata": {
        "id": "ry8F6uR20-1z"
      }
    },
    {
      "cell_type": "code",
      "source": [
        "numbers = [1, 2, 2, 3, 4, 2]\n",
        "print(numbers.count(2))  # 3"
      ],
      "metadata": {
        "id": "hKKt9Ci61Gxd"
      },
      "execution_count": null,
      "outputs": []
    },
    {
      "cell_type": "markdown",
      "source": [
        "3. **sort()**: Сортирует список на месте в порядке возрастания."
      ],
      "metadata": {
        "id": "tdr-lhA_1ILN"
      }
    },
    {
      "cell_type": "markdown",
      "source": [
        "scores = [40, 10, 30, 20]\n",
        "scores.sort()\n",
        "print(scores)  # [10, 20, 30, 40]"
      ],
      "metadata": {
        "id": "dMWB7sdO1KhD"
      }
    },
    {
      "cell_type": "markdown",
      "source": [
        "4. **reverse()**: Изменяет порядок элементов в списке на обратный."
      ],
      "metadata": {
        "id": "pOP9Lbor1Mpx"
      }
    },
    {
      "cell_type": "code",
      "source": [
        "days = [\"Mon\", \"Tue\", \"Wed\"]\n",
        "days.reverse()\n",
        "print(days)  # ['Wed', 'Tue', 'Mon']"
      ],
      "metadata": {
        "id": "LFg87fV61TRe"
      },
      "execution_count": null,
      "outputs": []
    },
    {
      "cell_type": "markdown",
      "source": [
        "5. **copy()**: Создает копию списка.\n"
      ],
      "metadata": {
        "id": "mqpQ3fFS1R2e"
      }
    },
    {
      "cell_type": "code",
      "source": [
        "original = [1, 2, 3]\n",
        "copy_list = original.copy()\n",
        "print(copy_list)  # [1, 2, 3]"
      ],
      "metadata": {
        "id": "FfNvTM-U1Xxt"
      },
      "execution_count": null,
      "outputs": []
    },
    {
      "cell_type": "markdown",
      "source": [
        "**Примеры объединения методов**:"
      ],
      "metadata": {
        "id": "FDxQTdDa1XMs"
      }
    },
    {
      "cell_type": "code",
      "source": [
        "# Сортировка и реверс\n",
        "data = [5, 2, 9, 1, 5, 6]\n",
        "data.sort()\n",
        "data.reverse()\n",
        "print(data)  # [9, 6, 5, 5, 2, 1]"
      ],
      "metadata": {
        "id": "qR1-cqUA1bGF"
      },
      "execution_count": null,
      "outputs": []
    },
    {
      "cell_type": "markdown",
      "source": [
        "### Ссылочность и копирование списков\n",
        "\n",
        "Когда мы работаем со списками в Python, важно понимать, что они являются изменяемыми объектами. Это означает, что при присваивании одного списка другому копируется не сам список, а только ссылка на него. В результате изменения в одном списке могут неожиданно отразиться в другом.\n",
        "\n",
        "---\n",
        "\n",
        "**Пример ссылочности**"
      ],
      "metadata": {
        "id": "Wz5k_dYZ18yH"
      }
    },
    {
      "cell_type": "code",
      "source": [
        "list_a = [1, 2, 3]\n",
        "list_b = list_a  # list_b теперь ссылается на тот же объект, что и list_a\n",
        "list_b[0] = 99\n",
        "\n",
        "print(list_a)  # [99, 2, 3] - изменения в list_b повлияли на list_a"
      ],
      "metadata": {
        "colab": {
          "base_uri": "https://localhost:8080/"
        },
        "id": "bFDcKm3n2D2f",
        "outputId": "b00cc9b6-8d89-4184-c695-397109e63387"
      },
      "execution_count": null,
      "outputs": [
        {
          "output_type": "stream",
          "name": "stdout",
          "text": [
            "[99, 2, 3]\n"
          ]
        }
      ]
    },
    {
      "cell_type": "markdown",
      "source": [
        "Здесь `list_b` ссылается на тот же объект, что и `list_a`. Из-за этого любые изменения, внесенные в один список, отразятся в другом."
      ],
      "metadata": {
        "id": "SMd0COe-2ApV"
      }
    },
    {
      "cell_type": "markdown",
      "source": [
        "---\n",
        "\n",
        "### Зачем копировать списки\n",
        "\n",
        "Чтобы избежать подобных ситуаций, когда изменения в одном списке нежелательно отражаются в другом, можно создавать копии списков. Python предоставляет два способа для этого:\n",
        "\n",
        "1. **Метод copy()**: Создает поверхностную копию списка.\n",
        "2. **Модуль copy и функция deepcopy()**: Используются для создания глубоких копий.\n",
        "\n",
        "---\n",
        "\n",
        "### Поверхностная копия\n",
        "\n",
        "Метод `copy()` создает новую копию списка. Однако если список содержит вложенные объекты (например, другие списки), то копируются только ссылки на эти вложенные объекты, а не сами объекты."
      ],
      "metadata": {
        "id": "dIAh_SH52Hi7"
      }
    },
    {
      "cell_type": "code",
      "source": [
        "import copy\n",
        "\n",
        "original = [1, 2, [3, 4]]\n",
        "shallow_copy = original.copy()\n",
        "\n",
        "shallow_copy[2][0] = 99  # Изменим вложенный список\n",
        "\n",
        "print(original)      # [1, 2, [99, 4]] - вложенный объект был изменен\n",
        "print(shallow_copy)  # [1, 2, [99, 4]] - копия тоже изменилась\n",
        "\n",
        "shallow_copy.append(5)  # Добавим элемент в конец копии списка\n",
        "\n",
        "print(original)      # [1, 2, [99, 4]] - исходный список не изменился\n",
        "print(shallow_copy)  # [1, 2, [99, 4], 5] - элемент добавился только в копию\n"
      ],
      "metadata": {
        "colab": {
          "base_uri": "https://localhost:8080/"
        },
        "id": "KeV9PisL2Mb7",
        "outputId": "ea194729-4c44-4fd7-a318-1fe7d1d23cee"
      },
      "execution_count": null,
      "outputs": [
        {
          "output_type": "stream",
          "name": "stdout",
          "text": [
            "[1, 2, [99, 4]]\n",
            "[1, 2, [99, 4]]\n"
          ]
        }
      ]
    },
    {
      "cell_type": "markdown",
      "source": [
        "**Комментарии**:  \n",
        "- Вложенные объекты (например, списки) остаются связанными между оригиналом и поверхностной копией, поэтому изменения внутри вложенных объектов затрагивают обе структуры.\n",
        "- Однако, если вы добавляете или удаляете элементы на верхнем уровне списка (не в вложенных объектах), это изменение отражается только на копии, не затрагивая оригинал."
      ],
      "metadata": {
        "id": "sQYmnqAI2ygt"
      }
    },
    {
      "cell_type": "markdown",
      "source": [
        "---\n",
        "\n",
        "### Глубокая копия\n",
        "\n",
        "Функция `copy.deepcopy()` создает полную копию объекта, включая все вложенные структуры данных. Изменения в копии никак не повлияют на исходный объект."
      ],
      "metadata": {
        "id": "bCeJZrAd244r"
      }
    },
    {
      "cell_type": "code",
      "source": [
        "import copy\n",
        "\n",
        "original = [1, 2, [3, 4]]\n",
        "deep_copy = copy.deepcopy(original)\n",
        "\n",
        "deep_copy[2][0] = 99  # Изменим вложенный список\n",
        "\n",
        "print(original)   # [1, 2, [3, 4]] - исходный список не изменился\n",
        "print(deep_copy)  # [1, 2, [99, 4]] - изменения отразились только в копии"
      ],
      "metadata": {
        "colab": {
          "base_uri": "https://localhost:8080/"
        },
        "id": "_jGyfCAK3Bin",
        "outputId": "a9fae0c0-1024-4de3-87f2-2fe4850bf96a"
      },
      "execution_count": null,
      "outputs": [
        {
          "output_type": "stream",
          "name": "stdout",
          "text": [
            "[1, 2, [3, 4]]\n",
            "[1, 2, [99, 4]]\n"
          ]
        }
      ]
    },
    {
      "cell_type": "markdown",
      "source": [
        "\n",
        "### Когда использовать поверхностное и глубокое копирование\n",
        "\n",
        "- **Поверхностное копирование** подходит, если ваш список содержит только простые элементы, такие как числа или строки.\n",
        "- **Глубокое копирование** необходимо, если список содержит вложенные изменяемые объекты и вы хотите полностью изолировать копию от оригинала.\n"
      ],
      "metadata": {
        "id": "YVPZMCbR3F5w"
      }
    },
    {
      "cell_type": "markdown",
      "source": [
        "Списки в Python обладают гибкостью и мощью, что делает их подходящими для множества задач. Хорошо освоив эти методы, вы сможете эффективно работать с данными в своих программах."
      ],
      "metadata": {
        "id": "GIA5JWA91eTp"
      }
    },
    {
      "cell_type": "markdown",
      "source": [
        "---\n",
        "\n",
        "### Задания по спискам\n",
        "\n",
        "1. **Задание 1**:  \n",
        "   Создайте список чисел от 1 до 10. Удалите все четные числа из списка и выведите результат.\n",
        "\n",
        "2. **Задание 2**:  \n",
        "   Дано: список `words = [\"apple\", \"banana\", \"cherry\", \"date\", \"fig\", \"grape\"]`.  \n",
        "   Используя срезы, создайте новый список, содержащий только первые три элемента, и выведите его.\n",
        "\n",
        "3. **Задание 3**:  \n",
        "   Дано: список `numbers = [5, 3, 8, 6, 2, 9, 1]`.  \n",
        "   Отсортируйте этот список в порядке убывания и выведите результат.\n",
        "\n",
        "4. **Задание 4**:  \n",
        "   Создайте список имен `names = [\"Alice\", \"Bob\", \"Charlie\", \"David\"]`. Замените имя \"Charlie\" на \"Eve\" и выведите измененный список.\n",
        "\n",
        "Попробуйте сначала решить задания самостоятельно, а затем проверьте свои ответы!\n",
        "\n",
        "---\n",
        "\n"
      ],
      "metadata": {
        "id": "AtRtiYPrxXoc"
      }
    },
    {
      "cell_type": "markdown",
      "source": [
        "### Ответы к заданиям\n",
        "\n",
        "1. **Ответ 1**:"
      ],
      "metadata": {
        "id": "bocRIPrSzoOZ"
      }
    },
    {
      "cell_type": "code",
      "source": [
        "numbers = list(range(1, 11))\n",
        "for number in numbers.copy():  # Итерируемся по копии списка, созданной с помощью .copy()\n",
        "    if number % 2 == 0:\n",
        "        numbers.remove(number)\n",
        "print(numbers)  # [1, 3, 5, 7, 9]"
      ],
      "metadata": {
        "colab": {
          "base_uri": "https://localhost:8080/"
        },
        "id": "dmTZsWuzx3hX",
        "outputId": "069e53a3-e7aa-4d79-c482-9bf7e58cf29c"
      },
      "execution_count": null,
      "outputs": [
        {
          "output_type": "stream",
          "name": "stdout",
          "text": [
            "[1, 3, 5, 7, 9]\n"
          ]
        }
      ]
    },
    {
      "cell_type": "markdown",
      "source": [
        "\n",
        "2. **Ответ 2**:"
      ],
      "metadata": {
        "id": "2MLsibYgx89E"
      }
    },
    {
      "cell_type": "code",
      "source": [
        "words = [\"apple\", \"banana\", \"cherry\", \"date\", \"fig\",\n",
        "\"grape\"]\n",
        "first_three = words[:3]\n",
        "print(first_three)  # ['apple', 'banana', 'cherry']"
      ],
      "metadata": {
        "colab": {
          "base_uri": "https://localhost:8080/"
        },
        "id": "VzGgf17cx_dw",
        "outputId": "d1e5f38a-432a-4fe8-9857-eb2520286c9c"
      },
      "execution_count": null,
      "outputs": [
        {
          "output_type": "stream",
          "name": "stdout",
          "text": [
            "['apple', 'banana', 'cherry']\n"
          ]
        }
      ]
    },
    {
      "cell_type": "markdown",
      "source": [
        "\n",
        "3. **Ответ 3**:"
      ],
      "metadata": {
        "id": "_Ip2DZWoyB9S"
      }
    },
    {
      "cell_type": "code",
      "source": [
        "numbers = [5, 3, 8, 6, 2, 9, 1]\n",
        "numbers.sort(reverse=True)\n",
        "print(numbers)  # [9, 8, 6, 5, 3, 2, 1]"
      ],
      "metadata": {
        "colab": {
          "base_uri": "https://localhost:8080/"
        },
        "id": "zNlZ-Dv8yDtH",
        "outputId": "53d06797-1a1b-4cb0-e910-ee287e4b5089"
      },
      "execution_count": null,
      "outputs": [
        {
          "output_type": "stream",
          "name": "stdout",
          "text": [
            "[9, 8, 6, 5, 3, 2, 1]\n"
          ]
        }
      ]
    },
    {
      "cell_type": "markdown",
      "source": [
        "\n",
        "4. **Ответ 4**:"
      ],
      "metadata": {
        "id": "IA1uE1FQyFZO"
      }
    },
    {
      "cell_type": "code",
      "source": [
        "names = [\"Alice\", \"Bob\", \"Charlie\", \"David\"]\n",
        "names[2] = \"Eve\"\n",
        "print(names)  # ['Alice', 'Bob', 'Eve', 'David']"
      ],
      "metadata": {
        "colab": {
          "base_uri": "https://localhost:8080/"
        },
        "id": "5rTo68IQyHB6",
        "outputId": "2469dfb4-3207-4f34-bbbc-eafc9e088b35"
      },
      "execution_count": null,
      "outputs": [
        {
          "output_type": "stream",
          "name": "stdout",
          "text": [
            "['Alice', 'Bob', 'Eve', 'David']\n"
          ]
        }
      ]
    },
    {
      "cell_type": "markdown",
      "source": [
        "### 3.3. Кортежи (Tuple)\n",
        "\n",
        "Кортежи в Python — это неизменяемые упорядоченные коллекции данных. Они похожи на списки, но отличаются тем, что их содержимое нельзя изменить после создания. Это делает кортежи более защищенными от случайных изменений и эффективными в плане производительности.\n",
        "\n",
        "---\n",
        "\n",
        "**Создание кортежей**\n",
        "\n",
        "1. **С использованием круглых скобок**:\n"
      ],
      "metadata": {
        "id": "LzcPQT7D3LlE"
      }
    },
    {
      "cell_type": "code",
      "source": [
        "my_tuple = (1, 2, 3)\n",
        "print(my_tuple)  # (1, 2, 3)"
      ],
      "metadata": {
        "id": "MuRkGGIW3mkF"
      },
      "execution_count": null,
      "outputs": []
    },
    {
      "cell_type": "markdown",
      "source": [
        "2. **Кортеж из одного элемента**: Важно добавить запятую после элемента."
      ],
      "metadata": {
        "id": "YekoA2zI3oAy"
      }
    },
    {
      "cell_type": "code",
      "source": [
        "single_element_tuple = (5,)\n",
        "print(single_element_tuple)  # (5,) - кортеж из одного элемента\n",
        "print(type(single_element_tuple))  # <class 'tuple'> - тип данных: кортеж\n",
        "\n",
        "single_element_tuple = (5)\n",
        "print(single_element_tuple)  # 5 - это не кортеж, а просто число\n",
        "print(type(single_element_tuple))  # <class 'int'> - тип данных: целое число\n"
      ],
      "metadata": {
        "colab": {
          "base_uri": "https://localhost:8080/"
        },
        "id": "G7cH-_303rsk",
        "outputId": "b7e9a90f-2716-4d27-d819-9459ca2430c8"
      },
      "execution_count": null,
      "outputs": [
        {
          "output_type": "stream",
          "name": "stdout",
          "text": [
            "(5,)\n",
            "<class 'tuple'>\n",
            "5\n",
            "<class 'int'>\n"
          ]
        }
      ]
    },
    {
      "cell_type": "markdown",
      "source": [
        "**Комментарии**:  \n",
        "- Чтобы создать кортеж из одного элемента, необходимо использовать запятую после элемента: `(5,)`. Без запятой Python интерпретирует скобки как обычные и вычисляет содержимое, в данном случае возвращая число `5`.\n",
        "- Скобки без запятой не делают объект кортежем, поэтому `type()` возвращает `<class 'int'>`."
      ],
      "metadata": {
        "id": "veM14FS94FcT"
      }
    },
    {
      "cell_type": "markdown",
      "source": [
        "\n",
        "3. **Кортежи можно создавать без скобок (упаковка кортежа)**:"
      ],
      "metadata": {
        "id": "kvZsDqia4Hiq"
      }
    },
    {
      "cell_type": "code",
      "source": [
        "another_tuple = 4, 5, 6\n",
        "print(another_tuple)  # (4, 5, 6)"
      ],
      "metadata": {
        "id": "TlIXoDZt4NTI"
      },
      "execution_count": null,
      "outputs": []
    },
    {
      "cell_type": "markdown",
      "source": [
        "4. **Преобразование списка в кортеж**:"
      ],
      "metadata": {
        "id": "nbSw2Gnu4M88"
      }
    },
    {
      "cell_type": "code",
      "source": [
        "list_data = [10, 20, 30]\n",
        "tuple_data = tuple(list_data)\n",
        "print(tuple_data)  # (10, 20, 30)"
      ],
      "metadata": {
        "id": "rKmRgee64PWK"
      },
      "execution_count": null,
      "outputs": []
    },
    {
      "cell_type": "markdown",
      "source": [
        "- **Неизменяемость**: После создания кортежа его элементы нельзя изменить, добавить или удалить. Это делает кортежи полезными для хранения данных, которые не должны изменяться в ходе выполнения программы.\n",
        "  \n",
        "```python\n",
        "immutable_tuple = (1, 2, 3)\n",
        "# immutable_tuple[0] = 10  # Ошибка! Нельзя изменить элемент кортежа\n",
        "```\n",
        "\n",
        "- **Эффективность**: Кортежи обычно быстрее обрабатываются, чем списки, из-за неизменяемости, что делает их предпочтительными для данных, которые не меняются.\n",
        "\n",
        "---\n",
        "\n",
        "**Применение кортежей в программах**\n",
        "\n",
        "Кортежи часто используются для:\n",
        "\n",
        "1. **Хранения неизменяемых данных**: Например, координаты (x, y) или параметры конфигурации.\n",
        "2. **Возврата нескольких значений из функции**:\n"
      ],
      "metadata": {
        "id": "JL0j-b5P4Tmv"
      }
    },
    {
      "cell_type": "code",
      "source": [
        "def get_coordinates():\n",
        "    return (10.5, 20.3)\n",
        "\n",
        "x, y = get_coordinates()\n",
        "print(x)  # 10.5\n",
        "print(y)  # 20.3"
      ],
      "metadata": {
        "id": "vF46B2_g4oYX"
      },
      "execution_count": null,
      "outputs": []
    },
    {
      "cell_type": "markdown",
      "source": [
        "\n",
        "3. **Использования в качестве ключей словарей**: Так как кортежи неизменяемы, они могут быть ключами в словарях, в отличие от списков.\n",
        "\n",
        "---\n",
        "\n",
        "**Методы кортежей**\n",
        "\n",
        "Кортежи имеют ограниченное количество методов по сравнению со списками, поскольку они неизменяемы:\n",
        "\n",
        "1. **count(element)**: Возвращает количество вхождений элемента в кортеже."
      ],
      "metadata": {
        "id": "3t_GFJKa4mc-"
      }
    },
    {
      "cell_type": "code",
      "source": [
        "numbers = (1, 2, 2, 3, 4)\n",
        "print(numbers.count(2))  # 2 - число 2 встречается дважды"
      ],
      "metadata": {
        "id": "Kitph-QY4xzb"
      },
      "execution_count": null,
      "outputs": []
    },
    {
      "cell_type": "markdown",
      "source": [
        "2. **index(element)**: Возвращает индекс первого вхождения элемента. Если элемент не найден, выбрасывается ошибка."
      ],
      "metadata": {
        "id": "VF9lIWq64mQV"
      }
    },
    {
      "cell_type": "code",
      "source": [
        "animals = (\"cat\", \"dog\", \"bird\")\n",
        "print(animals.index(\"dog\"))  # 1 - индекс элемента \"dog\""
      ],
      "metadata": {
        "id": "vC6G-zes411Y"
      },
      "execution_count": null,
      "outputs": []
    },
    {
      "cell_type": "markdown",
      "source": [
        "\n",
        "---\n",
        "\n",
        "**Примеры использования кортежей в реальных программах**\n",
        "\n",
        "1. **Защита данных**: Кортежи используются, когда необходимо гарантировать, что данные не будут изменены.\n",
        "2. **Экономия памяти**: Кортежи занимают меньше памяти, чем списки, поэтому их использование предпочтительно для больших наборов данных, которые не будут изменяться.\n",
        "3. **Функции с переменным количеством аргументов**: Кортежи часто используются для обработки переменного количества аргументов в функциях."
      ],
      "metadata": {
        "id": "AdAmcxM644M8"
      }
    },
    {
      "cell_type": "code",
      "source": [
        "def print_args(*args):\n",
        "    print(args)  # args будет кортежем всех переданных аргументов\n",
        "\n",
        "print_args(1, 2, 3)  # (1, 2, 3)"
      ],
      "metadata": {
        "colab": {
          "base_uri": "https://localhost:8080/"
        },
        "id": "IgyDBp1t46L5",
        "outputId": "5a54de26-3e11-4712-974a-056c53c1ef79"
      },
      "execution_count": null,
      "outputs": [
        {
          "output_type": "stream",
          "name": "stdout",
          "text": [
            "(1, 2, 3)\n"
          ]
        }
      ]
    },
    {
      "cell_type": "markdown",
      "source": [
        "### Использование copy и deepcopy с кортежами\n",
        "\n",
        "Хотя кортежи в Python являются неизменяемыми, важно понимать, как они могут содержать изменяемые объекты, что влияет на необходимость использования копирования. Если кортеж состоит исключительно из неизменяемых элементов (числа, строки и т.п.), копирование не нужно, так как сами данные не могут быть изменены. Однако, если внутри кортежа есть изменяемые объекты, такие как списки, нужно быть осторожным.\n",
        "\n",
        "**Поверхностное копирование (copy)**  \n",
        "Поверхностная копия кортежа сохраняет ссылки на вложенные изменяемые объекты. Если изменить один из вложенных объектов, это изменение отразится и в оригинальном кортеже.\n"
      ],
      "metadata": {
        "id": "8Xj3JdxD8Aho"
      }
    },
    {
      "cell_type": "code",
      "source": [
        "import copy\n",
        "\n",
        "nested_tuple = (1, 2, [3, 4])\n",
        "shallow_copy = copy.copy(nested_tuple)\n",
        "\n",
        "shallow_copy[2][0] = 99  # Изменим вложенный список\n",
        "print(nested_tuple)      # (1, 2, [99, 4]) - оригинал тоже изменился\n",
        "print(shallow_copy)      # (1, 2, [99, 4]) - копия отразила изменение"
      ],
      "metadata": {
        "id": "uZmoK6hR8DUb"
      },
      "execution_count": null,
      "outputs": []
    },
    {
      "cell_type": "markdown",
      "source": [
        "\n",
        "**Глубокое копирование (deepcopy)**  \n",
        "Глубокая копия создает независимую копию всех вложенных объектов. Это гарантирует, что изменения в копии не затронут оригинальный кортеж."
      ],
      "metadata": {
        "id": "GP9KHFfO8Jy0"
      }
    },
    {
      "cell_type": "code",
      "source": [
        "import copy\n",
        "\n",
        "nested_tuple = (1, 2, [3, 4])\n",
        "deep_copy = copy.deepcopy(nested_tuple)\n",
        "\n",
        "deep_copy[2][0] = 99  # Изменим вложенный список\n",
        "print(nested_tuple)   # (1, 2, [3, 4]) - оригинал остался неизменным\n",
        "print(deep_copy)      # (1, 2, [99, 4]) - изменения только в копии"
      ],
      "metadata": {
        "id": "_bKbnMZN8KRD"
      },
      "execution_count": null,
      "outputs": []
    },
    {
      "cell_type": "markdown",
      "source": [
        "\n",
        "**Когда использовать**:\n",
        "- **copy()**: Используйте для простых кортежей без изменяемых объектов.\n",
        "- **deepcopy()**: Необходим, если кортеж содержит изменяемые объекты, и вы хотите избежать непредвиденных изменений в оригинале."
      ],
      "metadata": {
        "id": "ZB3r5eqR8NrI"
      }
    },
    {
      "cell_type": "markdown",
      "source": [
        "**Заключение**:  \n",
        "Кортежи — это мощный инструмент для работы с неизменяемыми данными. Они обеспечивают защиту от случайных изменений и оптимизацию производительности, что делает их важной частью языка Python."
      ],
      "metadata": {
        "id": "pUsCLIgs5BkF"
      }
    },
    {
      "cell_type": "markdown",
      "source": [
        "### Задания по кортежам\n",
        "\n",
        "1. **Задание 1**:  \n",
        "   Создайте кортеж из чисел от 1 до 5. Преобразуйте его в список, добавьте число 6, и преобразуйте обратно в кортеж. Выведите результат.\n",
        "\n",
        "2. **Задание 2**:  \n",
        "   Дано: кортеж `fruits = (\"apple\", \"banana\", \"cherry\", \"date\")`.  \n",
        "   Используя срезы, создайте новый кортеж, содержащий только первые два элемента, и выведите его.\n",
        "\n",
        "3. **Задание 3**:  \n",
        "   Дано: кортеж `info = (\"John\", \"Doe\", 30, \"New York\")`.  \n",
        "   Извлеките и выведите имя и фамилию как отдельные переменные.\n",
        "\n",
        "4. **Задание 4**:  \n",
        "   Создайте кортеж `data = (10, 20, 30, 40, 50)`. Используя метод распаковки, присвойте первые два значения переменным `a` и `b`, а остальные значения соберите в переменную `others`. Выведите `a`, `b` и `others`.\n",
        "\n",
        "Попробуйте сначала решить задания самостоятельно, а затем проверьте свои ответы!\n",
        "---"
      ],
      "metadata": {
        "id": "XvC0gNk_ywTY"
      }
    },
    {
      "cell_type": "markdown",
      "source": [
        "### Ответы к заданиям\n",
        "\n",
        "1. **Ответ 1**:"
      ],
      "metadata": {
        "id": "OXq2Z0RFy0S1"
      }
    },
    {
      "cell_type": "code",
      "source": [
        "numbers_tuple = (1, 2, 3, 4, 5)\n",
        "numbers_list = list(numbers_tuple)\n",
        "numbers_list.append(6)\n",
        "updated_tuple = tuple(numbers_list)\n",
        "print(updated_tuple)  # (1, 2, 3, 4, 5, 6)"
      ],
      "metadata": {
        "colab": {
          "base_uri": "https://localhost:8080/"
        },
        "id": "BdmHITBryz3B",
        "outputId": "33f223bd-2b52-4a86-d761-5ab946007c87"
      },
      "execution_count": null,
      "outputs": [
        {
          "output_type": "stream",
          "name": "stdout",
          "text": [
            "(1, 2, 3, 4, 5, 6)\n"
          ]
        }
      ]
    },
    {
      "cell_type": "markdown",
      "source": [
        "\n",
        "2. **Ответ 2**:"
      ],
      "metadata": {
        "id": "cuppfVjey33b"
      }
    },
    {
      "cell_type": "code",
      "source": [
        "fruits = (\"apple\", \"banana\", \"cherry\", \"date\")\n",
        "first_two = fruits[:2]\n",
        "print(first_two)  # ('apple', 'banana')"
      ],
      "metadata": {
        "colab": {
          "base_uri": "https://localhost:8080/"
        },
        "id": "-JWM-jdry5HQ",
        "outputId": "14b9f12b-650e-4904-9959-97bbf8f1022f"
      },
      "execution_count": null,
      "outputs": [
        {
          "output_type": "stream",
          "name": "stdout",
          "text": [
            "('apple', 'banana')\n"
          ]
        }
      ]
    },
    {
      "cell_type": "markdown",
      "source": [
        "\n",
        "3. **Ответ 3**:"
      ],
      "metadata": {
        "id": "WS_rxBRmy69z"
      }
    },
    {
      "cell_type": "code",
      "source": [
        "info = (\"John\", \"Doe\", 30, \"New York\")\n",
        "first_name = info[0]\n",
        "last_name = info[1]\n",
        "print(first_name)  # John\n",
        "print(last_name)   # Doe"
      ],
      "metadata": {
        "colab": {
          "base_uri": "https://localhost:8080/"
        },
        "id": "eUXohZBLy96o",
        "outputId": "42b3df4d-bafe-4488-ec09-b2a107a5ca41"
      },
      "execution_count": null,
      "outputs": [
        {
          "output_type": "stream",
          "name": "stdout",
          "text": [
            "John\n",
            "Doe\n"
          ]
        }
      ]
    },
    {
      "cell_type": "markdown",
      "source": [
        "\n",
        "4. **Ответ 4**:"
      ],
      "metadata": {
        "id": "aodZsaEHy_Vq"
      }
    },
    {
      "cell_type": "code",
      "source": [
        "data = (10, 20, 30, 40, 50)\n",
        "a, b, *others = data\n",
        "print(a)       # 10\n",
        "print(b)       # 20\n",
        "print(others)  # [30, 40, 50]"
      ],
      "metadata": {
        "colab": {
          "base_uri": "https://localhost:8080/"
        },
        "id": "yWIvF0Y5zAt4",
        "outputId": "c3e464db-a01a-4574-f92a-ae78978492fc"
      },
      "execution_count": null,
      "outputs": [
        {
          "output_type": "stream",
          "name": "stdout",
          "text": [
            "10\n",
            "20\n",
            "[30, 40, 50]\n"
          ]
        }
      ]
    },
    {
      "cell_type": "markdown",
      "source": [
        "### 3.4. Множества (Set)\n",
        "\n",
        "Множества в Python — это изменяемые коллекции, которые хранят уникальные, неупорядоченные элементы. Они полезны, когда нужно избавиться от дубликатов или выполнять математические операции над множествами, такие как объединение, пересечение и разность.\n",
        "\n",
        "---\n",
        "\n",
        "**Создание множеств**\n",
        "\n",
        "1. **Создание с помощью фигурных скобок**:\n"
      ],
      "metadata": {
        "id": "JN6dhxBh5tQW"
      }
    },
    {
      "cell_type": "code",
      "source": [
        "my_set = {1, 2, 3, 4}\n",
        "print(my_set)  # {1, 2, 3, 4}"
      ],
      "metadata": {
        "id": "ebZhtouc5xF8"
      },
      "execution_count": null,
      "outputs": []
    },
    {
      "cell_type": "markdown",
      "source": [
        "2. **Создание с помощью функции set()**:\n"
      ],
      "metadata": {
        "id": "y7bFuhhv5y5w"
      }
    },
    {
      "cell_type": "code",
      "source": [
        "empty_set = set()  # Пустое множество\n",
        "print(empty_set)  # set()\n",
        "\n",
        "# Создание множества из списка\n",
        "numbers = set([1, 2, 3, 2, 1])\n",
        "print(numbers)  # {1, 2, 3} - дубликаты удалены"
      ],
      "metadata": {
        "id": "CCfAP5_o53_A"
      },
      "execution_count": null,
      "outputs": []
    },
    {
      "cell_type": "markdown",
      "source": [
        "\n",
        "> **Примечание**: Пустое множество нельзя создать с помощью `{}` — это создаст пустой словарь, а не множество.\n",
        "\n",
        "---\n",
        "\n",
        "**Уникальность элементов**\n",
        "\n",
        "Множество автоматически удаляет все дубликаты, оставляя только уникальные элементы:"
      ],
      "metadata": {
        "id": "fie7yH9g578d"
      }
    },
    {
      "cell_type": "code",
      "source": [
        "mixed = {1, 2, 2, 3, 4, 4, 5}\n",
        "print(mixed)  # {1, 2, 3, 4, 5} - дубликаты убраны"
      ],
      "metadata": {
        "colab": {
          "base_uri": "https://localhost:8080/"
        },
        "id": "-5EuJtZV6BEV",
        "outputId": "b7199c06-bc1b-4a8b-cd18-358d596fd212"
      },
      "execution_count": null,
      "outputs": [
        {
          "output_type": "stream",
          "name": "stdout",
          "text": [
            "{1, 2, 3, 4, 5}\n"
          ]
        }
      ]
    },
    {
      "cell_type": "markdown",
      "source": [
        "\n",
        "---\n",
        "\n",
        "**Основные операции с множествами**\n",
        "\n",
        "1. **Объединение (union)**: Возвращает новое множество, содержащее все уникальные элементы обоих множеств.\n"
      ],
      "metadata": {
        "id": "VA2WsiC46E13"
      }
    },
    {
      "cell_type": "code",
      "source": [
        "set_a = {1, 2, 3}\n",
        "set_b = {3, 4, 5}\n",
        "union_set = set_a.union(set_b)\n",
        "print(union_set)  # {1, 2, 3, 4, 5}\n",
        "\n",
        "# Использование оператора |\n",
        "union_set = set_a | set_b\n",
        "print(union_set)  # {1, 2, 3, 4, 5}"
      ],
      "metadata": {
        "colab": {
          "base_uri": "https://localhost:8080/"
        },
        "id": "Laqx5dxH6EPt",
        "outputId": "a9d4ad68-546b-4c21-ec3f-e2b1c611248d"
      },
      "execution_count": null,
      "outputs": [
        {
          "output_type": "stream",
          "name": "stdout",
          "text": [
            "{1, 2, 3, 4, 5}\n",
            "{1, 2, 3, 4, 5}\n"
          ]
        }
      ]
    },
    {
      "cell_type": "markdown",
      "source": [
        "2. **Пересечение (intersection)**: Возвращает новое множество, содержащее элементы, которые есть в обоих множествах."
      ],
      "metadata": {
        "id": "q-LL8Joi6Jf0"
      }
    },
    {
      "cell_type": "code",
      "source": [
        "set_a = {1, 2, 3}\n",
        "set_b = {2, 3, 4}\n",
        "intersection_set = set_a.intersection(set_b)\n",
        "print(intersection_set)  # {2, 3}\n",
        "\n",
        "# Использование оператора &\n",
        "intersection_set = set_a & set_b\n",
        "print(intersection_set)  # {2, 3}"
      ],
      "metadata": {
        "id": "8SQy1KaB6LZV"
      },
      "execution_count": null,
      "outputs": []
    },
    {
      "cell_type": "markdown",
      "source": [
        "\n",
        "3. **Разность (difference)**: Возвращает новое множество, содержащее элементы, которые есть в первом множестве, но отсутствуют во втором.\n"
      ],
      "metadata": {
        "id": "T15atEMY6R1j"
      }
    },
    {
      "cell_type": "code",
      "source": [
        "set_a = {1, 2, 3}\n",
        "set_b = {2, 3, 4}\n",
        "difference_set = set_a.difference(set_b)\n",
        "print(difference_set)  # {1}\n",
        "\n",
        "# Использование оператора -\n",
        "difference_set = set_a - set_b\n",
        "print(difference_set)  # {1}"
      ],
      "metadata": {
        "id": "FgX4BDie6THt"
      },
      "execution_count": null,
      "outputs": []
    },
    {
      "cell_type": "markdown",
      "source": [
        "4. **Симметрическая разность (symmetric difference)**: Возвращает новое множество, содержащее элементы, которые есть в одном из множеств, но отсутствуют в обоих."
      ],
      "metadata": {
        "id": "3bwjtWSk6UkT"
      }
    },
    {
      "cell_type": "code",
      "source": [
        "set_a = {1, 2, 3}\n",
        "set_b = {3, 4, 5}\n",
        "symmetric_difference_set = set_a.symmetric_difference(set_b)\n",
        "print(symmetric_difference_set)  # {1, 2, 4, 5}\n",
        "\n",
        "# Использование оператора ^\n",
        "symmetric_difference_set = set_a ^ set_b\n",
        "print(symmetric_difference_set)  # {1, 2, 4, 5}"
      ],
      "metadata": {
        "id": "2mGxkZNV6WIK"
      },
      "execution_count": null,
      "outputs": []
    },
    {
      "cell_type": "markdown",
      "source": [
        "**Методы множеств**\n",
        "\n",
        "1. **add(element)**: Добавляет элемент в множество.\n"
      ],
      "metadata": {
        "id": "6Jh_2ALc6X9e"
      }
    },
    {
      "cell_type": "code",
      "source": [
        "my_set = {1, 2, 3}\n",
        "my_set.add(4)\n",
        "print(my_set)  # {1, 2, 3, 4}"
      ],
      "metadata": {
        "id": "2a1aVpDq6Zp7"
      },
      "execution_count": null,
      "outputs": []
    },
    {
      "cell_type": "markdown",
      "source": [
        "2. **remove(element)**: Удаляет элемент из множества. Выбрасывает ошибку, если элемент отсутствует."
      ],
      "metadata": {
        "id": "4a6G5fhY6bjV"
      }
    },
    {
      "cell_type": "code",
      "source": [
        "my_set = {1, 2, 3}\n",
        "my_set.remove(2)\n",
        "print(my_set)  # {1, 3}\n",
        "# my_set.remove(5)  # KeyError: 5"
      ],
      "metadata": {
        "id": "h7HSvmNf6c_0"
      },
      "execution_count": null,
      "outputs": []
    },
    {
      "cell_type": "markdown",
      "source": [
        "3. **discard(element)**: Удаляет элемент, если он существует. Не выбрасывает ошибку, если элемента нет."
      ],
      "metadata": {
        "id": "7uGElZ3-6f2u"
      }
    },
    {
      "cell_type": "code",
      "source": [
        "my_set = {1, 2, 3}\n",
        "my_set.discard(2)\n",
        "print(my_set)  # {1, 3}\n",
        "my_set.discard(5)  # Ошибки нет, просто ничего не происходит"
      ],
      "metadata": {
        "id": "b8xjwpI26hb6"
      },
      "execution_count": null,
      "outputs": []
    },
    {
      "cell_type": "markdown",
      "source": [
        "4. **pop()**: Удаляет и возвращает случайный элемент из множества."
      ],
      "metadata": {
        "id": "hGsQL20X6jEW"
      }
    },
    {
      "cell_type": "code",
      "source": [
        "my_set = {1, 2, 3}\n",
        "removed_element = my_set.pop()\n",
        "print(removed_element)  # Например, 1 (может быть любой элемент)\n",
        "print(my_set)           # Множество без удаленного элемента"
      ],
      "metadata": {
        "id": "Tui2PSBo6kLM"
      },
      "execution_count": null,
      "outputs": []
    },
    {
      "cell_type": "markdown",
      "source": [
        "5. **clear()**: Очищает множество, удаляя все элементы."
      ],
      "metadata": {
        "id": "bNzLhzko6lfp"
      }
    },
    {
      "cell_type": "code",
      "source": [
        "my_set = {1, 2, 3}\n",
        "my_set.clear()\n",
        "print(my_set)  # set()"
      ],
      "metadata": {
        "id": "phoSEz9Q6mup"
      },
      "execution_count": null,
      "outputs": []
    },
    {
      "cell_type": "markdown",
      "source": [
        "6. **copy()**: Возвращает поверхностную копию множества."
      ],
      "metadata": {
        "id": "hrv82NWg6oNW"
      }
    },
    {
      "cell_type": "code",
      "source": [
        "original_set = {1, 2, 3}\n",
        "copied_set = original_set.copy()\n",
        "print(copied_set)  # {1, 2, 3}"
      ],
      "metadata": {
        "id": "ImKwm5gf6pUZ"
      },
      "execution_count": null,
      "outputs": []
    },
    {
      "cell_type": "markdown",
      "source": [
        "### Использование copy с множествами\n",
        "\n",
        "Множества в Python изменяемы, и часто возникает необходимость создать их копию. Для этого можно использовать метод `copy()`. Глубокое копирование (с помощью `deepcopy()`) **для множеств не применяется**, так как множества не могут содержать вложенные изменяемые объекты, такие как другие множества или списки.\n",
        "\n",
        "---\n",
        "\n",
        "**Копирование множеств**\n",
        "\n",
        "- **Метод copy()**: Создает поверхностную копию множества. Так как множества не поддерживают вложенные изменяемые объекты, поверхностной копии всегда достаточно.\n"
      ],
      "metadata": {
        "id": "HbNPJcxU862i"
      }
    },
    {
      "cell_type": "code",
      "source": [
        "original_set = {1, 2, 3}\n",
        "copied_set = original_set.copy()\n",
        "\n",
        "copied_set.add(4)  # Добавим элемент в копию\n",
        "print(original_set)  # {1, 2, 3} - оригинал не изменился\n",
        "print(copied_set)   # {1, 2, 3, 4} - копия изменилась"
      ],
      "metadata": {
        "colab": {
          "base_uri": "https://localhost:8080/"
        },
        "id": "09nSydV48-2L",
        "outputId": "b0fec345-4efc-4311-d9a3-975869a1c5ca"
      },
      "execution_count": null,
      "outputs": [
        {
          "output_type": "stream",
          "name": "stdout",
          "text": [
            "{1, 2, 3}\n",
            "{1, 2, 3, 4}\n"
          ]
        }
      ]
    },
    {
      "cell_type": "markdown",
      "source": [
        "### Задания по множествам\n",
        "\n",
        "1. **Задание 1**:  \n",
        "   Создайте множество из чисел 1, 2, 3, 4, 5. Добавьте в него число 6 и удалите число 3. Выведите измененное множество.\n",
        "\n",
        "2. **Задание 2**:  \n",
        "   Дано: множества `set_a = {1, 2, 3, 4}` и `set_b = {3, 4, 5, 6}`.  \n",
        "   Найдите их пересечение и выведите результат.\n",
        "\n",
        "3. **Задание 3**:  \n",
        "   Дано: множества `set_a = {10, 20, 30}` и `set_b = {20, 40, 50}`.  \n",
        "   Найдите разность между `set_a` и `set_b` (элементы, которые есть в `set_a`, но отсутствуют в `set_b`) и выведите результат.\n",
        "\n",
        "4. **Задание 4**:  \n",
        "   Создайте множество `numbers = {5, 10, 15, 20}`. Очистите все элементы из множества и выведите пустое множество.\n",
        "\n",
        "Попробуйте решить задания самостоятельно, а затем проверьте свои ответы!\n",
        "---"
      ],
      "metadata": {
        "id": "kR63WMCtzP-W"
      }
    },
    {
      "cell_type": "markdown",
      "source": [
        "### Ответы к заданиям\n",
        "\n",
        "1. **Ответ 1**:"
      ],
      "metadata": {
        "id": "MczjTxXYzSjy"
      }
    },
    {
      "cell_type": "code",
      "source": [
        "numbers = {1, 2, 3, 4, 5}\n",
        "numbers.add(6)\n",
        "numbers.remove(3)\n",
        "print(numbers)  # {1, 2, 4, 5, 6}"
      ],
      "metadata": {
        "id": "B-4W33bkzXfB"
      },
      "execution_count": null,
      "outputs": []
    },
    {
      "cell_type": "markdown",
      "source": [
        "\n",
        "2. **Ответ 2**:"
      ],
      "metadata": {
        "id": "B3VjOaTyzYAA"
      }
    },
    {
      "cell_type": "code",
      "source": [
        "set_a = {1, 2, 3, 4}\n",
        "set_b = {3, 4, 5, 6}\n",
        "intersection = set_a & set_b\n",
        "print(intersection)  # {3, 4}"
      ],
      "metadata": {
        "id": "wv8CoykFzZJH"
      },
      "execution_count": null,
      "outputs": []
    },
    {
      "cell_type": "markdown",
      "source": [
        "\n",
        "3. **Ответ 3**:"
      ],
      "metadata": {
        "id": "q_v7gaWbzawp"
      }
    },
    {
      "cell_type": "code",
      "source": [
        "set_a = {10, 20, 30}\n",
        "set_b = {20, 40, 50}\n",
        "difference = set_a - set_b\n",
        "print(difference)  # {10, 30}"
      ],
      "metadata": {
        "id": "rfR0qie8zcKH"
      },
      "execution_count": null,
      "outputs": []
    },
    {
      "cell_type": "markdown",
      "source": [
        "\n",
        "4. **Ответ 4**:"
      ],
      "metadata": {
        "id": "fxyrFmuczebV"
      }
    },
    {
      "cell_type": "code",
      "source": [
        "numbers = {5, 10, 15, 20}\n",
        "numbers.clear()\n",
        "print(numbers)  # set()\n",
        "```"
      ],
      "metadata": {
        "id": "lHCqleRDzgq3"
      },
      "execution_count": null,
      "outputs": []
    },
    {
      "cell_type": "markdown",
      "source": [
        "### 3.5. Словари (Dictionary)\n",
        "\n",
        "Словари в Python — это изменяемые коллекции, которые хранят пары «ключ-значение». Они очень полезны, когда нужно связать данные и быстро получать доступ к значениям по ключу.\n",
        "\n",
        "---\n",
        "\n",
        "**Создание и инициализация словарей**\n",
        "\n",
        "1. **Создание пустого словаря**:\n"
      ],
      "metadata": {
        "id": "cBwWhu0i9Ok4"
      }
    },
    {
      "cell_type": "code",
      "source": [
        "empty_dict = {}\n",
        "print(empty_dict)  # {}"
      ],
      "metadata": {
        "id": "kiZqUHoc90X1"
      },
      "execution_count": null,
      "outputs": []
    },
    {
      "cell_type": "markdown",
      "source": [
        "2. **Создание словаря с элементами**:\n"
      ],
      "metadata": {
        "id": "wt3Y5Ngsm8lN"
      }
    },
    {
      "cell_type": "code",
      "source": [
        "person = {\"name\": \"Alice\", \"age\": 30, \"city\": \"New York\"}\n",
        "print(person)  # {'name': 'Alice', 'age': 30, 'city': 'New York'}"
      ],
      "metadata": {
        "id": "yNH7rU_Lm94R"
      },
      "execution_count": null,
      "outputs": []
    },
    {
      "cell_type": "markdown",
      "source": [
        "3. **Словарь с использованием функции dict()**:\n"
      ],
      "metadata": {
        "id": "gMuS45Xxm_Rb"
      }
    },
    {
      "cell_type": "code",
      "source": [
        "car = dict(brand=\"Toyota\", model=\"Corolla\", year=2020)\n",
        "print(car)  # {'brand': 'Toyota', 'model': 'Corolla', 'year': 2020}"
      ],
      "metadata": {
        "id": "MtBtX_b-nAz0"
      },
      "execution_count": null,
      "outputs": []
    },
    {
      "cell_type": "markdown",
      "source": [
        "---\n",
        "\n",
        "**Ключи и значения**\n",
        "\n",
        "- **Ключи**: Должны быть неизменяемыми (например, числа, строки, кортежи). Изменяемые объекты, такие как списки, не могут быть ключами.\n",
        "- **Значения**: Могут быть любыми объектами, включая изменяемые и неизменяемые типы данных.\n"
      ],
      "metadata": {
        "id": "XF6DrZHKnC9J"
      }
    },
    {
      "cell_type": "code",
      "source": [
        "# Пример словаря с разными типами данных\n",
        "mixed_dict = {\n",
        "    \"integer\": 42,\n",
        "    \"string\": \"hello\",\n",
        "    \"tuple_key\": (1, 2, 3),\n",
        "    \"list_value\": [1, 2, 3]\n",
        "}\n",
        "print(mixed_dict)"
      ],
      "metadata": {
        "id": "e7ep8g3knEsc"
      },
      "execution_count": null,
      "outputs": []
    },
    {
      "cell_type": "markdown",
      "source": [
        "\n",
        "---\n",
        "\n",
        "**Основные операции**\n",
        "\n",
        "1. **Добавление и изменение пар ключ-значение**\n",
        "\n",
        "- Добавление новой пары:\n"
      ],
      "metadata": {
        "id": "1EsbEx83nFVC"
      }
    },
    {
      "cell_type": "code",
      "source": [
        "person = {\"name\": \"Alice\", \"age\": 30}\n",
        "person[\"city\"] = \"New York\"  # Добавляем новую пару\n",
        "print(person)  # {'name': 'Alice', 'age': 30, 'city': 'New York'}"
      ],
      "metadata": {
        "id": "G14UX9d8nHhk"
      },
      "execution_count": null,
      "outputs": []
    },
    {
      "cell_type": "markdown",
      "source": [
        "- Изменение существующего значения:"
      ],
      "metadata": {
        "id": "nwQdt_1knJp1"
      }
    },
    {
      "cell_type": "code",
      "source": [
        "person[\"age\"] = 31  # Обновляем значение по ключу \"age\"\n",
        "print(person)  # {'name': 'Alice', 'age': 31, 'city': 'New York'}"
      ],
      "metadata": {
        "id": "tV1mwr-MnK0-"
      },
      "execution_count": null,
      "outputs": []
    },
    {
      "cell_type": "markdown",
      "source": [
        "2. **Удаление пар ключ-значение**\n",
        "\n",
        "- **del**: Удаляет пару по ключу.\n"
      ],
      "metadata": {
        "id": "mHLbXaQ9nMp3"
      }
    },
    {
      "cell_type": "code",
      "source": [
        "car = {\"brand\": \"Toyota\", \"model\": \"Corolla\", \"year\": 2020}\n",
        "del car[\"year\"]  # Удаляем пару с ключом \"year\"\n",
        "print(car)  # {'brand': 'Toyota', 'model': 'Corolla'}"
      ],
      "metadata": {
        "id": "IYP-FrQxnL7m"
      },
      "execution_count": null,
      "outputs": []
    },
    {
      "cell_type": "markdown",
      "source": [
        "- **pop()**: Удаляет пару по ключу и возвращает значение."
      ],
      "metadata": {
        "id": "5dj8rn13nPN8"
      }
    },
    {
      "cell_type": "code",
      "source": [
        "model = car.pop(\"model\")\n",
        "print(model)  # 'Corolla'\n",
        "print(car)    # {'brand': 'Toyota'}"
      ],
      "metadata": {
        "id": "Dzobdn3hnRF5"
      },
      "execution_count": null,
      "outputs": []
    },
    {
      "cell_type": "markdown",
      "source": [
        "- **popitem()**: Удаляет и возвращает последнюю добавленную пару (в версии Python 3.7+)."
      ],
      "metadata": {
        "id": "L48BlfC0nSHA"
      }
    },
    {
      "cell_type": "code",
      "source": [
        "person = {\"name\": \"Alice\", \"age\": 30, \"city\": \"New York\"}\n",
        "last_item = person.popitem()\n",
        "print(last_item)  # ('city', 'New York')\n",
        "print(person)     # {'name': 'Alice', 'age': 30}"
      ],
      "metadata": {
        "id": "kKDE1OtSnTeA"
      },
      "execution_count": null,
      "outputs": []
    },
    {
      "cell_type": "markdown",
      "source": [
        "3. **Проверка наличия ключа**\n"
      ],
      "metadata": {
        "id": "_R10Se5tnUoP"
      }
    },
    {
      "cell_type": "code",
      "source": [
        "person = {\"name\": \"Alice\", \"age\": 30}\n",
        "print(\"name\" in person)  # True\n",
        "print(\"city\" in person)  # False"
      ],
      "metadata": {
        "id": "2P4i_IT_nV1Q"
      },
      "execution_count": null,
      "outputs": []
    },
    {
      "cell_type": "markdown",
      "source": [
        "\n",
        "---\n",
        "\n",
        "**Методы словарей**\n",
        "\n",
        "1. **get(key, default)**: Возвращает значение по ключу или значение по умолчанию, если ключ отсутствует.\n"
      ],
      "metadata": {
        "id": "hQCINqpUnXvD"
      }
    },
    {
      "cell_type": "code",
      "source": [
        "person = {\"name\": \"Alice\", \"age\": 30}\n",
        "print(person.get(\"age\"))       # 30\n",
        "print(person.get(\"city\", \"N/A\"))  # 'N/A' - значение по умолчанию"
      ],
      "metadata": {
        "id": "F-u8fXTknZMv"
      },
      "execution_count": null,
      "outputs": []
    },
    {
      "cell_type": "markdown",
      "source": [
        "2. **keys()**: Возвращает объект представления всех ключей словаря."
      ],
      "metadata": {
        "id": "DWAgdt7YnakK"
      }
    },
    {
      "cell_type": "code",
      "source": [
        "person = {\"name\": \"Alice\", \"age\": 30}\n",
        "print(person.keys())  # dict_keys(['name', 'age'])"
      ],
      "metadata": {
        "colab": {
          "base_uri": "https://localhost:8080/"
        },
        "id": "yyLfqLasncmf",
        "outputId": "2ca2642b-b246-4e0e-a892-fce19f9d98f5"
      },
      "execution_count": null,
      "outputs": [
        {
          "output_type": "stream",
          "name": "stdout",
          "text": [
            "dict_keys(['name', 'age'])\n"
          ]
        }
      ]
    },
    {
      "cell_type": "markdown",
      "source": [
        "3. **values()**: Возвращает объект представления всех значений словаря."
      ],
      "metadata": {
        "id": "lMDze9yBnd7y"
      }
    },
    {
      "cell_type": "code",
      "source": [
        "person = {\"name\": \"Alice\", \"age\": 30}\n",
        "print(person.values())  # dict_values(['Alice', 30])"
      ],
      "metadata": {
        "id": "HbDcqnYunk7b"
      },
      "execution_count": null,
      "outputs": []
    },
    {
      "cell_type": "markdown",
      "source": [
        "4. **items()**: Возвращает объект представления всех пар ключ-значение.\n"
      ],
      "metadata": {
        "id": "Y0-Yo3R-nnhb"
      }
    },
    {
      "cell_type": "code",
      "source": [
        "person = {\"name\": \"Alice\", \"age\": 30}\n",
        "print(person.items())  # dict_items([('name', 'Alice'), ('age', 30)])"
      ],
      "metadata": {
        "id": "0Rzlb6wunorO"
      },
      "execution_count": null,
      "outputs": []
    },
    {
      "cell_type": "markdown",
      "source": [
        "5. **update(other_dict)**: Обновляет словарь, добавляя пары из другого словаря."
      ],
      "metadata": {
        "id": "dhSY1c-Unqz0"
      }
    },
    {
      "cell_type": "code",
      "source": [
        "person = {\"name\": \"Alice\", \"age\": 30}\n",
        "additional_info = {\"city\": \"New York\", \"occupation\": \"Engineer\"}\n",
        "person.update(additional_info)\n",
        "print(person)  # {'name': 'Alice', 'age': 30, 'city': 'New York', 'occupation': 'Engineer'}"
      ],
      "metadata": {
        "colab": {
          "base_uri": "https://localhost:8080/"
        },
        "id": "a19_N0rbntjJ",
        "outputId": "98dde74b-52f6-4147-81cd-0e4d70ed0850"
      },
      "execution_count": null,
      "outputs": [
        {
          "output_type": "stream",
          "name": "stdout",
          "text": [
            "{'name': 'Alice', 'age': 30, 'city': 'New York', 'occupation': 'Engineer'}\n"
          ]
        }
      ]
    },
    {
      "cell_type": "markdown",
      "source": [
        "6. **clear()**: Очищает словарь, удаляя все пары.\n"
      ],
      "metadata": {
        "id": "ozPgdtLZnwyi"
      }
    },
    {
      "cell_type": "code",
      "source": [
        "person = {\"name\": \"Alice\", \"age\": 30}\n",
        "person.clear()\n",
        "print(person)  # {}"
      ],
      "metadata": {
        "id": "Y8NUIduqnxml"
      },
      "execution_count": null,
      "outputs": []
    },
    {
      "cell_type": "markdown",
      "source": [
        "7. **copy()**: Создает поверхностную копию словаря."
      ],
      "metadata": {
        "id": "4tQhMXfGn3tg"
      }
    },
    {
      "cell_type": "code",
      "source": [
        "original = {\"name\": \"Alice\", \"age\": 30}\n",
        "copy_dict = original.copy()\n",
        "\n",
        "print(copy_dict)  # {'name': 'Alice', 'age': 30} - Копия создана\n",
        "\n",
        "# Изменим копию словаря\n",
        "copy_dict[\"age\"] = 35\n",
        "copy_dict[\"city\"] = \"New York\"\n",
        "\n",
        "print(original)  # {'name': 'Alice', 'age': 30} - Оригинал остался неизменным\n",
        "print(copy_dict) # {'name': 'Alice', 'age': 35, 'city': 'New York'} - Копия изменилась\n"
      ],
      "metadata": {
        "colab": {
          "base_uri": "https://localhost:8080/"
        },
        "id": "-n5xNwFEn5uU",
        "outputId": "4e7d9348-d844-48b2-b126-85dba2f3c0cd"
      },
      "execution_count": null,
      "outputs": [
        {
          "output_type": "stream",
          "name": "stdout",
          "text": [
            "{'name': 'Alice', 'age': 30}\n",
            "{'name': 'Alice', 'age': 30}\n",
            "{'name': 'Alice', 'age': 35, 'city': 'New York'}\n"
          ]
        }
      ]
    },
    {
      "cell_type": "markdown",
      "source": [],
      "metadata": {
        "id": "8QyKQwudoI79"
      }
    },
    {
      "cell_type": "markdown",
      "source": [
        "8. Создание глубокой копии словаря."
      ],
      "metadata": {
        "id": "sRTg8_G8oate"
      }
    },
    {
      "cell_type": "code",
      "source": [
        "import copy\n",
        "\n",
        "original = {\"name\": \"Alice\", \"age\": 30, \"address\": {\"city\": \"New York\", \"zip\": \"10001\"}}\n",
        "deep_copy_dict = copy.deepcopy(original)\n",
        "\n",
        "print(deep_copy_dict)  # {'name': 'Alice', 'age': 30, 'address': {'city': 'New York', 'zip': '10001'}}\n",
        "\n",
        "# Изменим вложенный объект в глубокой копии\n",
        "deep_copy_dict[\"address\"][\"city\"] = \"Los Angeles\"\n",
        "deep_copy_dict[\"age\"] = 35\n",
        "\n",
        "print(original)       # {'name': 'Alice', 'age': 30, 'address': {'city': 'New York', 'zip': '10001'}} - Оригинал не изменился\n",
        "print(deep_copy_dict) # {'name': 'Alice', 'age': 35, 'address': {'city': 'Los Angeles', 'zip': '10001'}} - Глубокая копия изменилась\n"
      ],
      "metadata": {
        "id": "P1xVwQM7oSYb"
      },
      "execution_count": null,
      "outputs": []
    },
    {
      "cell_type": "markdown",
      "source": [
        "\n",
        "**Объяснение**:  \n",
        "- `copy.deepcopy()` создает полную копию словаря, включая все вложенные объекты. Это гарантирует, что изменения в копии не затронут оригинал, даже если внутри словаря есть изменяемые объекты, такие как вложенные словари.\n",
        "- В примере мы изменили город в вложенном словаре и возраст в глубокой копии, и оригинальный словарь остался неизменным, что подтверждает полное копирование данных."
      ],
      "metadata": {
        "id": "zaeLJufDoX5N"
      }
    },
    {
      "cell_type": "markdown",
      "source": [
        "### Чем dict_keys и dict_values отличаются от list\n",
        "\n",
        "Методы `keys()`, `values()` и `items()` в словарях возвращают специальные объекты представления: `dict_keys`, `dict_values` и `dict_items`. Они отличаются от обычных списков (`list`) по нескольким важным аспектам:\n",
        "\n",
        "1. **Динамическое обновление**:\n",
        "   - Объекты `dict_keys`, `dict_values` и `dict_items` связаны со словарем, из которого они созданы. Если словарь изменяется (добавляются или удаляются элементы), эти объекты автоматически обновляются.\n",
        "   - Например:\n"
      ],
      "metadata": {
        "id": "0DGnvI8rojnE"
      }
    },
    {
      "cell_type": "code",
      "source": [
        "person = {\"name\": \"Alice\", \"age\": 30}\n",
        "keys_view = person.keys()\n",
        "print(keys_view)  # dict_keys(['name', 'age'])\n",
        "person[\"city\"] = \"New York\"  # Добавляем новый ключ в словарь\n",
        "print(keys_view)  # dict_keys(['name', 'age', 'city']) - обновилось автоматически"
      ],
      "metadata": {
        "colab": {
          "base_uri": "https://localhost:8080/"
        },
        "id": "NlbynDGpov6K",
        "outputId": "4393ad48-851a-411d-f9a5-dc72d2f9b09e"
      },
      "execution_count": null,
      "outputs": [
        {
          "output_type": "stream",
          "name": "stdout",
          "text": [
            "dict_keys(['name', 'age'])\n",
            "dict_keys(['name', 'age', 'city'])\n"
          ]
        }
      ]
    },
    {
      "cell_type": "markdown",
      "source": [
        "2. **Не поддерживают индексирование**:\n",
        "   - В отличие от списков, объекты представления `dict_keys` и `dict_values` не поддерживают индексирование. Это означает, что нельзя напрямую обращаться к элементу по индексу, как в списке.\n",
        "\n",
        "   ```python\n",
        "   person = {\"name\": \"Alice\", \"age\": 30}\n",
        "   keys_view = person.keys()\n",
        "   \n",
        "   # print(keys_view[0])  # Ошибка! Нельзя получить элемент по индексу\n",
        "   ```"
      ],
      "metadata": {
        "id": "EvwgQ0N7pFG-"
      }
    },
    {
      "cell_type": "markdown",
      "source": [
        "\n",
        "3. **Преобразование в список**:\n",
        "   - Чтобы использовать функции или методы, которые применимы только к спискам, вы можете преобразовать объекты `dict_keys` или `dict_values` в обычные списки с помощью функции `list()`."
      ],
      "metadata": {
        "id": "r6BXXkidpTGC"
      }
    },
    {
      "cell_type": "code",
      "source": [
        "keys_list = list(person.keys())\n",
        "print(keys_list)  # ['name', 'age']\n",
        "\n",
        "values_list = list(person.values())\n",
        "print(values_list)  # ['Alice', 30]"
      ],
      "metadata": {
        "colab": {
          "base_uri": "https://localhost:8080/"
        },
        "id": "qVZjWaLnpWgJ",
        "outputId": "b13f3098-f92e-4977-af5f-3810067cef3d"
      },
      "execution_count": null,
      "outputs": [
        {
          "output_type": "stream",
          "name": "stdout",
          "text": [
            "['name', 'age', 'city']\n",
            "['Alice', 30, 'New York']\n"
          ]
        }
      ]
    },
    {
      "cell_type": "markdown",
      "source": [
        "4. **Итерация**:\n",
        "   - Объекты представления словаря поддерживают итерацию, что позволяет легко перебирать ключи, значения или пары ключ-значение в цикле `for`."
      ],
      "metadata": {
        "id": "8M77t4ihpc45"
      }
    },
    {
      "cell_type": "code",
      "source": [
        "person = {\"name\": \"Alice\", \"age\": 30}\n",
        "\n",
        "for key in person.keys():\n",
        "    print(key)  # Выведет 'name' и 'age'\n",
        "\n",
        "for value in person.values():\n",
        "    print(value)  # Выведет 'Alice' и 30"
      ],
      "metadata": {
        "colab": {
          "base_uri": "https://localhost:8080/"
        },
        "id": "Qk2gCIuRpejO",
        "outputId": "3c852d4f-45fc-4105-b6bb-37a842cc22bb"
      },
      "execution_count": null,
      "outputs": [
        {
          "output_type": "stream",
          "name": "stdout",
          "text": [
            "name\n",
            "age\n",
            "Alice\n",
            "30\n"
          ]
        }
      ]
    },
    {
      "cell_type": "markdown",
      "source": [
        "**Вывод**:  \n",
        "Объекты `dict_keys`, `dict_values` и `dict_items` более эффективны, чем списки, для работы с ключами и значениями словаря, особенно в контексте больших данных, поскольку они занимают меньше памяти и обновляются автоматически при изменениях словаря. Однако для задач, требующих индексирования или определенных операций со списками, необходимо преобразовать их в `list`."
      ],
      "metadata": {
        "id": "b87uT9wmpk3a"
      }
    },
    {
      "cell_type": "markdown",
      "source": [
        "### Задания по словарям\n",
        "\n",
        "1. **Задание 1**:  \n",
        "   Создайте словарь с именами и возрастами: `{\"Alice\": 25, \"Bob\": 30, \"Charlie\": 35}`. Добавьте нового человека \"David\" с возрастом 40 и выведите обновленный словарь.\n",
        "\n",
        "2. **Задание 2**:  \n",
        "   Дано: словарь `person = {\"name\": \"Alice\", \"age\": 25, \"city\": \"New York\"}`.  \n",
        "   Измените значение ключа `\"age\"` на 26 и удалите ключ `\"city\"`. Выведите измененный словарь.\n",
        "\n",
        "3. **Задание 3**:  \n",
        "   Дано: словарь `grades = {\"Math\": 90, \"Science\": 85, \"English\": 88}`.  \n",
        "   Получите и выведите список всех предметов (ключей) из словаря.\n",
        "\n",
        "4. **Задание 4**:  \n",
        "   Создайте словарь `contacts = {\"John\": \"123-4567\", \"Jane\": \"987-6543\"}`. Используя метод `get()`, получите номер телефона \"Jane\" и номер \"Jake\", если его нет в словаре, верните \"Not found\". Выведите оба результата.\n",
        "\n",
        "Попробуйте решить задания самостоятельно, а затем проверьте свои ответы!\n",
        "\n",
        "---"
      ],
      "metadata": {
        "id": "86O3CJjdz3AP"
      }
    },
    {
      "cell_type": "markdown",
      "source": [
        "\n",
        "### Ответы к заданиям\n",
        "\n",
        "1. **Ответ 1**:"
      ],
      "metadata": {
        "id": "Icj6rPqdz6nQ"
      }
    },
    {
      "cell_type": "code",
      "source": [
        "people = {\"Alice\": 25, \"Bob\": 30, \"Charlie\": 35}\n",
        "people[\"David\"] = 40\n",
        "print(people)  # {'Alice': 25, 'Bob': 30, 'Charlie': 35, 'David': 40}"
      ],
      "metadata": {
        "id": "i2AK7Jh-z9dT"
      },
      "execution_count": null,
      "outputs": []
    },
    {
      "cell_type": "markdown",
      "source": [
        "\n",
        "2. **Ответ 2**:"
      ],
      "metadata": {
        "id": "HOZfKEOR0Cpb"
      }
    },
    {
      "cell_type": "code",
      "source": [
        "person = {\"name\": \"Alice\", \"age\": 25, \"city\": \"New York\"}\n",
        "person[\"age\"] = 26  # Изменяем возраст\n",
        "del person[\"city\"]  # Удаляем город\n",
        "print(person)  # {'name': 'Alice', 'age': 26}"
      ],
      "metadata": {
        "id": "bPvbMJAm0EIh"
      },
      "execution_count": null,
      "outputs": []
    },
    {
      "cell_type": "markdown",
      "source": [
        "\n",
        "3. **Ответ 3**:"
      ],
      "metadata": {
        "id": "NZbZ3ZlG0G3c"
      }
    },
    {
      "cell_type": "code",
      "source": [
        "grades = {\"Math\": 90, \"Science\": 85, \"English\": 88}\n",
        "subjects = list(grades.keys())\n",
        "print(subjects)  # ['Math', 'Science', 'English']"
      ],
      "metadata": {
        "id": "zv2inKcQ0Kun"
      },
      "execution_count": null,
      "outputs": []
    },
    {
      "cell_type": "markdown",
      "source": [
        "4. **Ответ 4**:"
      ],
      "metadata": {
        "id": "8tY7lvuK0J8E"
      }
    },
    {
      "cell_type": "code",
      "source": [
        "contacts = {\"John\": \"123-4567\", \"Jane\": \"987-6543\"}\n",
        "jane_number = contacts.get(\"Jane\")\n",
        "jake_number = contacts.get(\"Jake\", \"Not found\")\n",
        "print(jane_number)  # 987-6543\n",
        "print(jake_number)  # Not found"
      ],
      "metadata": {
        "id": "fpTa6O450Mrq"
      },
      "execution_count": null,
      "outputs": []
    },
    {
      "cell_type": "markdown",
      "source": [
        "### Заключение по коллекциям\n",
        "\n",
        "Коллекции в Python — это инструменты для управления группами данных, и они являются неотъемлемой частью эффективного программирования. В ходе изучения коллекций вы узнали о списках, кортежах, множествах и словарях, а также о том, когда и как использовать каждую из них.\n",
        "\n",
        "1. **Списки (List)**:  \n",
        "   Изменяемые и упорядоченные структуры, которые позволяют добавлять, удалять и изменять элементы. Списки удобны для хранения последовательностей данных, которые нужно часто изменять.\n",
        "\n",
        "2. **Кортежи (Tuple)**:  \n",
        "   Неизменяемые и упорядоченные коллекции, которые защищают данные от изменений и обеспечивают небольшое улучшение производительности. Они полезны для хранения неизменных наборов данных, таких как координаты или конфигурации.\n",
        "\n",
        "3. **Множества (Set)**:  \n",
        "   Изменяемые и неупорядоченные коллекции, которые автоматически удаляют дубликаты и поддерживают операции над множествами, такие как объединение, пересечение и разность. Множества хорошо подходят для работы с уникальными элементами и математическими операциями.\n",
        "\n",
        "4. **Словари (Dictionary)**:  \n",
        "   Изменяемые коллекции, которые хранят данные в виде пар «ключ-значение». Словари обеспечивают быстрый доступ к данным по ключам и идеально подходят для хранения связанных данных, таких как записи в базе данных или параметры конфигурации.\n",
        "\n",
        "---\n",
        "\n",
        "### Важные концепции\n",
        "\n",
        "- **Изменяемость**: Понимание того, какие коллекции изменяемы, а какие нет, позволяет избегать ошибок и защищать данные от нежелательных изменений.\n",
        "- **Копирование данных**: Знание о ссылочности объектов и различие между поверхностным и глубоким копированием помогает избежать неожиданных ошибок при работе с изменяемыми структурами данных.\n",
        "- **Выбор подходящей коллекции**: Понимание того, какие коллекции лучше всего подходят для разных задач, помогает писать более эффективный и читаемый код.\n",
        "\n",
        "---\n",
        "\n",
        "### Что дальше?\n",
        "\n",
        "Продолжайте экспериментировать с коллекциями в реальных проектах, чтобы глубже понять их возможности и ограничения. По мере изучения более сложных тем, таких как обработка данных или создание структурированных программ, эти базовые знания будут крайне полезны."
      ],
      "metadata": {
        "id": "1EPoRatK63kH"
      }
    }
  ]
}