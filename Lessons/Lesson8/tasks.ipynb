{
 "cells": [
  {
   "cell_type": "code",
   "id": "initial_id",
   "metadata": {
    "collapsed": true,
    "ExecuteTime": {
     "end_time": "2025-11-01T08:14:12.521574Z",
     "start_time": "2025-11-01T08:14:12.512415Z"
    }
   },
   "source": [
    "'''\n",
    "Создайте класс Student, который будет представлять студента.\n",
    "\n",
    "Требования:\n",
    "\n",
    "У класса должны быть атрибуты:\n",
    "имя студента (name);\n",
    "список оценок (grades), который по умолчанию пуст.\n",
    "Реализуйте методы:\n",
    "add_grade(grade) — добавляет оценку в список (оценка должна быть от 1 до 5, иначе игнорируется).\n",
    "get_average_grade() — возвращает среднюю оценку студента (или 0, если нет оценок).\n",
    "Создайте несколько экземпляров класса, добавьте оценки и выведите средние оценки.\n",
    "'''\n",
    "\n",
    "\n",
    "class Student:\n",
    "    def __init__(self, name):\n",
    "        self.name = name\n",
    "        self.grades = []\n",
    "\n",
    "    def add_grade(self, grade):\n",
    "        if grade > 0 and grade < 6:\n",
    "            self.grades.append(grade)\n",
    "\n",
    "    def get_average_grade(self):\n",
    "        if len(self.grades) == 0:\n",
    "            return 0\n",
    "        return sum(self.grades) / len(self.grades)\n",
    "\n",
    "\n",
    "Ivan = Student('Ivan')\n",
    "\n",
    "Ivan.add_grade(3)\n",
    "Ivan.add_grade(4)\n",
    "Ivan.add_grade(5)\n",
    "print(Ivan.grades)\n",
    "print(Ivan.get_average_grade())\n"
   ],
   "outputs": [
    {
     "name": "stdout",
     "output_type": "stream",
     "text": [
      "[3, 4, 5]\n",
      "4.0\n"
     ]
    }
   ],
   "execution_count": 10
  },
  {
   "metadata": {
    "ExecuteTime": {
     "end_time": "2025-11-01T09:01:10.393407Z",
     "start_time": "2025-11-01T09:01:10.387262Z"
    }
   },
   "cell_type": "code",
   "source": [
    "'''\n",
    "Создайте класс User, который будет представлять пользователя системы.\n",
    "\n",
    "Требования:\n",
    "\n",
    "У класса должны быть приватные атрибуты:\n",
    "имя пользователя (username);\n",
    "пароль (password).\n",
    "Реализуйте методы:\n",
    "set_password(new_password) — устанавливает новый пароль (проверяет, чтобы длина пароля была не меньше 8 символов).\n",
    "check_password(input_password) — возвращает True, если переданный пароль совпадает с текущим, иначе False.\n",
    "Создайте объект пользователя, измените пароль и проверьте его корректность.\n",
    "'''\n",
    "\n",
    "\n",
    "class User:\n",
    "    def __init__(self, username):\n",
    "        self.username = username\n",
    "        self.password = ''\n",
    "\n",
    "    def set_password(self, new_password):\n",
    "        if len(new_password) < 8:\n",
    "            print('пароль должен быть длиннее 8 символов!')\n",
    "        else:\n",
    "            self.password = new_password\n",
    "\n",
    "    def check_password(self, input_password):\n",
    "        return input_password == self.password\n",
    "\n",
    "\n",
    "Ivan = User('Ivan')\n",
    "Ivan.set_password('123')\n",
    "Ivan.set_password('123456789')\n",
    "print(Ivan.check_password('12345678'))\n",
    "print(Ivan.check_password('123456789'))\n"
   ],
   "id": "52c5e8643ba23fb7",
   "outputs": [
    {
     "name": "stdout",
     "output_type": "stream",
     "text": [
      "пароль должен быть длиннее 8 символов!\n",
      "False\n",
      "True\n"
     ]
    }
   ],
   "execution_count": 30
  },
  {
   "metadata": {
    "ExecuteTime": {
     "end_time": "2025-11-01T08:28:25.779330Z",
     "start_time": "2025-11-01T08:28:25.771761Z"
    }
   },
   "cell_type": "code",
   "source": [
    "'''\n",
    "Создайте базовый класс Device и дочерние классы Laptop и Smartphone.\n",
    "\n",
    "Требования:\n",
    "\n",
    "Класс Device:\n",
    "Имеет атрибут name (название устройства).\n",
    "Имеет метод info(), который возвращает строку \"Устройство: <name>\".\n",
    "Класс Laptop:\n",
    "Наследуется от Device.\n",
    "Имеет дополнительный атрибут ram (объём оперативной памяти в ГБ).\n",
    "Переопределяет метод info(), чтобы возвращать строку \"Ноутбук: <name>, RAM: <ram> ГБ.\"\n",
    "Класс Smartphone:\n",
    "Наследуется от Device.\n",
    "Имеет дополнительный атрибут camera (разрешение камеры в МП).\n",
    "Переопределяет метод info(), чтобы возвращать строку \"Смартфон: <name>, Камера: <camera> МП.\"\n",
    "Создайте объекты Laptop и Smartphone, вызовите метод info() и выведите результат.\n",
    "'''\n",
    "\n",
    "\n",
    "class Device:\n",
    "    def __init__(self, name):\n",
    "        self.name = name\n",
    "\n",
    "    def info(self):\n",
    "        return f'Устройство: {self.name}'\n",
    "\n",
    "\n",
    "class Laptop(Device):\n",
    "    def __init__(self, name, ram):\n",
    "        super().__init__(name)\n",
    "        self.ram = ram\n",
    "\n",
    "    def info(self):\n",
    "        return f'Ноутбук: {self.name}, RAM: {self.ram} ГБ.'\n",
    "\n",
    "\n",
    "class Smartphone(Device):\n",
    "    def __init__(self, name, camera):\n",
    "        super().__init__(name)\n",
    "        self.camera = camera\n",
    "\n",
    "    def info(self):\n",
    "        return f'Смартфон: {self.name}, Camera: {self.camera} МП.'\n",
    "\n",
    "\n",
    "nout1 = Laptop('ASUS', 16)\n",
    "phone1 = Smartphone('Samsung', 100)\n",
    "print(nout1.info())\n",
    "print(phone1.info())"
   ],
   "id": "c2d483c7b1533e22",
   "outputs": [
    {
     "name": "stdout",
     "output_type": "stream",
     "text": [
      "Ноутбук: ASUS, RAM: 16 ГБ.\n",
      "\n",
      "Смартфон: Samsung, Camera: 100 МП.\n",
      "\n"
     ]
    }
   ],
   "execution_count": 14
  },
  {
   "metadata": {
    "ExecuteTime": {
     "end_time": "2025-11-01T08:41:47.561751Z",
     "start_time": "2025-11-01T08:41:47.553732Z"
    }
   },
   "cell_type": "code",
   "source": [
    "'''\n",
    "Создайте классы Bicycle, Car и Airplane, которые представляют разные транспортные средства.\n",
    "\n",
    "Требования:\n",
    "\n",
    "Каждый класс имеет метод move():\n",
    "Bicycle возвращает \"Велосипед движется по дороге.\"\n",
    "Car возвращает \"Машина движется по шоссе.\"\n",
    "Airplane возвращает \"Самолёт летит в небе.\"\n",
    "Напишите функцию transport_action(vehicle), которая принимает объект и вызывает его метод move().\n",
    "Создайте список объектов различных транспортных средств и вызовите для каждого функцию transport_action().\n",
    "'''\n",
    "\n",
    "\n",
    "class Bicycle:\n",
    "    def __init__(self, name):\n",
    "        self.name = name\n",
    "\n",
    "    def move(self):\n",
    "        return f'Велосипед движется по дороге.'\n",
    "\n",
    "\n",
    "class Car:\n",
    "    def __init__(self, name):\n",
    "        self.name = name\n",
    "\n",
    "    def move(self):\n",
    "        return f'Машина движется по шоссе.'\n",
    "\n",
    "\n",
    "class Airplane:\n",
    "    def __init__(self, name):\n",
    "        self.name = name\n",
    "\n",
    "    def move(self):\n",
    "        return f'Самолёт летит в небе.'\n",
    "\n",
    "\n",
    "def transport_action(vehicle):\n",
    "    print(vehicle.move())\n",
    "\n",
    "\n",
    "all_kinds = []\n",
    "all_kinds.append(Bicycle('велосипед'))\n",
    "all_kinds.append(Car('машина'))\n",
    "all_kinds.append(Airplane('самолет'))\n",
    "for x in all_kinds:\n",
    "    transport_action(x)\n",
    "\n",
    "\n"
   ],
   "id": "27a78f0dff144d4f",
   "outputs": [
    {
     "name": "stdout",
     "output_type": "stream",
     "text": [
      "Велосипед движется по дороге.\n",
      "Машина движется по шоссе.\n",
      "Самолёт летит в небе.\n"
     ]
    }
   ],
   "execution_count": 22
  },
  {
   "metadata": {
    "ExecuteTime": {
     "end_time": "2025-11-01T09:08:46.033342Z",
     "start_time": "2025-11-01T09:08:46.022511Z"
    }
   },
   "cell_type": "code",
   "source": [
    "'''\n",
    "Создайте абстрактный класс BankAccount и дочерние классы SavingsAccount и CurrentAccount.\n",
    "\n",
    "Требования:\n",
    "\n",
    "Абстрактный класс BankAccount:\n",
    "Имеет атрибуты owner (владелец счёта) и balance (баланс, по умолчанию 0).\n",
    "Имеет абстрактные методы deposit(amount) и withdraw(amount).\n",
    "Класс SavingsAccount:\n",
    "Наследуется от BankAccount.\n",
    "Реализует методы:\n",
    "deposit(amount) — увеличивает баланс на сумму.\n",
    "withdraw(amount) — разрешает снятие средств, если сумма не превышает баланс.\n",
    "Класс CurrentAccount:\n",
    "Наследуется от BankAccount.\n",
    "Реализует методы:\n",
    "deposit(amount) — увеличивает баланс на сумму.\n",
    "withdraw(amount) — разрешает снятие средств с возможностью перерасхода (баланс может быть отрицательным, но не меньше -1000).\n",
    "Создайте объекты классов SavingsAccount и CurrentAccount, вызовите их методы и выведите результаты.\n",
    "'''\n",
    "from abc import ABC, abstractclassmethod\n",
    "\n",
    "\n",
    "class BankAccount(ABC):\n",
    "    def __init__(self, owner, balance):\n",
    "        self.owner = owner\n",
    "        self.balance = balance\n",
    "\n",
    "    @abstractclassmethod\n",
    "    def deposit(self, amount):\n",
    "        pass\n",
    "\n",
    "    @abstractclassmethod\n",
    "    def withdraw(self, amount):\n",
    "        pass\n",
    "\n",
    "\n",
    "class SavingsAccount(BankAccount):\n",
    "\n",
    "    def deposit(self, amount):\n",
    "        if amount > 0:\n",
    "            self.balance += amount\n",
    "\n",
    "    def withdraw(self, amount):\n",
    "        if amount <= self.balance:\n",
    "            print(f'Разрешаю снимать {amount}')\n",
    "            self.balance -= amount\n",
    "            print(f'Осталось: {self.balance}')\n",
    "        else:\n",
    "            print(f'столько ({amount}) не дам!')\n",
    "\n",
    "class CurrentAccount(BankAccount):\n",
    "    def deposit(self, amount):\n",
    "        if amount > 0:\n",
    "           self.balance += amount\n",
    "\n",
    "    def withdraw(self, amount):\n",
    "        if amount < (self.balance + 1000):\n",
    "            print(f'Разрешаю снимать {amount}')\n",
    "            self.balance -= amount\n",
    "            print(f'Осталось: {self.balance}')\n",
    "        else:\n",
    "            print(f'столько ({amount}) не дам!')\n",
    "\n",
    "Ivans_money = SavingsAccount('Ivans_money', 1000)\n",
    "print(Ivans_money.balance)\n",
    "Ivans_money.deposit(1000)\n",
    "print(Ivans_money.balance)\n",
    "Ivans_money.withdraw(10000)\n",
    "Ivans_money.withdraw(2500)\n",
    "print(Ivans_money.balance)\n",
    "Ivans_money.withdraw(499)\n",
    "print(Ivans_money.balance)\n",
    "Ivans_money.withdraw(1)\n",
    "\n",
    "Petes_money = CurrentAccount('Petes_money', 1000)\n",
    "print(Petes_money.balance)\n",
    "Petes_money.deposit(1000)\n",
    "print(Petes_money.balance)\n",
    "Petes_money.withdraw(2999)\n",
    "print(Petes_money.balance)\n",
    "Petes_money.withdraw(1)\n",
    "\n"
   ],
   "id": "8c460ab297f44ef7",
   "outputs": [
    {
     "name": "stdout",
     "output_type": "stream",
     "text": [
      "1000\n",
      "2000\n",
      "столько (10000) не дам!\n",
      "столько (2500) не дам!\n",
      "2000\n",
      "Разрешаю снимать 499\n",
      "Осталось: 1501\n",
      "1501\n",
      "Разрешаю снимать 1\n",
      "Осталось: 1500\n",
      "1000\n",
      "2000\n",
      "Разрешаю снимать 2999\n",
      "Осталось: -999\n",
      "-999\n",
      "столько (1) не дам!\n"
     ]
    }
   ],
   "execution_count": 34
  },
  {
   "metadata": {},
   "cell_type": "code",
   "outputs": [],
   "execution_count": null,
   "source": "",
   "id": "55a7b6a0920bb302"
  }
 ],
 "metadata": {
  "kernelspec": {
   "display_name": "Python 3",
   "language": "python",
   "name": "python3"
  },
  "language_info": {
   "codemirror_mode": {
    "name": "ipython",
    "version": 2
   },
   "file_extension": ".py",
   "mimetype": "text/x-python",
   "name": "python",
   "nbconvert_exporter": "python",
   "pygments_lexer": "ipython2",
   "version": "2.7.6"
  }
 },
 "nbformat": 4,
 "nbformat_minor": 5
}
