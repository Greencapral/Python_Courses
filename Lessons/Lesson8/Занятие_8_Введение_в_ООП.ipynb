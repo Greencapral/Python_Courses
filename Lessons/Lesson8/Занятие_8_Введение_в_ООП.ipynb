{
  "nbformat": 4,
  "nbformat_minor": 0,
  "metadata": {
    "colab": {
      "provenance": [],
      "include_colab_link": true
    },
    "kernelspec": {
      "name": "python3",
      "display_name": "Python 3"
    },
    "language_info": {
      "name": "python"
    }
  },
  "cells": [
    {
      "cell_type": "markdown",
      "metadata": {
        "id": "view-in-github",
        "colab_type": "text"
      },
      "source": [
        "<a href=\"https://colab.research.google.com/github/Greencapral/Python_Courses/blob/main/%D0%97%D0%B0%D0%BD%D1%8F%D1%82%D0%B8%D0%B5_8_%D0%92%D0%B2%D0%B5%D0%B4%D0%B5%D0%BD%D0%B8%D0%B5_%D0%B2_%D0%9E%D0%9E%D0%9F.ipynb\" target=\"_parent\"><img src=\"https://colab.research.google.com/assets/colab-badge.svg\" alt=\"Open In Colab\"/></a>"
      ]
    },
    {
      "cell_type": "markdown",
      "source": [
        "## 1. Введение\n",
        "\n",
        "### 1.1. Цели занятия\n",
        "\n",
        "В этом занятии мы познакомимся с основами объектно-ориентированного программирования (ООП) в Python. Вы узнаете, как создавать классы и объекты, освоите ключевые принципы ООП, такие как инкапсуляция, наследование, полиморфизм и абстракция, а также научитесь применять эти принципы в своих проектах.\n",
        "\n",
        "**Основные цели:**\n",
        "- Понять, что такое классы и объекты, как их создавать и использовать.\n",
        "- Освоить основные принципы ООП: инкапсуляция, наследование, полиморфизм и абстракция.\n",
        "- Научиться проектировать программы с использованием ООП.\n",
        "\n",
        "---\n",
        "\n",
        "### 1.2. Краткое содержание\n",
        "\n",
        "- Понятие классов и объектов.\n",
        "- Инкапсуляция.\n",
        "- Наследование.\n",
        "- Полиморфизм.\n",
        "- Абстракция."
      ],
      "metadata": {
        "id": "0v3cwx0KmrNP"
      }
    },
    {
      "cell_type": "markdown",
      "source": [
        "## 2. Понятие классов и объектов\n",
        "\n",
        "Классы и объекты — это основа объектно-ориентированного программирования. Класс определяет структуру и поведение объектов, а объекты являются конкретными экземплярами этого класса.\n",
        "\n",
        "---\n",
        "\n",
        "### 2.1. Что такое класс\n",
        "\n",
        "**Класс** — это шаблон, который определяет, какие данные (атрибуты) и действия (методы) может иметь объект.\n",
        "\n",
        "#### Создание класса в Python"
      ],
      "metadata": {
        "id": "YMIySiDyrVdx"
      }
    },
    {
      "cell_type": "code",
      "source": [
        "# Определение класса\n",
        "class Person:\n",
        "    # Конструктор для инициализации объекта\n",
        "    def __init__(self, name, age):\n",
        "        self.name = name  # Устанавливаем имя\n",
        "        self.age = age    # Устанавливаем возраст\n",
        "\n",
        "    # Метод для приветствия\n",
        "    def greet(self):\n",
        "        return f\"Hello, my name is {self.name} and I am {self.age} years old.\"\n",
        "\n",
        "# Проверяем, что код работает\n",
        "person_example = Person(\"Alice\", 30)\n",
        "print(person_example.greet())\n",
        "# Вывод: Hello, my name is Alice and I am 30 years old."
      ],
      "metadata": {
        "colab": {
          "base_uri": "https://localhost:8080/"
        },
        "id": "Q2WdK_Q2sED2",
        "outputId": "542ba7bc-52f4-4210-d5c7-5ac4ebe6c16b"
      },
      "execution_count": null,
      "outputs": [
        {
          "output_type": "stream",
          "name": "stdout",
          "text": [
            "Hello, my name is Alice and I am 30 years old.\n"
          ]
        }
      ]
    },
    {
      "cell_type": "markdown",
      "source": [
        "\n",
        "---\n",
        "\n",
        "### 2.2. Что такое объект\n",
        "\n",
        "**Объект** — это экземпляр класса, который содержит конкретные данные и может выполнять действия, описанные в классе.\n",
        "\n",
        "#### Пример создания объекта\n",
        "\n",
        "```python\n",
        "# Создание объекта класса Person\n",
        "person1 = Person(\"Bob\", 25)\n",
        "\n",
        "# Обращение к атрибутам объекта\n",
        "print(person1.name)  # Вывод: Bob\n",
        "print(person1.age)   # Вывод: 25\n",
        "\n",
        "# Вызов метода объекта\n",
        "print(person1.greet())  # Вывод: Hello, my name is Bob and I am 25 years old.\n",
        "```\n",
        "\n",
        "---\n",
        "\n",
        "### 2.3. Примеры создания классов и объектов\n",
        "\n",
        "#### Пример 1: Класс для представления книги\n"
      ],
      "metadata": {
        "id": "Iq9orvSOrlnj"
      }
    },
    {
      "cell_type": "code",
      "source": [
        "class Book:\n",
        "    def __init__(self, title, author):\n",
        "        self.title = title\n",
        "        self.author = author\n",
        "\n",
        "    def description(self):\n",
        "        return f\"'{self.title}' by {self.author}\"\n",
        "\n",
        "# Проверяем\n",
        "book = Book(\"1984\", \"George Orwell\")\n",
        "print(book.description())\n",
        "# Вывод: '1984' by George Orwell"
      ],
      "metadata": {
        "colab": {
          "base_uri": "https://localhost:8080/"
        },
        "id": "4ZUx_AT_szTw",
        "outputId": "ce37a563-e2d1-421c-9266-ca6d48791ec1"
      },
      "execution_count": null,
      "outputs": [
        {
          "output_type": "stream",
          "name": "stdout",
          "text": [
            "'1984' by George Orwell\n"
          ]
        }
      ]
    },
    {
      "cell_type": "markdown",
      "source": [
        "\n",
        "---\n",
        "\n",
        "#### Пример 2: Класс для расчёта площади прямоугольника"
      ],
      "metadata": {
        "id": "LtsFjTues3xx"
      }
    },
    {
      "cell_type": "code",
      "source": [
        "class Rectangle:\n",
        "    def __init__(self, width, height):\n",
        "        self.width = width\n",
        "        self.height = height\n",
        "\n",
        "    def area(self):\n",
        "        return self.width * self.height\n",
        "\n",
        "# Проверяем\n",
        "rect = Rectangle(5, 3)\n",
        "print(f\"Площадь прямоугольника: {rect.area()}\")\n",
        "# Вывод: Площадь прямоугольника: 15"
      ],
      "metadata": {
        "id": "x3Z6DfUIs7XS",
        "colab": {
          "base_uri": "https://localhost:8080/"
        },
        "outputId": "0571d115-579a-4394-d2eb-c215a4750c49"
      },
      "execution_count": null,
      "outputs": [
        {
          "output_type": "stream",
          "name": "stdout",
          "text": [
            "Площадь прямоугольника: 15\n"
          ]
        }
      ]
    },
    {
      "cell_type": "markdown",
      "source": [
        "Таким образом, класс описывает, какие свойства и методы могут быть у объекта, а объект является конкретным воплощением класса с определёнными значениями свойств. В следующем разделе мы изучим **инкапсуляцию**, которая позволяет защищать данные внутри класса."
      ],
      "metadata": {
        "id": "hkaSEYHUs__q"
      }
    },
    {
      "cell_type": "markdown",
      "source": [
        "## 3. Инкапсуляция\n",
        "\n",
        "**Инкапсуляция** — это принцип ООП, который позволяет ограничить доступ к данным и методам внутри класса. Она защищает данные от некорректного или нежелательного изменения и предоставляет безопасные методы для работы с ними.\n",
        "\n",
        "---\n",
        "\n",
        "### 3.1. Понятие инкапсуляции\n",
        "\n",
        "В Python инкапсуляция реализуется с помощью уровней доступа к атрибутам и методам:\n",
        "\n",
        "1. **Публичные (`public`)**: доступны отовсюду. Например, `self.name`.\n",
        "2. **Защищённые (`protected`)**: доступны внутри класса и его дочерних классов. Используется одно подчёркивание (`_self.name`).\n",
        "3. **Приватные (`private`)**: доступны только внутри класса. Используется двойное подчёркивание (`__self.name`).\n",
        "\n",
        "---\n",
        "\n",
        "### 3.2. Методы работы с данными\n",
        "\n",
        "#### Геттеры и сеттеры\n",
        "\n",
        "- **Геттеры** используются для получения значения атрибута.\n",
        "- **Сеттеры** используются для изменения значения атрибута с проверкой."
      ],
      "metadata": {
        "id": "N2AOZDYittpI"
      }
    },
    {
      "cell_type": "code",
      "source": [
        "class Person:\n",
        "    def __init__(self, name, age):\n",
        "        self.__name = name  # Приватный атрибут\n",
        "        self.__age = age    # Приватный атрибут\n",
        "\n",
        "    # Геттер для имени\n",
        "    def get_name(self):\n",
        "        return self.__name\n",
        "\n",
        "    # Сеттер для имени\n",
        "    def set_name(self, name):\n",
        "        if len(name) > 0:\n",
        "            self.__name = name\n",
        "        else:\n",
        "            print(\"Имя не может быть пустым.\")\n",
        "\n",
        "    # Геттер для возраста\n",
        "    def get_age(self):\n",
        "        return self.__age\n",
        "\n",
        "    # Сеттер для возраста\n",
        "    def set_age(self, age):\n",
        "        if age > 0:\n",
        "            self.__age = age\n",
        "        else:\n",
        "            print(\"Возраст должен быть положительным.\")\n",
        "\n",
        "# Проверяем\n",
        "person = Person(\"Alice\", 30)\n",
        "print(person.get_name())  # Вывод: Alice\n",
        "print(person.get_age())   # Вывод: 30\n",
        "\n",
        "# Меняем данные через сеттеры\n",
        "person.set_name(\"Bob\")\n",
        "person.set_age(25)\n",
        "print(person.get_name())  # Вывод: Bob\n",
        "print(person.get_age())   # Вывод: 25\n",
        "\n",
        "# Некорректные данные\n",
        "person.set_age(-5)  # Вывод: Возраст должен быть положительным."
      ],
      "metadata": {
        "colab": {
          "base_uri": "https://localhost:8080/"
        },
        "id": "tVKKHOrAttM6",
        "outputId": "c8552cd8-7fa2-47d0-dd14-922fe658e23e"
      },
      "execution_count": null,
      "outputs": [
        {
          "output_type": "stream",
          "name": "stdout",
          "text": [
            "Alice\n",
            "30\n",
            "Bob\n",
            "25\n",
            "Возраст должен быть положительным.\n"
          ]
        }
      ]
    },
    {
      "cell_type": "markdown",
      "source": [
        "\n",
        "### 3.3. Примеры инкапсуляции\n",
        "\n",
        "#### Пример 1: Управление счётом в банке"
      ],
      "metadata": {
        "id": "wJoXhrn1t1A3"
      }
    },
    {
      "cell_type": "code",
      "source": [
        "class BankAccount:\n",
        "    def __init__(self, owner, balance=0):\n",
        "        self.__owner = owner  # Приватный атрибут\n",
        "        self.__balance = balance  # Приватный атрибут\n",
        "\n",
        "    # Геттер для баланса\n",
        "    def get_balance(self):\n",
        "        return self.__balance\n",
        "\n",
        "    # Метод для пополнения счёта\n",
        "    def deposit(self, amount):\n",
        "        if amount > 0:\n",
        "            self.__balance += amount\n",
        "            print(f\"Пополнено на {amount}. Баланс: {self.__balance}\")\n",
        "        else:\n",
        "            print(\"Сумма должна быть положительной.\")\n",
        "\n",
        "    # Метод для снятия средств\n",
        "    def withdraw(self, amount):\n",
        "        if 0 < amount <= self.__balance:\n",
        "            self.__balance -= amount\n",
        "            print(f\"Снято {amount}. Баланс: {self.__balance}\")\n",
        "        else:\n",
        "            print(\"Недостаточно средств или некорректная сумма.\")\n",
        "\n",
        "# Проверяем\n",
        "account = BankAccount(\"Alice\", 100)\n",
        "print(account.get_balance())  # Вывод: 100\n",
        "account.deposit(50)           # Вывод: Пополнено на 50. Баланс: 150\n",
        "account.withdraw(30)          # Вывод: Снято 30. Баланс: 120\n",
        "account.withdraw(200)         # Вывод: Недостаточно средств или некорректная сумма."
      ],
      "metadata": {
        "id": "g8cX0itPt6e3"
      },
      "execution_count": null,
      "outputs": []
    },
    {
      "cell_type": "markdown",
      "source": [
        "#### Пример 2: Использование защищённого атрибута"
      ],
      "metadata": {
        "id": "Jv2g5VbNt3JG"
      }
    },
    {
      "cell_type": "code",
      "source": [
        "class Employee:\n",
        "    def __init__(self, name, salary):\n",
        "        self._name = name  # Защищённый атрибут\n",
        "        self._salary = salary  # Защищённый атрибут\n",
        "\n",
        "    def show_details(self):\n",
        "        return f\"Employee: {self._name}, Salary: {self._salary}\"\n",
        "\n",
        "# Проверяем\n",
        "employee = Employee(\"John\", 5000)\n",
        "print(employee.show_details())  # Вывод: Employee: John, Salary: 5000"
      ],
      "metadata": {
        "colab": {
          "base_uri": "https://localhost:8080/"
        },
        "id": "aHb5HVN1uA41",
        "outputId": "20b611ab-6ec9-4c6d-b349-e9aae32bc425"
      },
      "execution_count": null,
      "outputs": [
        {
          "output_type": "stream",
          "name": "stdout",
          "text": [
            "Employee: John, Salary: 5000\n"
          ]
        }
      ]
    },
    {
      "cell_type": "markdown",
      "source": [
        "Инкапсуляция помогает скрывать внутренние детали реализации и предоставляет безопасные методы для работы с данными. В следующем разделе мы изучим **наследование**, которое позволяет создавать новые классы на основе существующих."
      ],
      "metadata": {
        "id": "VpiPjnijuFjD"
      }
    },
    {
      "cell_type": "markdown",
      "source": [
        "## 4. Наследование\n",
        "\n",
        "**Наследование** — это принцип ООП, который позволяет создавать новый класс на основе существующего. Новый класс, называемый **дочерним**, наследует свойства и методы **родительского** класса, а также может добавлять свои или переопределять существующие.\n",
        "\n",
        "---\n",
        "\n",
        "### 4.1. Понятие наследования\n",
        "\n",
        "- **Родительский класс (Base/Parent class):** Класс, от которого наследуются свойства и методы.\n",
        "- **Дочерний класс (Child class):** Класс, который наследует свойства и методы родительского класса.\n",
        "\n",
        "**Преимущества:**\n",
        "- Повторное использование кода.\n",
        "- Расширение функциональности без изменения оригинального класса.\n",
        "\n",
        "---\n",
        "\n",
        "### 4.2. Синтаксис наследования\n",
        "\n",
        "Для создания дочернего класса в Python используется следующий синтаксис:"
      ],
      "metadata": {
        "id": "8O7RhrqOuiPF"
      }
    },
    {
      "cell_type": "code",
      "source": [
        "class Parent:\n",
        "    # Родительский класс\n",
        "    def __init__(self, name):\n",
        "        self.name = name\n",
        "\n",
        "    def greet(self):\n",
        "        return f\"Hello, I am {self.name}.\"\n",
        "\n",
        "class Child(Parent):\n",
        "    # Дочерний класс\n",
        "    def __init__(self, name, age):\n",
        "        super().__init__(name)  # Вызов конструктора родительского класса\n",
        "        self.age = age\n",
        "\n",
        "    def greet_with_age(self):\n",
        "        return f\"{super().greet()} I am {self.age} years old.\"\n",
        "\n",
        "# Проверяем\n",
        "child = Child(\"Alice\", 10)\n",
        "print(child.greet())          # Вывод: Hello, I am Alice.\n",
        "print(child.greet_with_age()) # Вывод: Hello, I am Alice. I am 10 years old."
      ],
      "metadata": {
        "colab": {
          "base_uri": "https://localhost:8080/"
        },
        "id": "bEvF7RP2vouv",
        "outputId": "67499636-13dc-414d-fde0-ce871e329ae3"
      },
      "execution_count": null,
      "outputs": [
        {
          "output_type": "stream",
          "name": "stdout",
          "text": [
            "Hello, I am Alice.\n",
            "Hello, I am Alice. I am 10 years old.\n"
          ]
        }
      ]
    },
    {
      "cell_type": "markdown",
      "source": [
        "\n",
        "---\n",
        "\n",
        "### 4.3. Примеры наследования\n",
        "\n",
        "#### Пример 1: Наследование и расширение функциональности"
      ],
      "metadata": {
        "id": "Sz73L-qivuD5"
      }
    },
    {
      "cell_type": "code",
      "source": [
        "class Vehicle:\n",
        "    def __init__(self, brand, model):\n",
        "        self.brand = brand\n",
        "        self.model = model\n",
        "\n",
        "    def get_info(self):\n",
        "        return f\"Brand: {self.brand}, Model: {self.model}\"\n",
        "\n",
        "class Car(Vehicle):\n",
        "    def __init__(self, brand, model, doors):\n",
        "        super().__init__(brand, model)\n",
        "        self.doors = doors\n",
        "\n",
        "    def get_info(self):\n",
        "        return f\"{super().get_info()}, Doors: {self.doors}\"\n",
        "\n",
        "# Проверяем\n",
        "car = Car(\"Toyota\", \"Corolla\", 4)\n",
        "print(car.get_info())  # Вывод: Brand: Toyota, Model: Corolla, Doors: 4"
      ],
      "metadata": {
        "colab": {
          "base_uri": "https://localhost:8080/"
        },
        "id": "qMZrjvItvuv_",
        "outputId": "cb3785e5-3a7f-4b42-a008-c30ff7b9c591"
      },
      "execution_count": null,
      "outputs": [
        {
          "output_type": "stream",
          "name": "stdout",
          "text": [
            "Brand: Toyota, Model: Corolla, Doors: 4\n"
          ]
        }
      ]
    },
    {
      "cell_type": "markdown",
      "source": [
        "\n",
        "#### Пример 2: Наследование с добавлением новых методов"
      ],
      "metadata": {
        "id": "W6bkriXlvyZQ"
      }
    },
    {
      "cell_type": "code",
      "source": [
        "class Animal:\n",
        "    def __init__(self, name):\n",
        "        self.name = name\n",
        "\n",
        "    def speak(self):\n",
        "        return f\"{self.name} makes a sound.\"\n",
        "\n",
        "class Dog(Animal):\n",
        "    def speak(self):\n",
        "        return f\"{self.name} says Woof!\"\n",
        "\n",
        "class Cat(Animal):\n",
        "    def speak(self):\n",
        "        return f\"{self.name} says Meow!\"\n",
        "\n",
        "# Проверяем\n",
        "dog = Dog(\"Rex\")\n",
        "cat = Cat(\"Whiskers\")\n",
        "print(dog.speak())  # Вывод: Rex says Woof!\n",
        "print(cat.speak())  # Вывод: Whiskers says Meow!"
      ],
      "metadata": {
        "colab": {
          "base_uri": "https://localhost:8080/"
        },
        "id": "A5uBCti7v13B",
        "outputId": "f454fd93-67d8-4416-8950-a435b2e1ff50"
      },
      "execution_count": null,
      "outputs": [
        {
          "output_type": "stream",
          "name": "stdout",
          "text": [
            "Rex says Woof!\n",
            "Whiskers says Meow!\n"
          ]
        }
      ]
    },
    {
      "cell_type": "markdown",
      "source": [
        "\n",
        "#### Пример 3: Использование метода `super()`\n"
      ],
      "metadata": {
        "id": "9GGrb3c0v4P7"
      }
    },
    {
      "cell_type": "code",
      "source": [
        "class Person:\n",
        "    def __init__(self, name, age):\n",
        "        self.name = name\n",
        "        self.age = age\n",
        "\n",
        "    def introduce(self):\n",
        "        return f\"My name is {self.name}, and I am {self.age} years old.\"\n",
        "\n",
        "class Student(Person):\n",
        "    def __init__(self, name, age, student_id):\n",
        "        super().__init__(name, age)\n",
        "        self.student_id = student_id\n",
        "\n",
        "    def introduce(self):\n",
        "        return f\"{super().introduce()} My student ID is {self.student_id}.\"\n",
        "\n",
        "# Проверяем\n",
        "student = Student(\"Alice\", 20, \"S12345\")\n",
        "print(student.introduce())  # Вывод: My name is Alice, and I am 20 years old. My student ID is S12345."
      ],
      "metadata": {
        "colab": {
          "base_uri": "https://localhost:8080/"
        },
        "id": "_BI5GrN0v61w",
        "outputId": "17f44395-6502-49cc-b3ad-cf27970dde93"
      },
      "execution_count": null,
      "outputs": [
        {
          "output_type": "stream",
          "name": "stdout",
          "text": [
            "My name is Alice, and I am 20 years old. My student ID is S12345.\n"
          ]
        }
      ]
    },
    {
      "cell_type": "markdown",
      "source": [
        "Подводя итоги, наследование позволяет использовать код родительского класса и расширять его функциональность. Это упрощает разработку и делает код более гибким и удобным для повторного использования. В следующем разделе мы рассмотрим **полиморфизм**, который позволяет создавать универсальные интерфейсы для работы с объектами различных классов."
      ],
      "metadata": {
        "id": "AyaWAa5hv-G9"
      }
    },
    {
      "cell_type": "markdown",
      "source": [
        "## 5. Полиморфизм\n",
        "\n",
        "**Полиморфизм** — это принцип ООП, который позволяет объектам разных классов использовать одинаковые методы через общий интерфейс. Это достигается благодаря переопределению методов в дочерних классах, что позволяет адаптировать их поведение.\n",
        "\n",
        "---\n",
        "\n",
        "\n",
        "### 5.1. Понятие полиморфизма\n",
        "\n",
        "Полиморфизм упрощает работу с объектами, так как можно вызывать методы без знания их конкретного класса. Все объекты, имеющие метод с одинаковым именем, будут корректно обрабатывать вызовы.\n",
        "\n",
        "---\n",
        "\n",
        "### 5.2. Использование полиморфизма\n",
        "\n",
        "#### Пример: Общий интерфейс для разных классов\n"
      ],
      "metadata": {
        "id": "0NAU5UD4wBvj"
      }
    },
    {
      "cell_type": "code",
      "source": [
        "class Animal:\n",
        "    def speak(self):\n",
        "        raise NotImplementedError(\"Этот метод должен быть переопределён в дочерних классах\")\n",
        "\n",
        "class Dog(Animal):\n",
        "    def speak(self):\n",
        "        return \"Гав!\"\n",
        "\n",
        "class Cat(Animal):\n",
        "    def speak(self):\n",
        "        return \"Мяу!\"\n",
        "\n",
        "# Функция, работающая с любыми объектами, имеющими метод speak\n",
        "def make_sound(animal):\n",
        "    print(animal.speak())\n",
        "\n",
        "# Проверяем\n",
        "dog = Dog()\n",
        "cat = Cat()\n",
        "make_sound(dog)  # Вывод: Гав!\n",
        "make_sound(cat)  # Вывод: Мяу!"
      ],
      "metadata": {
        "colab": {
          "base_uri": "https://localhost:8080/"
        },
        "id": "FLd386J7w94o",
        "outputId": "6c3776a6-e18f-47e7-d9d4-20fdb27fa6d3"
      },
      "execution_count": null,
      "outputs": [
        {
          "output_type": "stream",
          "name": "stdout",
          "text": [
            "Гав!\n",
            "Мяу!\n"
          ]
        }
      ]
    },
    {
      "cell_type": "markdown",
      "source": [
        "---\n",
        "\n",
        "### 5.3. Примеры полиморфизма\n",
        "\n",
        "#### Пример 1: Переопределение методов в дочерних классах"
      ],
      "metadata": {
        "id": "81hcEyd_1RYL"
      }
    },
    {
      "cell_type": "code",
      "source": [
        "class Shape:\n",
        "    def area(self):\n",
        "        raise NotImplementedError(\"Метод area() должен быть реализован в дочерних классах\")\n",
        "\n",
        "class Circle(Shape):\n",
        "    def __init__(self, radius):\n",
        "        self.radius = radius\n",
        "\n",
        "    def area(self):\n",
        "        return 3.14 * self.radius ** 2\n",
        "\n",
        "class Rectangle(Shape):\n",
        "    def __init__(self, width, height):\n",
        "        self.width = width\n",
        "        self.height = height\n",
        "\n",
        "    def area(self):\n",
        "        return self.width * self.height\n",
        "\n",
        "# Проверяем\n",
        "shapes = [Circle(5), Rectangle(4, 6)]\n",
        "\n",
        "for shape in shapes:\n",
        "    print(f\"Площадь: {shape.area()}\")  # Вывод: Площадь: 78.5, Площадь: 24"
      ],
      "metadata": {
        "colab": {
          "base_uri": "https://localhost:8080/"
        },
        "id": "ZYp5_dIt1Xe2",
        "outputId": "d60e81b4-c2b8-44b5-97ed-252d2b1363a3"
      },
      "execution_count": null,
      "outputs": [
        {
          "output_type": "stream",
          "name": "stdout",
          "text": [
            "Площадь: 78.5\n",
            "Площадь: 24\n"
          ]
        }
      ]
    },
    {
      "cell_type": "markdown",
      "source": [
        "---\n",
        "\n",
        "#### Пример 2: Унификация через общий метод\n"
      ],
      "metadata": {
        "id": "VEnNpOgA1UmT"
      }
    },
    {
      "cell_type": "code",
      "source": [
        "class Employee:\n",
        "    def __init__(self, name, salary):\n",
        "        self.name = name\n",
        "        self.salary = salary\n",
        "\n",
        "    def get_info(self):\n",
        "        return f\"{self.name} зарабатывает {self.salary}.\"\n",
        "\n",
        "class Manager(Employee):\n",
        "    def get_info(self):\n",
        "        return f\"{self.name} управляет командой и зарабатывает {self.salary}.\"\n",
        "\n",
        "class Developer(Employee):\n",
        "    def get_info(self):\n",
        "        return f\"{self.name} пишет код и зарабатывает {self.salary}.\"\n",
        "\n",
        "# Проверяем\n",
        "employees = [Manager(\"Алиса\", 5000), Developer(\"Боб\", 4000)]\n",
        "\n",
        "for employee in employees:\n",
        "    print(employee.get_info())\n",
        "# Вывод:\n",
        "# Алиса управляет командой и зарабатывает 5000.\n",
        "# Боб пишет код и зарабатывает 4000."
      ],
      "metadata": {
        "colab": {
          "base_uri": "https://localhost:8080/"
        },
        "id": "03f9HHZv1gdu",
        "outputId": "0f0e14b2-6204-4ef1-db8b-8fb52d0c23cd"
      },
      "execution_count": null,
      "outputs": [
        {
          "output_type": "stream",
          "name": "stdout",
          "text": [
            "Алиса управляет командой и зарабатывает 5000.\n",
            "Боб пишет код и зарабатывает 4000.\n"
          ]
        }
      ]
    },
    {
      "cell_type": "markdown",
      "source": [
        "---\n",
        "\n",
        "#### Пример 3: Полиморфизм в функции"
      ],
      "metadata": {
        "id": "bOdFQ7a91scQ"
      }
    },
    {
      "cell_type": "code",
      "source": [
        "class Vehicle:\n",
        "    def move(self):\n",
        "        raise NotImplementedError(\"Метод move() должен быть реализован в дочерних классах\")\n",
        "\n",
        "class Car(Vehicle):\n",
        "    def move(self):\n",
        "        return \"Машина едет по дороге.\"\n",
        "\n",
        "class Boat(Vehicle):\n",
        "    def move(self):\n",
        "        return \"Лодка плывёт по воде.\"\n",
        "\n",
        "class Plane(Vehicle):\n",
        "    def move(self):\n",
        "        return \"Самолёт летит в небе.\"\n",
        "\n",
        "# Универсальная функция\n",
        "def vehicle_action(vehicle):\n",
        "    print(vehicle.move())\n",
        "\n",
        "# Проверяем\n",
        "car = Car()\n",
        "boat = Boat()\n",
        "plane = Plane()\n",
        "\n",
        "vehicle_action(car)   # Вывод: Машина едет по дороге.\n",
        "vehicle_action(boat)  # Вывод: Лодка плывёт по воде.\n",
        "vehicle_action(plane) # Вывод: Самолёт летит в небе."
      ],
      "metadata": {
        "colab": {
          "base_uri": "https://localhost:8080/"
        },
        "id": "Z7dIGW7c1wbx",
        "outputId": "dc63d0cb-dec4-4e93-aff3-7292258e18ab"
      },
      "execution_count": null,
      "outputs": [
        {
          "output_type": "stream",
          "name": "stdout",
          "text": [
            "Машина едет по дороге.\n",
            "Лодка плывёт по воде.\n",
            "Самолёт летит в небе.\n"
          ]
        }
      ]
    },
    {
      "cell_type": "markdown",
      "source": [
        "Как итог, полиморфизм позволяет работать с объектами различных классов через единый интерфейс. Это упрощает код и делает его более универсальным и масштабируемым. В следующем разделе мы рассмотрим **абстракцию**, которая помогает создавать общий функционал для различных реализаций."
      ],
      "metadata": {
        "id": "WsLAnYcT1vCb"
      }
    },
    {
      "cell_type": "markdown",
      "source": [
        "## 6. Абстракция\n",
        "\n",
        "**Абстракция** — это принцип ООП, который позволяет выделить общие свойства и методы, характерные для группы объектов, и описать их в базовом (абстрактном) классе. Абстрактные классы не предполагают создания экземпляров, их цель — задавать структуру для дочерних классов.\n",
        "\n",
        "---\n",
        "\n",
        "### 6.1. Понятие абстракции\n",
        "\n",
        "Абстракция позволяет скрыть детали реализации и показать только необходимый интерфейс. В Python абстракция реализуется через модуль `abc` (Abstract Base Classes).\n",
        "\n",
        "**Основные понятия:**\n",
        "\n",
        "- Абстрактный класс: класс, который не может быть создан напрямую, но может содержать общую логику для дочерних классов.\n",
        "- Абстрактный метод: метод, который должен быть реализован в дочерних классах.\n",
        "\n",
        "---\n",
        "\n",
        "### 6.2. Примеры абстракции\n",
        "\n",
        "#### Пример 1: Абстрактный класс «Животное»"
      ],
      "metadata": {
        "id": "ujo00o0-19Is"
      }
    },
    {
      "cell_type": "code",
      "source": [
        "from abc import ABC, abstractmethod\n",
        "\n",
        "class Animal(ABC):\n",
        "    @abstractmethod\n",
        "    def speak(self):\n",
        "        \"\"\"Абстрактный метод, который должен быть реализован в дочернем классе\"\"\"\n",
        "        pass\n",
        "\n",
        "class Dog(Animal):\n",
        "    def speak(self):\n",
        "        return \"Гав!\"\n",
        "\n",
        "class Cat(Animal):\n",
        "    def speak(self):\n",
        "        return \"Мяу!\"\n",
        "\n",
        "# Проверяем\n",
        "dog = Dog()\n",
        "cat = Cat()\n",
        "print(dog.speak())  # Вывод: Гав!\n",
        "print(cat.speak())  # Вывод: Мяу!"
      ],
      "metadata": {
        "colab": {
          "base_uri": "https://localhost:8080/"
        },
        "id": "ZGLHQVwC2rxZ",
        "outputId": "083b09b9-f6da-41f9-dd9d-888ab299aca3"
      },
      "execution_count": null,
      "outputs": [
        {
          "output_type": "stream",
          "name": "stdout",
          "text": [
            "Гав!\n",
            "Мяу!\n"
          ]
        }
      ]
    },
    {
      "cell_type": "markdown",
      "source": [
        "\n",
        "Если попытаться создать объект абстрактного класса, будет выброшено исключение:"
      ],
      "metadata": {
        "id": "UXCo4fdF2wI5"
      }
    },
    {
      "cell_type": "code",
      "source": [
        "try:\n",
        "    animal = Animal()\n",
        "except TypeError as e:\n",
        "    print(e)  # Вывод: Can't instantiate abstract class Animal with abstract method speak"
      ],
      "metadata": {
        "colab": {
          "base_uri": "https://localhost:8080/"
        },
        "id": "DgQyCSlF2yGE",
        "outputId": "09b0c523-d46a-49a5-9f3a-10232f01585f"
      },
      "execution_count": null,
      "outputs": [
        {
          "output_type": "stream",
          "name": "stdout",
          "text": [
            "Can't instantiate abstract class Animal with abstract method speak\n"
          ]
        }
      ]
    },
    {
      "cell_type": "markdown",
      "source": [
        "---\n",
        "\n",
        "#### Пример 2: Абстрактный класс для расчёта площади"
      ],
      "metadata": {
        "id": "VMT3GUaU21RF"
      }
    },
    {
      "cell_type": "code",
      "source": [
        "from abc import ABC, abstractmethod\n",
        "\n",
        "class Shape(ABC):\n",
        "    @abstractmethod\n",
        "    def area(self):\n",
        "        \"\"\"Абстрактный метод для расчёта площади\"\"\"\n",
        "        pass\n",
        "\n",
        "    @abstractmethod\n",
        "    def perimeter(self):\n",
        "        \"\"\"Абстрактный метод для расчёта периметра\"\"\"\n",
        "        pass\n",
        "\n",
        "class Rectangle(Shape):\n",
        "    def __init__(self, width, height):\n",
        "        self.width = width\n",
        "        self.height = height\n",
        "\n",
        "    def area(self):\n",
        "        return self.width * self.height\n",
        "\n",
        "    def perimeter(self):\n",
        "        return 2 * (self.width + self.height)\n",
        "\n",
        "class Circle(Shape):\n",
        "    def __init__(self, radius):\n",
        "        self.radius = radius\n",
        "\n",
        "    def area(self):\n",
        "        return 3.14 * self.radius ** 2\n",
        "\n",
        "    def perimeter(self):\n",
        "        return 2 * 3.14 * self.radius\n",
        "\n",
        "# Проверяем\n",
        "rect = Rectangle(4, 5)\n",
        "circle = Circle(3)\n",
        "\n",
        "print(f\"Площадь прямоугольника: {rect.area()}, Периметр: {rect.perimeter()}\")\n",
        "# Вывод: Площадь прямоугольника: 20, Периметр: 18\n",
        "\n",
        "print(f\"Площадь круга: {circle.area()}, Периметр: {circle.perimeter()}\")\n",
        "# Вывод: Площадь круга: 28.26, Периметр: 18.84"
      ],
      "metadata": {
        "colab": {
          "base_uri": "https://localhost:8080/"
        },
        "id": "mauseT3i25y3",
        "outputId": "422ad200-9cbf-49b8-d4d6-0bd4a7b11d69"
      },
      "execution_count": null,
      "outputs": [
        {
          "output_type": "stream",
          "name": "stdout",
          "text": [
            "Площадь прямоугольника: 20, Периметр: 18\n",
            "Площадь круга: 28.26, Периметр: 18.84\n"
          ]
        }
      ]
    },
    {
      "cell_type": "markdown",
      "source": [
        "--\n",
        "\n",
        "### 6.3. Абстрактные методы и общая логика\n",
        "\n",
        "Абстрактные классы могут содержать не только абстрактные методы, но и общие методы с реализацией, которые будут наследоваться дочерними классами.\n"
      ],
      "metadata": {
        "id": "F7MJ9XDZ2-SX"
      }
    },
    {
      "cell_type": "code",
      "source": [
        "from abc import ABC, abstractmethod\n",
        "\n",
        "class Worker(ABC):\n",
        "    def __init__(self, name):\n",
        "        self.name = name\n",
        "\n",
        "    @abstractmethod\n",
        "    def work(self):\n",
        "        \"\"\"Абстрактный метод для выполнения работы\"\"\"\n",
        "        pass\n",
        "\n",
        "    def greet(self):\n",
        "        return f\"Привет, я {self.name}.\"\n",
        "\n",
        "class Engineer(Worker):\n",
        "    def work(self):\n",
        "        return f\"{self.name} разрабатывает проект.\"\n",
        "\n",
        "class Teacher(Worker):\n",
        "    def work(self):\n",
        "        return f\"{self.name} обучает студентов.\"\n",
        "\n",
        "# Проверяем\n",
        "engineer = Engineer(\"Алексей\")\n",
        "teacher = Teacher(\"Мария\")\n",
        "\n",
        "print(engineer.greet())  # Вывод: Привет, я Алексей.\n",
        "print(engineer.work())   # Вывод: Алексей разрабатывает проект.\n",
        "print(teacher.greet())   # Вывод: Привет, я Мария.\n",
        "print(teacher.work())    # Вывод: Мария обучает студентов."
      ],
      "metadata": {
        "colab": {
          "base_uri": "https://localhost:8080/"
        },
        "id": "260Oj5LJ3HDm",
        "outputId": "3fa27304-0504-427e-9ad4-07fc622a168c"
      },
      "execution_count": null,
      "outputs": [
        {
          "output_type": "stream",
          "name": "stdout",
          "text": [
            "Привет, я Алексей.\n",
            "Алексей разрабатывает проект.\n",
            "Привет, я Мария.\n",
            "Мария обучает студентов.\n"
          ]
        }
      ]
    },
    {
      "cell_type": "markdown",
      "source": [
        "Таким образом, абстракция помогает определить общий интерфейс для группы объектов, скрывая детали их реализации. Это делает код более организованным и поддерживаемым. В рамках ООП абстракция тесно связана с другими принципами, такими как полиморфизм и наследование, и вместе они позволяют строить гибкие и масштабируемые системы."
      ],
      "metadata": {
        "id": "4LHo9cUC3F5g"
      }
    },
    {
      "cell_type": "markdown",
      "source": [
        "## 7. Практические задания\n",
        "\n",
        "### Задание 1: Класс \"Студент\"\n",
        "Создайте класс `Student`, который будет представлять студента.\n",
        "\n",
        "**Требования:**\n",
        "1. У класса должны быть атрибуты:\n",
        "   - имя студента (`name`);\n",
        "   - список оценок (`grades`), который по умолчанию пуст.\n",
        "2. Реализуйте методы:\n",
        "   - `add_grade(grade)` — добавляет оценку в список (оценка должна быть от 1 до 5, иначе игнорируется).\n",
        "   - `get_average_grade()` — возвращает среднюю оценку студента (или `0`, если нет оценок).\n",
        "3. Создайте несколько экземпляров класса, добавьте оценки и выведите средние оценки.\n",
        "\n",
        "---\n",
        "\n",
        "### Задание 2: Инкапсуляция в классе \"Пользователь\"\n",
        "Создайте класс `User`, который будет представлять пользователя системы.\n",
        "\n",
        "**Требования:**\n",
        "1. У класса должны быть приватные атрибуты:\n",
        "   - имя пользователя (`username`);\n",
        "   - пароль (`password`).\n",
        "2. Реализуйте методы:\n",
        "   - `set_password(new_password)` — устанавливает новый пароль (проверяет, чтобы длина пароля была не меньше 8 символов).\n",
        "   - `check_password(input_password)` — возвращает `True`, если переданный пароль совпадает с текущим, иначе `False`.\n",
        "3. Создайте объект пользователя, измените пароль и проверьте его корректность.\n",
        "\n",
        "---\n",
        "\n",
        "### Задание 3: Наследование в классе \"Устройство\"\n",
        "Создайте базовый класс `Device` и дочерние классы `Laptop` и `Smartphone`.\n",
        "\n",
        "**Требования:**\n",
        "1. Класс `Device`:\n",
        "   - Имеет атрибут `name` (название устройства).\n",
        "   - Имеет метод `info()`, который возвращает строку `\"Устройство: <name>\"`.\n",
        "2. Класс `Laptop`:\n",
        "   - Наследуется от `Device`.\n",
        "   - Имеет дополнительный атрибут `ram` (объём оперативной памяти в ГБ).\n",
        "   - Переопределяет метод `info()`, чтобы возвращать строку `\"Ноутбук: <name>, RAM: <ram> ГБ.\"`\n",
        "3. Класс `Smartphone`:\n",
        "   - Наследуется от `Device`.\n",
        "   - Имеет дополнительный атрибут `camera` (разрешение камеры в МП).\n",
        "   - Переопределяет метод `info()`, чтобы возвращать строку `\"Смартфон: <name>, Камера: <camera> МП.\"`\n",
        "4. Создайте объекты `Laptop` и `Smartphone`, вызовите метод `info()` и выведите результат.\n",
        "\n",
        "---\n",
        "\n",
        "### Задание 4: Полиморфизм в классе \"Транспортное средство\"\n",
        "Создайте классы `Bicycle`, `Car` и `Airplane`, которые представляют разные транспортные средства.\n",
        "\n",
        "**Требования:**\n",
        "1. Каждый класс имеет метод `move()`:\n",
        "   - `Bicycle` возвращает `\"Велосипед движется по дороге.\"`\n",
        "   - `Car` возвращает `\"Машина движется по шоссе.\"`\n",
        "   - `Airplane` возвращает `\"Самолёт летит в небе.\"`\n",
        "2. Напишите функцию `transport_action(vehicle)`, которая принимает объект и вызывает его метод `move()`.\n",
        "3. Создайте список объектов различных транспортных средств и вызовите для каждого функцию `transport_action()`.\n",
        "\n",
        "---\n",
        "\n",
        "### Задание 5: Абстракция в классе \"Банк\"\n",
        "Создайте абстрактный класс `BankAccount` и дочерние классы `SavingsAccount` и `CurrentAccount`.\n",
        "\n",
        "**Требования:**\n",
        "1. Абстрактный класс `BankAccount`:\n",
        "   - Имеет атрибуты `owner` (владелец счёта) и `balance` (баланс, по умолчанию 0).\n",
        "   - Имеет абстрактные методы `deposit(amount)` и `withdraw(amount)`.\n",
        "2. Класс `SavingsAccount`:\n",
        "   - Наследуется от `BankAccount`.\n",
        "   - Реализует методы:\n",
        "     - `deposit(amount)` — увеличивает баланс на сумму.\n",
        "     - `withdraw(amount)` — разрешает снятие средств, если сумма не превышает баланс.\n",
        "3. Класс `CurrentAccount`:\n",
        "   - Наследуется от `BankAccount`.\n",
        "   - Реализует методы:\n",
        "     - `deposit(amount)` — увеличивает баланс на сумму.\n",
        "     - `withdraw(amount)` — разрешает снятие средств с возможностью перерасхода (баланс может быть отрицательным, но не меньше -1000).\n",
        "4. Создайте объекты классов `SavingsAccount` и `CurrentAccount`, вызовите их методы и выведите результаты."
      ],
      "metadata": {
        "id": "tGk4_Pwc4RBc"
      }
    },
    {
      "cell_type": "markdown",
      "source": [
        "## Ответы и разбор заданий\n",
        "\n",
        "---\n",
        "\n",
        "### Задание 1: Класс \"Студент\"\n",
        "\n",
        "**Решение:**"
      ],
      "metadata": {
        "id": "WJ8JPTpX6Dcf"
      }
    },
    {
      "cell_type": "code",
      "source": [
        "class Student:\n",
        "    def __init__(self, name):\n",
        "        self.name = name\n",
        "        self.grades = []  # Изначально список оценок пуст\n",
        "\n",
        "    def add_grade(self, grade):\n",
        "        if 1 <= grade <= 5:\n",
        "            self.grades.append(grade)\n",
        "        else:\n",
        "            print(\"Оценка должна быть в диапазоне от 1 до 5.\")\n",
        "\n",
        "    def get_average_grade(self):\n",
        "        if not self.grades:\n",
        "            return 0  # Если нет оценок, возвращаем 0\n",
        "        return sum(self.grades) / len(self.grades)\n",
        "\n",
        "# Создаём студентов\n",
        "student1 = Student(\"Алиса\")\n",
        "student2 = Student(\"Боб\")\n",
        "\n",
        "# Добавляем оценки\n",
        "student1.add_grade(4)\n",
        "student1.add_grade(5)\n",
        "student1.add_grade(6)  # Некорректная оценка\n",
        "student2.add_grade(3)\n",
        "student2.add_grade(4)\n",
        "\n",
        "# Выводим средние оценки\n",
        "print(f\"Средняя оценка {student1.name}: {student1.get_average_grade()}\")  # Вывод: 4.5\n",
        "print(f\"Средняя оценка {student2.name}: {student2.get_average_grade()}\")  # Вывод: 3.5"
      ],
      "metadata": {
        "colab": {
          "base_uri": "https://localhost:8080/"
        },
        "id": "OrUVZh9I6Ocx",
        "outputId": "83d9e525-64a0-46b8-c4a7-a9661c85adc8"
      },
      "execution_count": null,
      "outputs": [
        {
          "output_type": "stream",
          "name": "stdout",
          "text": [
            "Оценка должна быть в диапазоне от 1 до 5.\n",
            "Средняя оценка Алиса: 4.5\n",
            "Средняя оценка Боб: 3.5\n"
          ]
        }
      ]
    },
    {
      "cell_type": "markdown",
      "source": [
        "\n",
        "**Разбор:**\n",
        "\n",
        "- Геттеры и методы проверки введённых данных позволяют безопасно работать с оценками.\n",
        "- Метод `get_average_grade` учитывает ситуацию, когда список оценок пуст.\n",
        "\n",
        "---\n",
        "\n",
        "### Задание 2: Инкапсуляция в классе \"Пользователь\"\n",
        "\n",
        "**Решение:**"
      ],
      "metadata": {
        "id": "iRWs6TXY6Kdj"
      }
    },
    {
      "cell_type": "code",
      "source": [
        "class User:\n",
        "    def __init__(self, username, password):\n",
        "        self.__username = username\n",
        "        self.__password = password  # Приватный атрибут\n",
        "\n",
        "    def set_password(self, new_password):\n",
        "        if len(new_password) >= 8:\n",
        "            self.__password = new_password\n",
        "            print(\"Пароль успешно изменён.\")\n",
        "        else:\n",
        "            print(\"Пароль должен содержать не менее 8 символов.\")\n",
        "\n",
        "    def check_password(self, input_password):\n",
        "        return self.__password == input_password\n",
        "\n",
        "# Создаём пользователя\n",
        "user = User(\"admin\", \"password123\")\n",
        "\n",
        "# Проверяем текущий пароль\n",
        "print(user.check_password(\"password123\"))  # Вывод: True\n",
        "\n",
        "# Изменяем пароль\n",
        "user.set_password(\"12345\")  # Некорректный пароль\n",
        "user.set_password(\"newpassword123\")  # Корректный пароль\n",
        "\n",
        "# Проверяем новый пароль\n",
        "print(user.check_password(\"newpassword123\"))  # Вывод: True"
      ],
      "metadata": {
        "colab": {
          "base_uri": "https://localhost:8080/"
        },
        "id": "gQljlXju6UB5",
        "outputId": "2d588da8-ab7c-4661-9a59-1d58d584d3ca"
      },
      "execution_count": null,
      "outputs": [
        {
          "output_type": "stream",
          "name": "stdout",
          "text": [
            "True\n",
            "Пароль должен содержать не менее 8 символов.\n",
            "Пароль успешно изменён.\n",
            "True\n"
          ]
        }
      ]
    },
    {
      "cell_type": "markdown",
      "source": [
        "\n",
        "**Разбор:**\n",
        "\n",
        "- Приватные атрибуты защищают пароль от прямого доступа.\n",
        "- Проверки длины пароля и метода сравнения делают работу с паролями безопасной.\n",
        "\n",
        "---\n",
        "\n",
        "### Задание 3: Наследование в классе \"Устройство\"\n",
        "\n",
        "**Решение:**"
      ],
      "metadata": {
        "id": "TyI97GpG6gOz"
      }
    },
    {
      "cell_type": "code",
      "source": [
        "class Device:\n",
        "    def __init__(self, name):\n",
        "        self.name = name\n",
        "\n",
        "    def info(self):\n",
        "        return f\"Устройство: {self.name}\"\n",
        "\n",
        "class Laptop(Device):\n",
        "    def __init__(self, name, ram):\n",
        "        super().__init__(name)\n",
        "        self.ram = ram\n",
        "\n",
        "    def info(self):\n",
        "        return f\"Ноутбук: {self.name}, RAM: {self.ram} ГБ.\"\n",
        "\n",
        "class Smartphone(Device):\n",
        "    def __init__(self, name, camera):\n",
        "        super().__init__(name)\n",
        "        self.camera = camera\n",
        "\n",
        "    def info(self):\n",
        "        return f\"Смартфон: {self.name}, Камера: {self.camera} МП.\"\n",
        "\n",
        "# Создаём устройства\n",
        "laptop = Laptop(\"MacBook Pro\", 16)\n",
        "smartphone = Smartphone(\"iPhone\", 12)\n",
        "\n",
        "# Выводим информацию\n",
        "print(laptop.info())  # Вывод: Ноутбук: MacBook Pro, RAM: 16 ГБ.\n",
        "print(smartphone.info())  # Вывод: Смартфон: iPhone, Камера: 12 МП."
      ],
      "metadata": {
        "id": "ELd8aSTV6xHk"
      },
      "execution_count": null,
      "outputs": []
    },
    {
      "cell_type": "markdown",
      "source": [
        "\n",
        "**Разбор:**\n",
        "\n",
        "- Использование `super()` позволяет вызывать родительский метод `__init__`.\n",
        "- Методы `info()` переопределяются для добавления специфической информации.\n",
        "\n",
        "---\n",
        "\n",
        "### Задание 4: Полиморфизм в классе \"Транспортное средство\"\n",
        "\n",
        "**Решение:**"
      ],
      "metadata": {
        "id": "9jE4X4F26za_"
      }
    },
    {
      "cell_type": "code",
      "source": [
        "class Bicycle:\n",
        "    def move(self):\n",
        "        return \"Велосипед движется по дороге.\"\n",
        "\n",
        "class Car:\n",
        "    def move(self):\n",
        "        return \"Машина движется по шоссе.\"\n",
        "\n",
        "class Airplane:\n",
        "    def move(self):\n",
        "        return \"Самолёт летит в небе.\"\n",
        "\n",
        "def transport_action(vehicle):\n",
        "    print(vehicle.move())\n",
        "\n",
        "# Создаём транспортные средства\n",
        "bicycle = Bicycle()\n",
        "car = Car()\n",
        "airplane = Airplane()\n",
        "\n",
        "# Вызываем метод move() через функцию\n",
        "for vehicle in [bicycle, car, airplane]:\n",
        "    transport_action(vehicle)\n",
        "# Вывод:\n",
        "# Велосипед движется по дороге.\n",
        "# Машина движется по шоссе.\n",
        "# Самолёт летит в небе."
      ],
      "metadata": {
        "id": "HuHkUw0D62kD"
      },
      "execution_count": null,
      "outputs": []
    },
    {
      "cell_type": "markdown",
      "source": [
        "\n",
        "**Разбор:**\n",
        "\n",
        "- Полиморфизм позволяет работать с объектами разных классов через общий метод `move()`.\n",
        "- Универсальная функция `transport_action()` демонстрирует независимость кода от конкретного типа объекта.\n",
        "\n",
        "---\n",
        "\n",
        "### Задание 5: Абстракция в классе \"Банк\"\n",
        "\n",
        "**Решение:**"
      ],
      "metadata": {
        "id": "SQceGiJi65dG"
      }
    },
    {
      "cell_type": "code",
      "source": [
        "from abc import ABC, abstractmethod\n",
        "\n",
        "class BankAccount(ABC):\n",
        "    def __init__(self, owner, balance=0):\n",
        "        self.owner = owner\n",
        "        self.balance = balance\n",
        "\n",
        "    @abstractmethod\n",
        "    def deposit(self, amount):\n",
        "        pass\n",
        "\n",
        "    @abstractmethod\n",
        "    def withdraw(self, amount):\n",
        "        pass\n",
        "\n",
        "class SavingsAccount(BankAccount):\n",
        "    def deposit(self, amount):\n",
        "        if amount > 0:\n",
        "            self.balance += amount\n",
        "            print(f\"На счет {self.owner} зачислено {amount}. Баланс: {self.balance}\")\n",
        "        else:\n",
        "            print(\"Сумма должна быть положительной.\")\n",
        "\n",
        "    def withdraw(self, amount):\n",
        "        if 0 < amount <= self.balance:\n",
        "            self.balance -= amount\n",
        "            print(f\"Со счета {self.owner} снято {amount}. Баланс: {self.balance}\")\n",
        "        else:\n",
        "            print(\"Недостаточно средств.\")\n",
        "\n",
        "class CurrentAccount(BankAccount):\n",
        "    def deposit(self, amount):\n",
        "        if amount > 0:\n",
        "            self.balance += amount\n",
        "            print(f\"На счет {self.owner} зачислено {amount}. Баланс: {self.balance}\")\n",
        "        else:\n",
        "            print(\"Сумма должна быть положительной.\")\n",
        "\n",
        "    def withdraw(self, amount):\n",
        "        if self.balance - amount >= -1000:\n",
        "            self.balance -= amount\n",
        "            print(f\"Со счета {self.owner} снято {amount}. Баланс: {self.balance}\")\n",
        "        else:\n",
        "            print(\"Перерасход превышает лимит (-1000).\")\n",
        "\n",
        "# Создаём счета\n",
        "savings = SavingsAccount(\"Алиса\", 1000)\n",
        "current = CurrentAccount(\"Боб\", 500)\n",
        "\n",
        "# Работаем с методами\n",
        "savings.deposit(200)\n",
        "savings.withdraw(500)\n",
        "current.withdraw(700)\n",
        "current.withdraw(900)"
      ],
      "metadata": {
        "colab": {
          "base_uri": "https://localhost:8080/"
        },
        "id": "aj52ir5d68MR",
        "outputId": "59db8b3e-ecfe-4ea5-fbe7-1e77f454cab4"
      },
      "execution_count": null,
      "outputs": [
        {
          "output_type": "stream",
          "name": "stdout",
          "text": [
            "На счет Алиса зачислено 200. Баланс: 1200\n",
            "Со счета Алиса снято 500. Баланс: 700\n",
            "Со счета Боб снято 700. Баланс: -200\n",
            "Перерасход превышает лимит (-1000).\n"
          ]
        }
      ]
    },
    {
      "cell_type": "markdown",
      "source": [
        "\n",
        "**Разбор:**\n",
        "\n",
        "- Абстрактные методы обеспечивают наличие базовой структуры в дочерних классах.\n",
        "- Разные типы счетов демонстрируют полиморфизм в реализации методов."
      ],
      "metadata": {
        "id": "cFnpEBNj6_g7"
      }
    },
    {
      "cell_type": "markdown",
      "source": [
        "## Заключение\n",
        "\n",
        "Объектно-ориентированное программирование (ООП) — это мощный подход к разработке, позволяющий создавать гибкие и масштабируемые приложения. Мы изучили основные принципы ООП: инкапсуляцию, наследование, полиморфизм и абстракцию, а также научились работать с классами и объектами.\n",
        "\n",
        "Используйте ООП для упрощения структуры кода, повторного использования логики и повышения читаемости программ. Практикуйтесь на реальных задачах, и со временем эти принципы станут естественной частью вашего подхода к программированию."
      ],
      "metadata": {
        "id": "FIlFasqH8Dfj"
      }
    }
  ]
}
