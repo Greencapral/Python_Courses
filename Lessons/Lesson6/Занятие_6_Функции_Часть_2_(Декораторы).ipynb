{
  "nbformat": 4,
  "nbformat_minor": 0,
  "metadata": {
    "colab": {
      "provenance": [],
      "include_colab_link": true
    },
    "kernelspec": {
      "name": "python3",
      "display_name": "Python 3"
    },
    "language_info": {
      "name": "python"
    }
  },
  "cells": [
    {
      "cell_type": "markdown",
      "metadata": {
        "id": "view-in-github",
        "colab_type": "text"
      },
      "source": [
        "<a href=\"https://colab.research.google.com/github/Greencapral/Python_Courses/blob/main/%22%D0%97%D0%B0%D0%BD%D1%8F%D1%82%D0%B8%D0%B5_6_%D0%A4%D1%83%D0%BD%D0%BA%D1%86%D0%B8%D0%B8_%D0%A7%D0%B0%D1%81%D1%82%D1%8C_2_(%D0%94%D0%B5%D0%BA%D0%BE%D1%80%D0%B0%D1%82%D0%BE%D1%80%D1%8B)_ipynb%22.ipynb\" target=\"_parent\"><img src=\"https://colab.research.google.com/assets/colab-badge.svg\" alt=\"Open In Colab\"/></a>"
      ]
    },
    {
      "cell_type": "markdown",
      "source": [
        "\n",
        "## 1. Введение\n",
        "\n",
        "В этом занятии мы продолжим изучение функций в Python, погрузившись в их более продвинутые возможности. Понимание тонкостей работы функций позволит вам писать более эффективный, элегантный и оптимизированный код. Мы рассмотрим однострочные выражения, такие как списковые включения и генераторы, изучим области видимости переменных внутри функций, разберёмся с замыканиями и познакомимся с мощным инструментом метапрограммирования — декораторами.\n",
        "\n",
        "Изучение этих тем поможет вам:\n",
        "\n",
        "- Упростить и сократить код с помощью однострочных выражений.\n",
        "- Понимать и контролировать области видимости переменных в сложных программах.\n",
        "- Использовать замыкания для создания гибких и динамических функций.\n",
        "- Создавать и применять декораторы для расширения функциональности функций без изменения их исходного кода.\n",
        "\n",
        "---\n",
        "\n",
        "## 2. Однострочные выражения: включения и генераторы\n",
        "\n",
        "Однострочные выражения позволяют создавать новые последовательности на основе существующих, используя компактный и понятный синтаксис. В Python существуют несколько типов включений: списковые, множественные, словарные и генераторные выражения.\n",
        "\n",
        "### 2.1. Списковые включения\n",
        "\n",
        "**Списковые включения (list comprehensions)** — это способ создания списков на основе существующих итерируемых объектов (списки, строки, диапазоны и т.д.) с помощью компактного синтаксиса.\n",
        "\n",
        "**Синтаксис:**\n",
        "\n",
        "```python\n",
        "[выражение for элемент in итерируемый_объект (if условие)]\n",
        "```\n",
        "\n",
        "- **`выражение`** — какое-либо действие или преобразование над элементом.\n",
        "- **`for элемент in итерируемый_объект`** — цикл, проходящий по каждому элементу итерируемого объекта.\n",
        "- **`if условие`** — необязательная часть, позволяющая фильтровать элементы по условию.\n",
        "\n",
        "#### Примеры использования:\n",
        "\n",
        "1. **Создание списка квадратов чисел:**"
      ],
      "metadata": {
        "id": "iSVCvD85lcrT"
      }
    },
    {
      "cell_type": "code",
      "source": [
        "numbers = [1, 2, 3, 4, 5]\n",
        "squares = [x ** 2 for x in numbers]\n",
        "print(squares)  # Вывод: [1, 4, 9, 16, 25]"
      ],
      "metadata": {
        "colab": {
          "base_uri": "https://localhost:8080/"
        },
        "id": "KtZ1TalClfk2",
        "outputId": "f8a4d29c-27b1-45fa-d2aa-d76364642cdb"
      },
      "execution_count": null,
      "outputs": [
        {
          "output_type": "stream",
          "name": "stdout",
          "text": [
            "[1, 4, 9, 16, 25]\n"
          ]
        }
      ]
    },
    {
      "cell_type": "markdown",
      "source": [
        "2. **Фильтрация чётных чисел:**"
      ],
      "metadata": {
        "id": "orKQhS7llikD"
      }
    },
    {
      "cell_type": "code",
      "source": [
        "numbers = range(10)\n",
        "even_numbers = [x for x in numbers if x % 2 == 0]\n",
        "print(even_numbers)  # Вывод: [0, 2, 4, 6, 8]"
      ],
      "metadata": {
        "id": "2_qKNmSdll1P"
      },
      "execution_count": null,
      "outputs": []
    },
    {
      "cell_type": "markdown",
      "source": [
        "3. **Комбинация двух списков:**\n"
      ],
      "metadata": {
        "id": "xDkT4kP9lnbA"
      }
    },
    {
      "cell_type": "code",
      "source": [
        "colors = ['red', 'green', 'blue']\n",
        "objects = ['apple', 'tree', 'sky']\n",
        "combinations = [f\"{color} {obj}\" for color in colors for obj in objects]\n",
        "print(combinations)\n",
        "# Вывод: ['red apple', 'red tree', 'red sky', 'green apple', ...]"
      ],
      "metadata": {
        "colab": {
          "base_uri": "https://localhost:8080/"
        },
        "id": "KMpvITTUlojC",
        "outputId": "90de67eb-cbe5-4009-aaed-ee57bd0c19d6"
      },
      "execution_count": null,
      "outputs": [
        {
          "output_type": "stream",
          "name": "stdout",
          "text": [
            "['red apple', 'red tree', 'red sky', 'green apple', 'green tree', 'green sky', 'blue apple', 'blue tree', 'blue sky']\n"
          ]
        }
      ]
    },
    {
      "cell_type": "markdown",
      "source": [
        "\n",
        "### 2.2. Генераторные выражения\n",
        "\n",
        "**Генераторные выражения** похожи на списковые включения, но они не создают сразу весь список в памяти. Вместо этого они создают генератор, который генерирует элементы по одному по мере необходимости. Это позволяет экономить память при работе с большими данными.\n",
        "\n",
        "**Синтаксис:**\n",
        "\n",
        "```python\n",
        "(выражение for элемент in итерируемый_объект (if условие))\n",
        "```\n",
        "\n",
        "Обратите внимание на использование круглых скобок вместо квадратных.\n",
        "\n",
        "#### Примеры использования:\n",
        "\n",
        "1. **Создание генератора квадратов чисел:**"
      ],
      "metadata": {
        "id": "eHtzYTXIluuV"
      }
    },
    {
      "cell_type": "code",
      "source": [
        "numbers = [1, 2, 3, 4, 5]\n",
        "squares_gen = (x ** 2 for x in numbers)\n",
        "print(squares_gen)  # Вывод: <generator object <genexpr> at 0x...>\n",
        "\n",
        "# Получение элементов генератора\n",
        "for square in squares_gen:\n",
        "    print(square)\n",
        "# Вывод:\n",
        "# 1\n",
        "# 4\n",
        "# 9\n",
        "# 16\n",
        "# 25"
      ],
      "metadata": {
        "colab": {
          "base_uri": "https://localhost:8080/"
        },
        "id": "3H-soiDqlyj_",
        "outputId": "14195dc6-b0b9-46d7-b18a-d89f5e6ea4d5"
      },
      "execution_count": null,
      "outputs": [
        {
          "output_type": "stream",
          "name": "stdout",
          "text": [
            "<generator object <genexpr> at 0x7ac26928b060>\n",
            "1\n",
            "4\n",
            "9\n",
            "16\n",
            "25\n"
          ]
        }
      ]
    },
    {
      "cell_type": "markdown",
      "source": [
        "2. **Использование генератора с функцией `sum()`:**\n"
      ],
      "metadata": {
        "id": "imxXq8Fkl4bH"
      }
    },
    {
      "cell_type": "code",
      "source": [
        "numbers = range(1000000)\n",
        "total = sum(x for x in numbers)\n",
        "print(total)  # Вывод: 499999500000"
      ],
      "metadata": {
        "id": "yT2vK5TXl6Qh"
      },
      "execution_count": null,
      "outputs": []
    },
    {
      "cell_type": "markdown",
      "source": [
        "\n",
        "Здесь генераторное выражение позволяет посчитать сумму миллионов чисел без создания списка, что экономит память."
      ],
      "metadata": {
        "id": "sZTtDC9Qp4jl"
      }
    },
    {
      "cell_type": "markdown",
      "source": [
        "\n",
        "### 2.3. Создание генераторов с помощью `yield`\n",
        "\n",
        "**Генераторы** в Python — это функции, которые возвращают объект генератора и используют ключевое слово `yield` для возврата значения во время итерации. В отличие от обычных функций, которые используют `return` и завершают свою работу после возврата значения, генераторы сохраняют своё состояние между вызовами и могут возобновлять выполнение с того места, где остановились.\n",
        "\n",
        "#### 2.3.1. Создание генератора с помощью `yield`\n",
        "\n",
        "Чтобы создать генератор, определите функцию и используйте внутри неё оператор `yield` вместо `return`.\n",
        "\n",
        "**Пример: Генератор последовательности чисел**\n"
      ],
      "metadata": {
        "id": "tbZ5GYHmp5cE"
      }
    },
    {
      "cell_type": "code",
      "source": [
        "def my_generator():\n",
        "    yield 1\n",
        "    yield 2\n",
        "    yield 3\n",
        "\n",
        "gen = my_generator()\n",
        "print(next(gen))  # Вывод: 1\n",
        "print(next(gen))  # Вывод: 2\n",
        "print(next(gen))  # Вывод: 3"
      ],
      "metadata": {
        "colab": {
          "base_uri": "https://localhost:8080/"
        },
        "id": "fcp8Fjbtp8zU",
        "outputId": "46fe7fdd-645d-43c5-a0dc-7ffbfd6f9129"
      },
      "execution_count": null,
      "outputs": [
        {
          "output_type": "stream",
          "name": "stdout",
          "text": [
            "1\n",
            "2\n",
            "3\n"
          ]
        }
      ]
    },
    {
      "cell_type": "markdown",
      "source": [
        "\n",
        "- При первом вызове `next(gen)` функция `my_generator` выполняется до первого оператора `yield` и возвращает значение `1`.\n",
        "- При последующих вызовах `next(gen)` выполнение продолжается с того места, где было остановлено, и до следующего оператора `yield`.\n",
        "\n",
        "#### 2.3.2. Как работает `yield`\n",
        "\n",
        "- **Сохранение состояния**: После каждого `yield` состояние функции (все локальные переменные и точка выполнения) сохраняется.\n",
        "- **Возобновление выполнения**: При следующем вызове генератора выполнение продолжается с точки после последнего `yield`.\n",
        "- **Завершение генератора**: Когда функция достигает конца или выполняет оператор `return`, генератор возбуждает исключение `StopIteration`.\n",
        "\n",
        "#### 2.3.3. Преимущества использования генераторов\n",
        "\n",
        "- **Эффективное использование памяти**: Генераторы не хранят всю последовательность в памяти, а генерируют значения по мере необходимости. Это особенно полезно при работе с большими данными или бесконечными последовательностями.\n",
        "- **Упрощение кода**: Генераторы позволяют писать более понятный и компактный код для итерационных алгоритмов.\n",
        "\n",
        "#### 2.3.4. Примеры использования генераторов с `yield`\n",
        "\n",
        "**Пример 1: Генератор чисел Фибоначчи**\n"
      ],
      "metadata": {
        "id": "Dnwwzh9vp99M"
      }
    },
    {
      "cell_type": "code",
      "source": [
        "def fibonacci(n):\n",
        "    a, b = 0, 1\n",
        "    count = 0\n",
        "    while count < n:\n",
        "        yield a\n",
        "        a, b = b, a + b\n",
        "        count += 1\n",
        "\n",
        "# Использование генератора\n",
        "for num in fibonacci(10):\n",
        "    print(num)\n",
        "# Вывод: 0 1 1 2 3 5 8 13 21 34"
      ],
      "metadata": {
        "colab": {
          "base_uri": "https://localhost:8080/"
        },
        "id": "mbS1-Q3jqCoq",
        "outputId": "de0c59e5-da53-4b9e-b393-a575f0d9d92f"
      },
      "execution_count": null,
      "outputs": [
        {
          "output_type": "stream",
          "name": "stdout",
          "text": [
            "0\n",
            "1\n",
            "1\n",
            "2\n",
            "3\n",
            "5\n",
            "8\n",
            "13\n",
            "21\n",
            "34\n"
          ]
        }
      ]
    },
    {
      "cell_type": "markdown",
      "source": [
        "\n",
        "**Объяснение:**\n",
        "\n",
        "- Функция `fibonacci` генерирует числа Фибоначчи до заданного количества `n`.\n",
        "- Каждый вызов `yield a` возвращает текущее значение `a` и приостанавливает выполнение функции.\n",
        "- Переменные `a` и `b` сохраняют своё состояние между вызовами, позволяя продолжить вычисление последовательности.\n",
        "\n",
        "**Пример 2: Генератор чётных чисел в заданном диапазоне**"
      ],
      "metadata": {
        "id": "gqE3iogaqIpB"
      }
    },
    {
      "cell_type": "code",
      "source": [
        "def even_numbers(start, end):\n",
        "    for num in range(start, end + 1):\n",
        "        if num % 2 == 0:\n",
        "            yield num\n",
        "\n",
        "# Использование генератора\n",
        "for even in even_numbers(1, 10):\n",
        "    print(even)\n",
        "# Вывод:\n",
        "# 2\n",
        "# 4\n",
        "# 6\n",
        "# 8\n",
        "# 10"
      ],
      "metadata": {
        "id": "mJSkO7GdqLJW"
      },
      "execution_count": null,
      "outputs": []
    },
    {
      "cell_type": "markdown",
      "source": [
        "\n",
        "**Пример 3: Чтение файла построчно**"
      ],
      "metadata": {
        "id": "Zi38-5VcqNud"
      }
    },
    {
      "cell_type": "code",
      "source": [
        "def read_file_line_by_line(file_name):\n",
        "    with open(file_name, 'r') as file:\n",
        "        for line in file:\n",
        "            yield line.strip()\n",
        "\n",
        "log_file = '''[10:23:45] INFO  Login: user=john\n",
        "[10:24:12] ERROR File open failed\n",
        "[10:24:45] WARN  Low disk space\n",
        "[10:25:30] DEBUG API call: /users\n",
        "[10:26:01] INFO  File upload: doc.pdf\n",
        "[10:27:15] CRIT  Overheat: 95°C\n",
        "'''\n",
        "\n",
        "# Создание временного файла\n",
        "file_name = 'log_file.txt'\n",
        "with open(file_name, 'w') as f:\n",
        "    f.write(log_file)\n",
        "\n",
        "# Использование генератора\n",
        "for line in read_file_line_by_line('log_file.txt'):\n",
        "    print(line)"
      ],
      "metadata": {
        "colab": {
          "base_uri": "https://localhost:8080/"
        },
        "id": "d3I3GfOxqPaK",
        "outputId": "018e1d2a-5efe-49b2-98f2-7ea1502cf817"
      },
      "execution_count": null,
      "outputs": [
        {
          "output_type": "stream",
          "name": "stdout",
          "text": [
            "[10:23:45] INFO  Login: user=john\n",
            "[10:24:12] ERROR File open failed\n",
            "[10:24:45] WARN  Low disk space\n",
            "[10:25:30] DEBUG API call: /users\n",
            "[10:26:01] INFO  File upload: doc.pdf\n",
            "[10:27:15] CRIT  Overheat: 95°C\n"
          ]
        }
      ]
    },
    {
      "cell_type": "markdown",
      "source": [
        "**Объяснение:**\n",
        "\n",
        "- Генератор `read_file_line_by_line` позволяет читать большой файл построчно без загрузки всего файла в память.\n",
        "- Это полезно при обработке файлов, размер которых превышает объём доступной памяти. Сейчас в примере всего 6 строк, а размер файла составляет менее килобайта, но представьте, что в файле содержится, например, 10 миллионов строк. Его размер превысил бы 1 ГБ, что могло бы значительно увеличить время обработки и привести к простою процессора. Использование генераторов в таких случаях позволяет эффективно обрабатывать данные, загружая их по одной строке, а не целиком.\n",
        "\n",
        "#### 2.3.5. Генераторы vs. Функции с `return`\n",
        "\n",
        "- **`return`**: Завершает выполнение функции и возвращает значение. При повторном вызове функции выполнение начинается заново.\n",
        "- **`yield`**: Приостанавливает выполнение функции и сохраняет её состояние. При следующем вызове генератора выполнение продолжается с сохранённого состояния.\n"
      ],
      "metadata": {
        "id": "m2IVKxR7rYJY"
      }
    },
    {
      "cell_type": "markdown",
      "source": [
        "\n",
        "\n",
        "### 2.4. Различия между списковыми включениями и генераторами\n",
        "\n",
        "- **Память:**\n",
        "  - **Списковые включения** создают весь список в памяти сразу.\n",
        "  - **Генераторы** создают элементы по одному и не хранят весь результат в памяти.\n",
        "\n",
        "- **Синтаксис:**\n",
        "  - Списковые включения используют квадратные скобки `[]`.\n",
        "  - Генераторные выражения используют круглые скобки `()`.\n",
        "\n",
        "- **Производительность:**\n",
        "  - Списковые включения могут быть быстрее для небольших данных.\n",
        "  - Генераторы более эффективны при работе с большими объёмами данных.\n",
        "\n",
        "### 2.5. Практические примеры\n",
        "\n",
        "1. **Чтение большого файла построчно:**\n",
        "\n",
        "```python\n",
        "file_path = 'large_file.txt'\n",
        "\n",
        "# Используя генераторное выражение\n",
        "with open(file_path, 'r') as file:\n",
        "    line_count = sum(1 for _ in file)\n",
        "print(f\"Количество строк: {line_count}\")\n",
        "```"
      ],
      "metadata": {
        "id": "FwH-fqfNl8B1"
      }
    },
    {
      "cell_type": "markdown",
      "source": [
        "\n",
        "2. **Создание словаря с помощью словарного включения:**"
      ],
      "metadata": {
        "id": "J4klSWP4mJYr"
      }
    },
    {
      "cell_type": "code",
      "source": [
        "keys = ['a', 'b', 'c']\n",
        "values = [1, 2, 3]\n",
        "my_dict = {k: v for k, v in zip(keys, values)}\n",
        "print(my_dict)  # Вывод: {'a': 1, 'b': 2, 'c': 3}"
      ],
      "metadata": {
        "colab": {
          "base_uri": "https://localhost:8080/"
        },
        "id": "aOAVFgtOmLX9",
        "outputId": "ff7de04b-30bc-43ff-feee-966d770504ca"
      },
      "execution_count": null,
      "outputs": [
        {
          "output_type": "stream",
          "name": "stdout",
          "text": [
            "{'a': 1, 'b': 2, 'c': 3}\n"
          ]
        }
      ]
    },
    {
      "cell_type": "markdown",
      "source": [
        "3. **Создание множества уникальных символов в строке:**\n"
      ],
      "metadata": {
        "id": "YWA38pmvmNGd"
      }
    },
    {
      "cell_type": "code",
      "source": [
        "text = \"hello world\"\n",
        "unique_chars = {char for char in text if char != ' '}\n",
        "print(unique_chars)  # Вывод: {'d', 'e', 'h', 'l', 'o', 'r', 'w'}"
      ],
      "metadata": {
        "colab": {
          "base_uri": "https://localhost:8080/"
        },
        "id": "4h0vEYT9mOrj",
        "outputId": "a21f4a71-b89f-46b8-ebe8-860f6097fd62"
      },
      "execution_count": null,
      "outputs": [
        {
          "output_type": "stream",
          "name": "stdout",
          "text": [
            "{'d', 'e', 'h', 'l', 'r', 'o', 'w'}\n"
          ]
        }
      ]
    },
    {
      "cell_type": "markdown",
      "source": [
        "\n",
        "## 3. Области видимости функций\n",
        "\n",
        "Области видимости определяют, где переменная может быть доступна в коде. Понимание областей видимости важно для предотвращения конфликтов имен переменных и непреднамеренных изменений данных.\n",
        "\n",
        "### 3.1. Локальная и глобальная область видимости\n",
        "\n",
        "- **Локальная область видимости (Local Scope):** Переменные, объявленные внутри функции, доступны только внутри этой функции.\n",
        "- **Глобальная область видимости (Global Scope):** Переменные, объявленные на уровне модуля, доступны во всём модуле.\n",
        "\n",
        "#### Пример:"
      ],
      "metadata": {
        "id": "J59JWWXOl-sw"
      }
    },
    {
      "cell_type": "code",
      "source": [
        "x = 10  # Глобальная переменная\n",
        "\n",
        "def my_function():\n",
        "    x = 5  # Локальная переменная\n",
        "    print(\"Внутри функции:\", x)\n",
        "\n",
        "my_function()            # Вывод: Внутри функции: 5\n",
        "print(\"Вне функции:\", x) # Вывод: Вне функции: 10"
      ],
      "metadata": {
        "colab": {
          "base_uri": "https://localhost:8080/"
        },
        "id": "V6aEVY97mT-d",
        "outputId": "bfc17c28-9787-4c01-dcb2-ab33e2661f33"
      },
      "execution_count": null,
      "outputs": [
        {
          "output_type": "stream",
          "name": "stdout",
          "text": [
            "Внутри функции: 5\n",
            "Вне функции: 10\n"
          ]
        }
      ]
    },
    {
      "cell_type": "markdown",
      "source": [
        "\n",
        "### 3.2. Правила поиска переменных (LEGB)\n",
        "\n",
        "Python ищет переменные в следующем порядке:\n",
        "\n",
        "1. **Local (Локальная область):** Внутри текущей функции.\n",
        "2. **Enclosing (Неглобальная, но объемлющая область):** Внутри внешних функций (для вложенных функций).\n",
        "3. **Global (Глобальная область):** На уровне модуля.\n",
        "4. **Built-in (Встроенная область):** Встроенные имена Python.\n",
        "\n",
        "#### Пример:\n"
      ],
      "metadata": {
        "id": "PKrYZm02mYYL"
      }
    },
    {
      "cell_type": "code",
      "source": [
        "def outer():\n",
        "    x = \"объемлющая область\"\n",
        "    def inner():\n",
        "        x = \"локальная область\"\n",
        "        print(x)\n",
        "    inner()\n",
        "\n",
        "outer()  # Вывод: локальная область"
      ],
      "metadata": {
        "colab": {
          "base_uri": "https://localhost:8080/"
        },
        "id": "sDMpcQnrmcch",
        "outputId": "25992fd5-2203-4e7d-bdcc-fa10bf7aaf9e"
      },
      "execution_count": null,
      "outputs": [
        {
          "output_type": "stream",
          "name": "stdout",
          "text": [
            "локальная область\n"
          ]
        }
      ]
    },
    {
      "cell_type": "markdown",
      "source": [
        "\n",
        "Если убрать присвоение `x = \"локальная область\"` внутри `inner()`, то `print(x)` выведет `объемлющая область`.\n",
        "\n",
        "### 3.3. Ключевые слова `global` и `nonlocal`\n",
        "\n",
        "#### `global`\n",
        "\n",
        "Позволяет изменять глобальную переменную внутри функции.\n"
      ],
      "metadata": {
        "id": "73RWVR2umgYk"
      }
    },
    {
      "cell_type": "code",
      "source": [
        "x = 10\n",
        "\n",
        "def modify_global():\n",
        "    global x\n",
        "    x = 20\n",
        "\n",
        "modify_global()\n",
        "print(x)  # Вывод: 20"
      ],
      "metadata": {
        "colab": {
          "base_uri": "https://localhost:8080/"
        },
        "id": "uObEFTGzmi33",
        "outputId": "d41ff08e-c8dc-4b50-a105-a8a6126f015b"
      },
      "execution_count": null,
      "outputs": [
        {
          "output_type": "stream",
          "name": "stdout",
          "text": [
            "20\n"
          ]
        }
      ]
    },
    {
      "cell_type": "markdown",
      "source": [
        "\n",
        "#### `nonlocal`\n",
        "\n",
        "Используется в вложенных функциях для изменения переменных объемлющей функции (не глобальных).\n"
      ],
      "metadata": {
        "id": "mwrjZGAemo4M"
      }
    },
    {
      "cell_type": "code",
      "source": [
        "def outer():\n",
        "    x = \"объемлющая область\"\n",
        "    def inner():\n",
        "        nonlocal x\n",
        "        x = \"изменено\"\n",
        "    inner()\n",
        "    print(x)\n",
        "\n",
        "outer()  # Вывод: изменено"
      ],
      "metadata": {
        "id": "1GnVDNzRmsov"
      },
      "execution_count": null,
      "outputs": []
    },
    {
      "cell_type": "markdown",
      "source": [
        "\n",
        "### 3.4. Практические примеры\n",
        "\n",
        "1. **Счётчик вызовов функции с использованием `nonlocal`:**"
      ],
      "metadata": {
        "id": "3vBRGSnUmvx6"
      }
    },
    {
      "cell_type": "code",
      "source": [
        "def counter():\n",
        "    count = 0\n",
        "    def increment():\n",
        "        nonlocal count\n",
        "        count += 1\n",
        "        return count\n",
        "    return increment\n",
        "\n",
        "my_counter = counter()\n",
        "print(my_counter())  # Вывод: 1\n",
        "print(my_counter())  # Вывод: 2"
      ],
      "metadata": {
        "colab": {
          "base_uri": "https://localhost:8080/"
        },
        "id": "EIJ7QRCmmwm6",
        "outputId": "14f6068c-aaec-46fd-e891-2405c8805dc8"
      },
      "execution_count": null,
      "outputs": [
        {
          "output_type": "stream",
          "name": "stdout",
          "text": [
            "1\n",
            "2\n"
          ]
        }
      ]
    },
    {
      "cell_type": "markdown",
      "source": [
        "2. **Изменение глобальной настройки внутри функции:**"
      ],
      "metadata": {
        "id": "qVn_2SSqm0gF"
      }
    },
    {
      "cell_type": "code",
      "source": [
        "debug = False\n",
        "\n",
        "def enable_debug():\n",
        "    global debug\n",
        "    debug = True\n",
        "\n",
        "enable_debug()\n",
        "print(debug)  # Вывод: True"
      ],
      "metadata": {
        "colab": {
          "base_uri": "https://localhost:8080/"
        },
        "id": "TmppMOBcm2Tb",
        "outputId": "944d82e1-30df-44f7-c6b4-0700ae1082c7"
      },
      "execution_count": null,
      "outputs": [
        {
          "output_type": "stream",
          "name": "stdout",
          "text": [
            "True\n"
          ]
        }
      ]
    },
    {
      "cell_type": "markdown",
      "source": [
        "\n",
        "---\n",
        "\n",
        "## 4. Замыкания функций\n",
        "\n",
        "### 4.1. Что такое замыкание\n",
        "\n",
        "**Замыкание (closure)** — это функция, которая «помнит» значения из объемлющей области видимости, даже если эта область недоступна.\n",
        "\n",
        "Замыкание возникает, когда внутренняя функция ссылается на переменные из внешней функции, и внешняя функция возвращает эту внутреннюю функцию.\n",
        "\n",
        "### 4.2. Использование замыканий для сохранения состояния\n",
        "\n",
        "Замыкания позволяют создавать функции с сохранённым состоянием, что полезно для создания фабрик функций или функций с настраиваемым поведением.\n",
        "\n",
        "#### Пример: Функция умножения на заданное число\n"
      ],
      "metadata": {
        "id": "Uq-as16vm6Qc"
      }
    },
    {
      "cell_type": "code",
      "source": [
        "def multiply_by(n):\n",
        "    def multiplier(x):\n",
        "        return x * n\n",
        "    return multiplier\n",
        "\n",
        "times3 = multiply_by(3)\n",
        "times5 = multiply_by(5)\n",
        "\n",
        "print(times3(10))  # Вывод: 30\n",
        "print(times5(10))  # Вывод: 50"
      ],
      "metadata": {
        "colab": {
          "base_uri": "https://localhost:8080/"
        },
        "id": "kpt6Updom8k3",
        "outputId": "5c06f424-e218-44b1-c144-243e3a33838c"
      },
      "execution_count": null,
      "outputs": [
        {
          "output_type": "stream",
          "name": "stdout",
          "text": [
            "30\n",
            "50\n"
          ]
        }
      ]
    },
    {
      "cell_type": "markdown",
      "source": [
        "\n",
        "Здесь `times3` и `times5` — это замыкания, которые «помнят» значение `n` из функции `multiply_by`.\n",
        "\n",
        "### 4.3. Практические примеры замыканий\n",
        "\n",
        "1. **Логирование с предустановленным префиксом:**\n"
      ],
      "metadata": {
        "id": "wuIQvxPVm_qk"
      }
    },
    {
      "cell_type": "code",
      "source": [
        "def logger(prefix):\n",
        "    def log_message(message):\n",
        "        print(f\"[{prefix}] {message}\")\n",
        "    return log_message\n",
        "\n",
        "info_logger = logger(\"INFO\")\n",
        "error_logger = logger(\"ERROR\")\n",
        "\n",
        "info_logger(\"Это информационное сообщение.\")\n",
        "error_logger(\"Это сообщение об ошибке.\")\n",
        "# Вывод:\n",
        "# [INFO] Это информационное сообщение.\n",
        "# [ERROR] Это сообщение об ошибке."
      ],
      "metadata": {
        "colab": {
          "base_uri": "https://localhost:8080/"
        },
        "id": "t2zkid4KnCEY",
        "outputId": "da0d59ec-efb3-49b8-b6c3-8ed03efaa956"
      },
      "execution_count": null,
      "outputs": [
        {
          "output_type": "stream",
          "name": "stdout",
          "text": [
            "[INFO] Это информационное сообщение.\n",
            "[ERROR] Это сообщение об ошибке.\n"
          ]
        }
      ]
    },
    {
      "cell_type": "markdown",
      "source": [
        "\n",
        "2. **Создание счётчика с сохранением состояния:**\n"
      ],
      "metadata": {
        "id": "bsYDeWaYnGaa"
      }
    },
    {
      "cell_type": "code",
      "source": [
        "def make_counter():\n",
        "    count = 0\n",
        "    def counter():\n",
        "        nonlocal count\n",
        "        count += 1\n",
        "        return count\n",
        "    return counter\n",
        "\n",
        "counterA = make_counter()\n",
        "print(counterA())  # Вывод: 1\n",
        "print(counterA())  # Вывод: 2\n",
        "\n",
        "counterB = make_counter()\n",
        "print(counterB())  # Вывод: 1"
      ],
      "metadata": {
        "colab": {
          "base_uri": "https://localhost:8080/"
        },
        "id": "w5zEde_4nIKV",
        "outputId": "2068b54e-0312-420a-bdb1-45409fa27293"
      },
      "execution_count": null,
      "outputs": [
        {
          "output_type": "stream",
          "name": "stdout",
          "text": [
            "1\n",
            "2\n",
            "1\n"
          ]
        }
      ]
    },
    {
      "cell_type": "markdown",
      "source": [
        "Каждый вызов `make_counter()` создаёт новое замыкание со своим собственным состоянием `count`.\n",
        "\n",
        "---"
      ],
      "metadata": {
        "id": "Y2V8Aw1SnMhm"
      }
    },
    {
      "cell_type": "markdown",
      "source": [
        "### 5. Декораторы\n",
        "\n",
        "Декораторы в Python – это мощный инструмент метапрограммирования, который позволяет изменять или расширять поведение функций или классов без изменения их исходного кода. Декораторы часто используются для логгирования, проверки прав доступа, кэширования и других задач, которые можно применять к функциям или методам.\n",
        "\n",
        "---\n",
        "\n",
        "#### 5.1. Что такое декораторы?\n",
        "\n",
        "Декоратор – это функция, которая принимает другую функцию в качестве аргумента и возвращает новую функцию с изменённым или расширенным поведением. Это позволяет \"обернуть\" функцию, добавляя к ней дополнительную функциональность.\n",
        "\n",
        "**Синтаксис декоратора:**\n",
        "\n",
        "```python\n",
        "def decorator_function(original_function):\n",
        "    def wrapper_function(*args, **kwargs):\n",
        "        # Дополнительный код перед вызовом оригинальной функции\n",
        "        result = original_function(*args, **kwargs)\n",
        "        # Дополнительный код после вызова оригинальной функции\n",
        "        return result\n",
        "    return wrapper_function\n",
        "```\n",
        "\n",
        "Декораторы применяются к функциям с помощью специального синтаксиса `@decorator_name` непосредственно перед определением функции.\n",
        "\n",
        "**Пример применения декоратора:**\n",
        "\n",
        "```python\n",
        "@decorator_function\n",
        "def display():\n",
        "    print(\"Отображение функции\")\n",
        "```\n",
        "\n",
        "Это эквивалентно:\n",
        "\n",
        "```python\n",
        "def display():\n",
        "    print(\"Отображение функции\")\n",
        "\n",
        "display = decorator_function(display)\n",
        "```\n",
        "\n",
        "---\n",
        "\n",
        "#### 5.2. Простые примеры декораторов\n",
        "\n",
        "**Пример 1: Декоратор для вывода времени выполнения функции**\n"
      ],
      "metadata": {
        "id": "eABNQb1BhY0E"
      }
    },
    {
      "cell_type": "code",
      "source": [
        "import time\n",
        "\n",
        "def timing_decorator(func):\n",
        "    def wrapper(*args, **kwargs):\n",
        "        start_time = time.time()\n",
        "        result = func(*args, **kwargs)\n",
        "        end_time = time.time()\n",
        "        print(f\"Время выполнения функции '{func.__name__}': {end_time - start_time:.6f} секунд\")\n",
        "        return result\n",
        "    return wrapper\n",
        "\n",
        "@timing_decorator\n",
        "def compute_square(n):\n",
        "    return sum([i ** 2 for i in range(n)])\n",
        "\n",
        "# Вызов функции\n",
        "compute_square(100000)"
      ],
      "metadata": {
        "colab": {
          "base_uri": "https://localhost:8080/"
        },
        "id": "bul2SGezhcPU",
        "outputId": "07bc4fd5-d614-4378-ef47-55e600a5d2da"
      },
      "execution_count": null,
      "outputs": [
        {
          "output_type": "stream",
          "name": "stdout",
          "text": [
            "Время выполнения функции 'compute_square': 0.038044 секунд\n"
          ]
        },
        {
          "output_type": "execute_result",
          "data": {
            "text/plain": [
              "333328333350000"
            ]
          },
          "metadata": {},
          "execution_count": 3
        }
      ]
    },
    {
      "cell_type": "markdown",
      "source": [
        "\n",
        "В этом примере декоратор `timing_decorator` измеряет время выполнения функции `compute_square`.\n",
        "\n",
        "---\n",
        "\n",
        "**Пример 2: Декоратор для логгирования вызовов функций**"
      ],
      "metadata": {
        "id": "IJvF96GIheMy"
      }
    },
    {
      "cell_type": "code",
      "source": [
        "def logger(func):\n",
        "    def wrapper(*args, **kwargs):\n",
        "        print(f\"Вызов функции '{func.__name__}' с аргументами {args} и {kwargs}\")\n",
        "        result = func(*args, **kwargs)\n",
        "        print(f\"Функция '{func.__name__}' вернула {result}\")\n",
        "        return result\n",
        "    return wrapper\n",
        "\n",
        "@logger\n",
        "def add(x, y):\n",
        "    return x + y\n",
        "\n",
        "# Вызов функции\n",
        "add(5, 3)"
      ],
      "metadata": {
        "colab": {
          "base_uri": "https://localhost:8080/"
        },
        "id": "6x5ZLwjAhhLv",
        "outputId": "1d8b0d37-97ed-42eb-a909-2655d47eb546"
      },
      "execution_count": null,
      "outputs": [
        {
          "output_type": "stream",
          "name": "stdout",
          "text": [
            "Вызов функции 'add' с аргументами (5, 3) и {}\n",
            "Функция 'add' вернула 8\n"
          ]
        },
        {
          "output_type": "execute_result",
          "data": {
            "text/plain": [
              "8"
            ]
          },
          "metadata": {},
          "execution_count": 1
        }
      ]
    },
    {
      "cell_type": "markdown",
      "source": [
        "\n",
        "Декоратор `logger` выводит информацию о вызове функции и её результате.\n",
        "\n",
        "---\n",
        "\n",
        "#### 5.3. Декораторы с аргументами\n",
        "\n",
        "Иногда требуется, чтобы декоратор принимал собственные аргументы. Для этого создаётся функция, которая возвращает декоратор.\n",
        "\n",
        "**Пример: Декоратор с аргументами для повторения вызова функции**\n"
      ],
      "metadata": {
        "id": "Cp4931Djhuzs"
      }
    },
    {
      "cell_type": "code",
      "source": [
        "def repeat(num_times):\n",
        "    def decorator_repeat(func):\n",
        "        def wrapper(*args, **kwargs):\n",
        "            result = None\n",
        "            for _ in range(num_times):\n",
        "                result = func(*args, **kwargs)\n",
        "            return result\n",
        "        return wrapper\n",
        "    return decorator_repeat\n",
        "\n",
        "@repeat(num_times=3)\n",
        "def greet(name):\n",
        "    print(f\"Hello, {name}!\")\n",
        "\n",
        "# Вызов функции\n",
        "greet(\"Alice\")"
      ],
      "metadata": {
        "colab": {
          "base_uri": "https://localhost:8080/"
        },
        "id": "rtCjtVEYhydO",
        "outputId": "63667dc7-abf8-472c-b63a-b9d24dde393f"
      },
      "execution_count": null,
      "outputs": [
        {
          "output_type": "stream",
          "name": "stdout",
          "text": [
            "Hello, Alice!\n",
            "Hello, Alice!\n",
            "Hello, Alice!\n"
          ]
        }
      ]
    },
    {
      "cell_type": "markdown",
      "source": [
        "\n",
        "#### 5.4. Несколько декораторов для одной функции\n",
        "\n",
        "Можно применять несколько декораторов к одной функции. В этом случае они будут применяться в порядке сверху вниз.\n",
        "\n",
        "**Пример:**\n"
      ],
      "metadata": {
        "id": "wM0Bs6D6iCBq"
      }
    },
    {
      "cell_type": "code",
      "source": [
        "def decorator_one(func):\n",
        "    def wrapper(*args, **kwargs):\n",
        "        print(\"Декоратор один\")\n",
        "        return func(*args, **kwargs)\n",
        "    return wrapper\n",
        "\n",
        "def decorator_two(func):\n",
        "    def wrapper(*args, **kwargs):\n",
        "        print(\"Декоратор два\")\n",
        "        return func(*args, **kwargs)\n",
        "    return wrapper\n",
        "\n",
        "@decorator_one\n",
        "@decorator_two\n",
        "def say_hello():\n",
        "    print(\"Hello!\")\n",
        "\n",
        "# Вызов функции\n",
        "say_hello()"
      ],
      "metadata": {
        "colab": {
          "base_uri": "https://localhost:8080/"
        },
        "id": "lJq5LpyziI8q",
        "outputId": "bb539430-40b4-4b6f-a28c-7e45a28f858b"
      },
      "execution_count": null,
      "outputs": [
        {
          "output_type": "stream",
          "name": "stdout",
          "text": [
            "Декоратор один\n",
            "Декоратор два\n",
            "Hello!\n"
          ]
        }
      ]
    },
    {
      "cell_type": "markdown",
      "source": [
        "\n",
        "Здесь сначала применяется `decorator_one`, затем `decorator_two`, а затем вызывается оригинальная функция `say_hello`.\n",
        "\n",
        "---\n",
        "\n",
        "#### 5.5. Использование `functools.wraps`\n",
        "\n",
        "При создании декораторов рекомендуется использовать функцию `functools.wraps`, чтобы сохранить информацию о декорируемой функции, такую как её имя, строка документации и другие метаданные.\n",
        "\n",
        "**Пример без использования `functools.wraps`:**\n"
      ],
      "metadata": {
        "id": "f9FTr5aaiOzo"
      }
    },
    {
      "cell_type": "code",
      "source": [
        "def simple_decorator(func):\n",
        "    def wrapper(*args, **kwargs):\n",
        "        \"\"\"Обёртка\"\"\"\n",
        "        return func(*args, **kwargs)\n",
        "    return wrapper\n",
        "\n",
        "@simple_decorator\n",
        "def greet():\n",
        "    \"\"\"Функция приветствия\"\"\"\n",
        "    print(\"Hello!\")\n",
        "\n",
        "print(greet.__name__)  # Вывод: wrapper\n",
        "print(greet.__doc__)   # Вывод: Обёртка"
      ],
      "metadata": {
        "colab": {
          "base_uri": "https://localhost:8080/"
        },
        "id": "T8F4_uayiTPI",
        "outputId": "7ee50ca7-f6e1-4ff9-c2e7-32ebc174fb0d"
      },
      "execution_count": null,
      "outputs": [
        {
          "output_type": "stream",
          "name": "stdout",
          "text": [
            "wrapper\n",
            "Обёртка\n"
          ]
        }
      ]
    },
    {
      "cell_type": "markdown",
      "source": [
        "\n",
        "**Пример с использованием `functools.wraps`:**\n"
      ],
      "metadata": {
        "id": "Ioq3NIJAiXLO"
      }
    },
    {
      "cell_type": "code",
      "source": [
        "import functools\n",
        "\n",
        "def simple_decorator(func):\n",
        "    @functools.wraps(func)\n",
        "    def wrapper(*args, **kwargs):\n",
        "        \"\"\"Обёртка\"\"\"\n",
        "        return func(*args, **kwargs)\n",
        "    return wrapper\n",
        "\n",
        "@simple_decorator\n",
        "def greet():\n",
        "    \"\"\"Функция приветствия\"\"\"\n",
        "    print(\"Hello!\")\n",
        "\n",
        "print(greet.__name__)  # Вывод: greet\n",
        "print(greet.__doc__)   # Вывод: Функция приветствия"
      ],
      "metadata": {
        "id": "eg_YFP9FiZdE"
      },
      "execution_count": null,
      "outputs": []
    },
    {
      "cell_type": "markdown",
      "source": [
        "\n",
        "Использование `@functools.wraps(func)` внутри декоратора гарантирует, что метаданные функции `greet` будут сохранены.\n"
      ],
      "metadata": {
        "id": "7kyHq6IsibV_"
      }
    },
    {
      "cell_type": "markdown",
      "source": [
        "## 6. Практические задания"
      ],
      "metadata": {
        "id": "8x35MfdmuVUe"
      }
    },
    {
      "cell_type": "markdown",
      "source": [
        "\n",
        "### **Задание 1: Анализ данных с помощью списковых включений**\n",
        "\n",
        "Вы работаете с данными о температуре за неделю, представленными в градусах Цельсия:\n",
        "\n",
        "```python\n",
        "temperatures_celsius = [15, 22, 26, 18, 20, 24, 19]\n",
        "```\n",
        "\n",
        "1. Создайте новый список `temperatures_fahrenheit`, содержащий температуры в градусах Фаренгейта. Используйте списковое включение. Формула перевода: `F = C * 9/5 + 32`.\n",
        "\n",
        "2. Отфильтруйте и создайте список `hot_days`, содержащий температуры (в Цельсиях) выше 25 градусов.\n",
        "\n",
        "---\n",
        "\n",
        "### **Задание 2: Генератор для обработки данных о продажах**\n",
        "\n",
        "Вы работаете с большим файлом `sales.csv`, содержащим данные о продажах за год (сотни тысяч записей). Каждая строка в файле содержит информацию о продаже в формате: `product_id,quantity,price`.\n",
        "\n",
        "Напишите генератор `sales_reader`, который считывает файл построчно и возвращает кортеж `(product_id, total_price)` для каждой продажи, где `total_price` — это `quantity * price`.\n",
        "\n",
        "Используйте генератор с `yield` для эффективного чтения файла без загрузки его целиком в память. (Использование файла рекомендуется, но необязательно, можете сохранить содержимое в виде строки в переменную)\n",
        "```python\n",
        "# Пример содержимого файла 'sales.csv':\n",
        "\"\"\"\n",
        "product_id,quantity,price\n",
        "101,2,19.99\n",
        "102,5,9.99\n",
        "103,1,299.99\n",
        "104,10,4.99\n",
        "105,3,49.99\n",
        "\"\"\"\n",
        "```\n",
        "\n",
        "---\n",
        "\n",
        "### **Задание 3: Управление состоянием корзины покупок**\n",
        "\n",
        "Вы разрабатываете модуль для интернет-магазина. Есть глобальная переменная `cart`, представляющая собой список товаров в корзине:\n",
        "\n",
        "```python\n",
        "cart = []\n",
        "```\n",
        "\n",
        "1. Напишите функцию `add_to_cart(product)`, которая добавляет товар в корзину. Используйте ключевое слово `global` для изменения глобальной переменной `cart`.\n",
        "\n",
        "2. Напишите функцию `clear_cart()`, которая очищает корзину. Также используйте ключевое слово `global`.\n",
        "\n",
        "---\n",
        "\n",
        "### **Задание 4: Создание счетчика с помощью замыкания**\n",
        "\n",
        "В вашем приложении необходимо отслеживать количество выполненных операций. Напишите функцию `operation_counter`, которая возвращает функцию-счетчик. Каждый вызов этой функции увеличивает количество операций и выводит сообщение вида: `\"Выполнено X операций\"`.\n",
        "\n",
        "Используйте замыкание и ключевое слово `nonlocal`.\n",
        "\n",
        "---\n",
        "\n",
        "### **Задание 5: Кэширование результатов с помощью декоратора**\n",
        "\n",
        "Вы работаете над функцией `fetch_data`, которая делает дорогостоящий запрос к внешнему API и возвращает данные на основе входного параметра `query`.\n",
        "\n",
        "Напишите декоратор `cache_results`, который кэширует результаты вызовов функции `fetch_data`. Если функция вызывается с тем же аргументом `query`, она должна возвращать результат из кэша вместо повторного выполнения запроса.\n"
      ],
      "metadata": {
        "id": "kGMFo_hGudg7"
      }
    },
    {
      "cell_type": "markdown",
      "source": [
        "\n",
        "## 7. Ответы и разбор заданий\n",
        "\n",
        "### **Ответ 1: Анализ данных с помощью списковых включений**\n",
        "\n",
        "**Часть 1: Конвертация температур в Фаренгейты**\n"
      ],
      "metadata": {
        "id": "DpA5h5NcvojN"
      }
    },
    {
      "cell_type": "code",
      "source": [
        "temperatures_celsius = [15, 22, 26, 18, 20, 24, 19]\n",
        "temperatures_fahrenheit = [temp * 9/5 + 32 for temp in temperatures_celsius]\n",
        "print(temperatures_fahrenheit)\n",
        "# Вывод: [59.0, 71.6, 78.8, 64.4, 68.0, 75.2, 66.2]"
      ],
      "metadata": {
        "colab": {
          "base_uri": "https://localhost:8080/"
        },
        "id": "Ka0q-EytvqBu",
        "outputId": "aaa28642-ac8c-40c6-ae73-6aefe5916eb1"
      },
      "execution_count": null,
      "outputs": [
        {
          "output_type": "stream",
          "name": "stdout",
          "text": [
            "[59.0, 71.6, 78.8, 64.4, 68.0, 75.2, 66.2]\n"
          ]
        }
      ]
    },
    {
      "cell_type": "markdown",
      "source": [
        "\n",
        "**Объяснение:**\n",
        "\n",
        "- Используем списковое включение для перебора каждого значения `temp` в `temperatures_celsius`.\n",
        "- Применяем формулу перевода из Цельсия в Фаренгейт для каждого значения.\n",
        "- Результат сохраняем в списке `temperatures_fahrenheit`.\n",
        "\n",
        "**Часть 2: Фильтрация горячих дней**\n"
      ],
      "metadata": {
        "id": "knPrQLUjvs1O"
      }
    },
    {
      "cell_type": "code",
      "source": [
        "hot_days = [temp for temp in temperatures_celsius if temp > 25]\n",
        "print(hot_days)\n",
        "# Вывод: [26]"
      ],
      "metadata": {
        "id": "F0TDiPanvwGL"
      },
      "execution_count": null,
      "outputs": []
    },
    {
      "cell_type": "markdown",
      "source": [
        "\n",
        "**Объяснение:**\n",
        "\n",
        "- Используем списковое включение с условием `if temp > 25` для фильтрации температур выше 25 градусов.\n",
        "- Результат сохраняем в списке `hot_days`.\n"
      ],
      "metadata": {
        "id": "NV2uouFsvxB4"
      }
    },
    {
      "cell_type": "markdown",
      "source": [
        "\n",
        "### **Ответ 2: Генератор для обработки данных о продажах**"
      ],
      "metadata": {
        "id": "jmn0xSwpvy_0"
      }
    },
    {
      "cell_type": "code",
      "source": [
        "def sales_reader(file_name):\n",
        "    with open(file_name, 'r') as file:\n",
        "        next(file)  # Пропускаем заголовок\n",
        "        for line in file:\n",
        "            product_id, quantity, price = line.strip().split(',')\n",
        "            total_price = int(quantity) * float(price)\n",
        "            yield (product_id, total_price)\n",
        "\n",
        "# Создаём файл 'sales.csv' для примера\n",
        "with open('sales.csv', 'w') as f:\n",
        "    f.write(\"\"\"product_id,quantity,price\n",
        "101,2,19.99\n",
        "102,5,9.99\n",
        "103,1,299.99\n",
        "104,10,4.99\n",
        "105,3,49.99\n",
        "\"\"\")\n",
        "\n",
        "# Использование генератора\n",
        "for product_id, total_price in sales_reader('sales.csv'):\n",
        "    print(f\"Product ID: {product_id}, Total Price: {total_price}\")"
      ],
      "metadata": {
        "colab": {
          "base_uri": "https://localhost:8080/"
        },
        "id": "-vTpxhHHv7IN",
        "outputId": "266a9820-340c-4626-d4f2-c4c914b54652"
      },
      "execution_count": null,
      "outputs": [
        {
          "output_type": "stream",
          "name": "stdout",
          "text": [
            "Product ID: 101, Total Price: 39.98\n",
            "Product ID: 102, Total Price: 49.95\n",
            "Product ID: 103, Total Price: 299.99\n",
            "Product ID: 104, Total Price: 49.900000000000006\n",
            "Product ID: 105, Total Price: 149.97\n"
          ]
        }
      ]
    },
    {
      "cell_type": "markdown",
      "source": [],
      "metadata": {
        "id": "DHxHVfiWv3eQ"
      }
    },
    {
      "cell_type": "markdown",
      "source": [
        "\n",
        "**Объяснение:**\n",
        "\n",
        "- **Создание файла для примера:**\n",
        "\n",
        "  - В блоке кода мы создаём файл `sales.csv` с примерными данными, используя многострочную строку. Это необходимо для того, чтобы код был самодостаточным и его можно было запустить без дополнительной подготовки.\n",
        "\n",
        "- **Функция `sales_reader`:**\n",
        "\n",
        "  - Открываем файл `sales.csv` в режиме чтения.\n",
        "  - Используем `next(file)`, чтобы пропустить первую строку с заголовками.\n",
        "  - Для каждой строки в файле:\n",
        "    - Удаляем символы перевода строки с помощью `.strip()`.\n",
        "    - Разбиваем строку по запятым с помощью `.split(',')`, получая `product_id`, `quantity`, `price`.\n",
        "    - Преобразуем `quantity` в `int`, `price` в `float` и вычисляем `total_price` как их произведение.\n",
        "    - Используем `yield` для возврата кортежа `(product_id, total_price)`.\n",
        "\n",
        "- **Использование генератора:**\n",
        "\n",
        "  - Перебираем результаты генератора `sales_reader` и выводим информацию о каждой продаже.\n",
        "  - Благодаря использованию генератора и построчного чтения файла, программа эффективно обрабатывает данные без избыточного использования памяти.\n",
        "\n",
        "**Примечание:** В реальном сценарии вам не нужно создавать файл внутри кода. Файл `sales.csv` уже существует и содержит данные о продажах. Создание файла в коде показано здесь только для демонстрации и возможности запустить пример самостоятельно."
      ],
      "metadata": {
        "id": "UudK-sbAwBJR"
      }
    },
    {
      "cell_type": "markdown",
      "source": [
        "\n",
        "### **Ответ 3: Управление состоянием корзины покупок**\n",
        "\n"
      ],
      "metadata": {
        "id": "VS4o2xcPwDBB"
      }
    },
    {
      "cell_type": "code",
      "source": [
        "cart = []\n",
        "\n",
        "def add_to_cart(product):\n",
        "    global cart\n",
        "    cart.append(product)\n",
        "\n",
        "# Пример использования\n",
        "add_to_cart('apple')\n",
        "add_to_cart('banana')\n",
        "print(cart)\n",
        "# Вывод: ['apple', 'banana']\n",
        "\n",
        "def clear_cart():\n",
        "    global cart\n",
        "    cart = []\n",
        "\n",
        "# Пример использования\n",
        "clear_cart()\n",
        "print(cart)\n",
        "# Вывод: []"
      ],
      "metadata": {
        "colab": {
          "base_uri": "https://localhost:8080/"
        },
        "id": "JQsn2h6RwGl7",
        "outputId": "f8974e68-40e5-4933-d154-92f8c0d0727f"
      },
      "execution_count": null,
      "outputs": [
        {
          "output_type": "stream",
          "name": "stdout",
          "text": [
            "['apple', 'banana']\n",
            "[]\n"
          ]
        }
      ]
    },
    {
      "cell_type": "markdown",
      "source": [
        "**Объяснение:**\n",
        "\n",
        "- Используем ключевое слово `global` для указания, что мы работаем с глобальной переменной `cart`.\n",
        "- Внутри функции `add_to_cart` добавляем товар `product` в список `cart` с помощью метода `.append()`.\n",
        "- Используем `global cart` для изменения глобальной переменной `cart`.\n",
        "- Внутри функции `clear_cart` присваиваем `cart` новый пустой список, тем самым очищая корзину."
      ],
      "metadata": {
        "id": "457M2PANwQR0"
      }
    },
    {
      "cell_type": "markdown",
      "source": [
        "### **Ответ 4: Создание счетчика с помощью замыкания**\n"
      ],
      "metadata": {
        "id": "OqAdfZvhwU6w"
      }
    },
    {
      "cell_type": "code",
      "source": [
        "def operation_counter():\n",
        "    count = 0\n",
        "    def counter():\n",
        "        nonlocal count\n",
        "        count += 1\n",
        "        print(f\"Выполнено {count} операций\")\n",
        "    return counter\n",
        "\n",
        "# Использование счетчика\n",
        "counter = operation_counter()\n",
        "counter()  # Вывод: Выполнено 1 операций\n",
        "counter()  # Вывод: Выполнено 2 операций\n",
        "counter()  # Вывод: Выполнено 3 операций"
      ],
      "metadata": {
        "colab": {
          "base_uri": "https://localhost:8080/"
        },
        "id": "YYy1Dh7ywXE9",
        "outputId": "500c5055-15a6-4453-cf04-60a5e738f826"
      },
      "execution_count": null,
      "outputs": [
        {
          "output_type": "stream",
          "name": "stdout",
          "text": [
            "Выполнено 1 операций\n",
            "Выполнено 2 операций\n",
            "Выполнено 3 операций\n"
          ]
        }
      ]
    },
    {
      "cell_type": "markdown",
      "source": [
        "\n",
        "**Объяснение:**\n",
        "\n",
        "- Внешняя функция `operation_counter` создаёт локальную переменную `count` и возвращает внутреннюю функцию `counter`.\n",
        "- Внутренняя функция `counter` использует `nonlocal count`, чтобы указывать на переменную `count` из объемлющей области.\n",
        "- При каждом вызове `counter()` переменная `count` увеличивается на 1, и выводится сообщение.\n",
        "\n",
        "---\n",
        "\n",
        "### **Ответ 5: Кэширование результатов с помощью декоратора**\n"
      ],
      "metadata": {
        "id": "xVhz-2fjwbEr"
      }
    },
    {
      "cell_type": "code",
      "source": [
        "def cache_results(func):\n",
        "    cache = {}\n",
        "    def wrapper(query):\n",
        "        if query in cache:\n",
        "            print(\"Возвращаем результат из кэша\")\n",
        "            return cache[query]\n",
        "        else:\n",
        "            result = func(query)\n",
        "            cache[query] = result\n",
        "            return result\n",
        "    return wrapper\n",
        "\n",
        "@cache_results\n",
        "def fetch_data(query):\n",
        "    print(f\"Выполняется запрос для '{query}'\")\n",
        "    # Здесь симулируется задержка или сложный запрос\n",
        "    # В реальном приложении здесь был бы вызов API\n",
        "    return f\"Данные для {query}\"\n",
        "\n",
        "# Использование функции\n",
        "print(fetch_data(\"python\"))\n",
        "# Вывод:\n",
        "# Выполняется запрос для 'python'\n",
        "# Данные для python\n",
        "\n",
        "print(fetch_data(\"python\"))\n",
        "# Вывод:\n",
        "# Возвращаем результат из кэша\n",
        "# Данные для python\n",
        "\n",
        "print(fetch_data(\"decorators\"))\n",
        "# Вывод:\n",
        "# Выполняется запрос для 'decorators'\n",
        "# Данные для decorators\n",
        "\n",
        "print(fetch_data(\"python\"))\n",
        "# Вывод:\n",
        "# Возвращаем результат из кэша\n",
        "# Данные для python"
      ],
      "metadata": {
        "colab": {
          "base_uri": "https://localhost:8080/"
        },
        "id": "lZ8Sq-QBwgAg",
        "outputId": "4d8033d9-4c1a-4815-9169-b71295f5e3d4"
      },
      "execution_count": null,
      "outputs": [
        {
          "output_type": "stream",
          "name": "stdout",
          "text": [
            "Выполняется запрос для 'python'\n",
            "Данные для python\n",
            "Возвращаем результат из кэша\n",
            "Данные для python\n",
            "Выполняется запрос для 'decorators'\n",
            "Данные для decorators\n",
            "Возвращаем результат из кэша\n",
            "Данные для python\n"
          ]
        }
      ]
    },
    {
      "cell_type": "markdown",
      "source": [
        "\n",
        "**Объяснение:**\n",
        "\n",
        "- Декоратор `cache_results` использует словарь `cache` для хранения результатов вызовов функции `fetch_data`.\n",
        "- При вызове функции `wrapper` проверяется, есть ли `query` в `cache`.\n",
        "  - Если да, возвращается сохранённый результат.\n",
        "  - Если нет, выполняется оригинальная функция `func(query)`, результат сохраняется в `cache` и возвращается.\n",
        "- Таким образом, повторные вызовы с тем же аргументом `query` не требуют выполнения дорогостоящего запроса.\n"
      ],
      "metadata": {
        "id": "IRlbgJm-wkd2"
      }
    },
    {
      "cell_type": "markdown",
      "source": [
        "## Заключение\n",
        "\n",
        "В этом занятии мы углубились в продвинутые возможности функций в Python, которые позволяют писать более эффективный, читаемый и элегантный код.\n"
      ],
      "metadata": {
        "id": "o43FHv8Awn2v"
      }
    }
  ]
}
