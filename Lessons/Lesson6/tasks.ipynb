{
 "cells": [
  {
   "cell_type": "code",
   "id": "initial_id",
   "metadata": {
    "collapsed": true,
    "ExecuteTime": {
     "end_time": "2025-10-14T08:30:13.308520Z",
     "start_time": "2025-10-14T08:30:13.303457Z"
    }
   },
   "source": [
    "temperatures_celsius = [15, 22, 26, 18, 20, 24, 19]\n",
    "temperatures_fahrenheit = [c * 9 / 5 + 32 for c in temperatures_celsius]\n",
    "print(temperatures_celsius)\n",
    "print(temperatures_fahrenheit)\n",
    "hot_days = list(filter(lambda x: x > 20, temperatures_celsius))\n",
    "print(hot_days)"
   ],
   "outputs": [
    {
     "name": "stdout",
     "output_type": "stream",
     "text": [
      "[15, 22, 26, 18, 20, 24, 19]\n",
      "[59.0, 71.6, 78.8, 64.4, 68.0, 75.2, 66.2]\n",
      "[22, 26, 24]\n"
     ]
    }
   ],
   "execution_count": 4
  },
  {
   "metadata": {
    "ExecuteTime": {
     "end_time": "2025-10-14T13:51:52.755980Z",
     "start_time": "2025-10-14T13:51:52.732731Z"
    }
   },
   "cell_type": "code",
   "source": [
    "def sales_reader(text):\n",
    "    with open(text, 'r') as file:\n",
    "        for line in file:\n",
    "            yield line.strip()\n",
    "\n",
    "file_name = 'C:/Users/u176/PycharmProjects/Python_Courses/Lessons/Lesson5/log_file.txt'\n",
    "\n",
    "\n",
    "for line in sales_reader(file_name):\n",
    "    print(line)"
   ],
   "id": "aa3a06c8520e1724",
   "outputs": [
    {
     "name": "stdout",
     "output_type": "stream",
     "text": [
      "product_id,quantity,price\n",
      "101,2,19.99\n",
      "102,5,9.99\n",
      "103,1,299.99\n",
      "104,10,4.99\n",
      "105,3,49.99\n"
     ]
    }
   ],
   "execution_count": 18
  }
 ],
 "metadata": {
  "kernelspec": {
   "display_name": "Python 3",
   "language": "python",
   "name": "python3"
  },
  "language_info": {
   "codemirror_mode": {
    "name": "ipython",
    "version": 2
   },
   "file_extension": ".py",
   "mimetype": "text/x-python",
   "name": "python",
   "nbconvert_exporter": "python",
   "pygments_lexer": "ipython2",
   "version": "2.7.6"
  }
 },
 "nbformat": 4,
 "nbformat_minor": 5
}
