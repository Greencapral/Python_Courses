{
 "cells": [
  {
   "cell_type": "code",
   "id": "initial_id",
   "metadata": {
    "collapsed": true,
    "ExecuteTime": {
     "end_time": "2025-10-17T12:19:12.391328Z",
     "start_time": "2025-10-17T12:19:12.385766Z"
    }
   },
   "source": [
    "from itertools import product\n",
    "\n",
    "temperatures_celsius = [15, 22, 26, 18, 20, 24, 19]\n",
    "temperatures_fahrenheit = [c * 9 / 5 + 32 for c in temperatures_celsius]\n",
    "print(temperatures_celsius)\n",
    "print(temperatures_fahrenheit)\n",
    "hot_days = [_ for _ in temperatures_celsius if _ > 20]\n",
    "print(hot_days)"
   ],
   "outputs": [
    {
     "name": "stdout",
     "output_type": "stream",
     "text": [
      "[15, 22, 26, 18, 20, 24, 19]\n",
      "[59.0, 71.6, 78.8, 64.4, 68.0, 75.2, 66.2]\n",
      "[22, 26, 24]\n"
     ]
    }
   ],
   "execution_count": 71
  },
  {
   "metadata": {
    "ExecuteTime": {
     "end_time": "2025-10-17T09:46:56.780750Z",
     "start_time": "2025-10-17T09:46:56.769283Z"
    }
   },
   "cell_type": "code",
   "source": [
    "from collections import namedtuple\n",
    "\n",
    "\n",
    "def sales_reader(op_file):\n",
    "    # sales_data = namedtuple('sales_data', 'product_id, quantity, price')\n",
    "    sales_data = []\n",
    "    with open(file_name, 'r') as file:\n",
    "        for line in file:\n",
    "            sales_data = line.split(',')\n",
    "            yield ((sales_data[0], round(int(sales_data[1]) * float(sales_data[2]), 2)) if sales_data[\n",
    "                1].isdigit() else None)\n",
    "\n",
    "\n",
    "file_name = 'C:/Users/u176/PycharmProjects/Python_Courses/Lessons/Lesson5/log_file.txt'\n",
    "\n",
    "print(list(sales_reader(file_name)))\n"
   ],
   "id": "aa3a06c8520e1724",
   "outputs": [
    {
     "name": "stdout",
     "output_type": "stream",
     "text": [
      "[None, ('101', 39.98), ('102', 49.95), ('103', 299.99), ('104', 49.9), ('105', 149.97)]\n"
     ]
    }
   ],
   "execution_count": 33
  },
  {
   "metadata": {
    "ExecuteTime": {
     "end_time": "2025-10-17T09:51:41.993632Z",
     "start_time": "2025-10-17T09:51:41.984332Z"
    }
   },
   "cell_type": "code",
   "source": [
    "cart = []\n",
    "\n",
    "\n",
    "def add_to_cart(product):\n",
    "    global cart\n",
    "    cart.append(product)\n",
    "    return 1\n",
    "\n",
    "\n",
    "def clear_cart():\n",
    "    global cart\n",
    "    cart = []\n",
    "    return 1\n",
    "\n",
    "\n",
    "print(cart)\n",
    "add_to_cart('thing 1')\n",
    "\n",
    "print(cart)\n",
    "clear_cart()\n",
    "print(cart)\n",
    "\n"
   ],
   "id": "f2fa0f7b701fd6a5",
   "outputs": [
    {
     "name": "stdout",
     "output_type": "stream",
     "text": [
      "[]\n",
      "['thing 1']\n",
      "[]\n"
     ]
    }
   ],
   "execution_count": 34
  },
  {
   "metadata": {
    "ExecuteTime": {
     "end_time": "2025-10-17T09:59:36.252307Z",
     "start_time": "2025-10-17T09:59:36.237787Z"
    }
   },
   "cell_type": "code",
   "source": [
    "def countr():\n",
    "    x = 0\n",
    "\n",
    "    def incr_countr():\n",
    "        nonlocal x\n",
    "        x += 1\n",
    "        return x\n",
    "\n",
    "    return incr_countr\n",
    "\n",
    "\n",
    "schet = countr()\n",
    "schet2 = countr()\n",
    "\n",
    "print(schet())\n",
    "print('*')\n",
    "print(schet())\n",
    "print('*')\n",
    "print(schet2())\n",
    "print(schet2())\n",
    "\n",
    "\n"
   ],
   "id": "a406650875ec50fa",
   "outputs": [
    {
     "name": "stdout",
     "output_type": "stream",
     "text": [
      "1\n",
      "*\n",
      "2\n",
      "*\n",
      "1\n",
      "2\n"
     ]
    }
   ],
   "execution_count": 41
  },
  {
   "metadata": {
    "ExecuteTime": {
     "end_time": "2025-10-17T12:24:59.097106Z",
     "start_time": "2025-10-17T12:24:59.088601Z"
    }
   },
   "cell_type": "code",
   "source": [
    "from random import randint\n",
    "\n",
    "\n",
    "def cache_results(func):\n",
    "    ch = {}\n",
    "\n",
    "    def wrapper_function(*args, **kwargs):\n",
    "        nonlocal ch\n",
    "        if not args[0] in ch:\n",
    "            print(args[0])\n",
    "            result = func(*args, **kwargs)\n",
    "            ch[args[0]] = result\n",
    "        else:\n",
    "            result = ch[args[0]]\n",
    "        print(ch)\n",
    "        return result\n",
    "\n",
    "    return wrapper_function\n",
    "\n",
    "\n",
    "@cache_results\n",
    "def fetch_data(query):\n",
    "    return randint(1, 100)\n",
    "\n",
    "\n",
    "fetch_data(3)\n",
    "fetch_data(3)\n",
    "fetch_data(2)\n",
    "fetch_data(4)\n",
    "fetch_data(3)\n",
    "\n",
    "\n"
   ],
   "id": "634b8646cd49dfcd",
   "outputs": [
    {
     "name": "stdout",
     "output_type": "stream",
     "text": [
      "3\n",
      "{3: 91}\n",
      "{3: 91}\n",
      "2\n",
      "{3: 91, 2: 28}\n",
      "4\n",
      "{3: 91, 2: 28, 4: 53}\n",
      "{3: 91, 2: 28, 4: 53}\n"
     ]
    },
    {
     "data": {
      "text/plain": [
       "91"
      ]
     },
     "execution_count": 72,
     "metadata": {},
     "output_type": "execute_result"
    }
   ],
   "execution_count": 72
  }
 ],
 "metadata": {
  "kernelspec": {
   "display_name": "Python 3",
   "language": "python",
   "name": "python3"
  },
  "language_info": {
   "codemirror_mode": {
    "name": "ipython",
    "version": 2
   },
   "file_extension": ".py",
   "mimetype": "text/x-python",
   "name": "python",
   "nbconvert_exporter": "python",
   "pygments_lexer": "ipython2",
   "version": "2.7.6"
  }
 },
 "nbformat": 4,
 "nbformat_minor": 5
}
