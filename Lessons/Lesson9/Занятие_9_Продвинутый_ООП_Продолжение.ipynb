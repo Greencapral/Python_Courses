{
  "nbformat": 4,
  "nbformat_minor": 0,
  "metadata": {
    "colab": {
      "provenance": [],
      "include_colab_link": true
    },
    "kernelspec": {
      "name": "python3",
      "display_name": "Python 3"
    },
    "language_info": {
      "name": "python"
    }
  },
  "cells": [
    {
      "cell_type": "markdown",
      "metadata": {
        "id": "view-in-github",
        "colab_type": "text"
      },
      "source": [
        "<a href=\"https://colab.research.google.com/github/Greencapral/Python_Courses/blob/main/%D0%97%D0%B0%D0%BD%D1%8F%D1%82%D0%B8%D0%B5_9_%D0%9F%D1%80%D0%BE%D0%B4%D0%B2%D0%B8%D0%BD%D1%83%D1%82%D1%8B%D0%B9_%D0%9E%D0%9E%D0%9F_%D0%9F%D1%80%D0%BE%D0%B4%D0%BE%D0%BB%D0%B6%D0%B5%D0%BD%D0%B8%D0%B5_ipynb%22.ipynb\" target=\"_parent\"><img src=\"https://colab.research.google.com/assets/colab-badge.svg\" alt=\"Open In Colab\"/></a>"
      ]
    },
    {
      "cell_type": "markdown",
      "source": [
        "## 1. Введение\n",
        "\n",
        "### 1.1. Цели занятия\n",
        "\n",
        "На этом занятии мы углубим знания об объектно-ориентированном программировании (ООП) в Python. Вы изучите продвинутые концепции, которые позволяют создавать более гибкие и функциональные классы:\n",
        "\n",
        "- Освоите основные дандер-методы (методы с двойным подчёркиванием), которые обеспечивают интеграцию пользовательских классов с встроенными механизмами Python.\n",
        "- Разберётесь с механизмами переопределения методов для настройки поведения объектов.\n",
        "- Узнаете, как применять полиморфизм для обеспечения единообразного интерфейса.\n",
        "- Научитесь использовать дандеры для логических операций, операторов сравнения, итераторов и контекстных менеджеров."
      ],
      "metadata": {
        "id": "FCh9fXXB9kPg"
      }
    },
    {
      "cell_type": "markdown",
      "source": [
        "## 2. Основные дандер-методы базового класса `object`\n",
        "\n",
        "### 2.1. Что такое дандер-методы\n",
        "\n",
        "**Дандер-методы** (от \"double underscore\", двойное подчёркивание) — это специальные методы, которые позволяют встроенным механизмам Python взаимодействовать с пользовательскими классами. Они определяются с использованием двойного подчёркивания до и после имени метода, например: `__init__`, `__str__`, `__eq__`.\n",
        "\n",
        "#### Зачем нужны дандер-методы:\n",
        "- Настраивать отображение объектов (например, `__str__` для преобразования в строку).\n",
        "- Реализовывать сравнение объектов (`__eq__`, `__lt__`).\n",
        "- Настраивать поведение операторов (`+`, `-`, `*`, `/` через `__add__`, `__sub__`).\n",
        "- Поддерживать итерации, контекстные менеджеры и другие механизмы Python.\n",
        "\n",
        "---\n",
        "\n",
        "### 2.2. Ключевые дандер-методы и их применение\n",
        "\n",
        "#### `__init__` - Конструктор\n",
        "\n",
        "Инициализирует объект при его создании."
      ],
      "metadata": {
        "id": "vZ-eVC5w-KUh"
      }
    },
    {
      "cell_type": "code",
      "source": [
        "class Person:\n",
        "    def __init__(self, name, age):\n",
        "        self.name = name\n",
        "        self.age = age\n",
        "\n",
        "# Проверяем\n",
        "person = Person(\"Алиса\", 25)\n",
        "print(person.name)  # Вывод: Алиса\n",
        "print(person.age)   # Вывод: 25"
      ],
      "metadata": {
        "colab": {
          "base_uri": "https://localhost:8080/"
        },
        "id": "Xtrfk6DD-NUL",
        "outputId": "73379d70-8580-4eb5-8603-54412f9dcee0"
      },
      "execution_count": null,
      "outputs": [
        {
          "output_type": "stream",
          "name": "stdout",
          "text": [
            "Алиса\n",
            "25\n"
          ]
        }
      ]
    },
    {
      "cell_type": "markdown",
      "source": [
        "\n",
        "---\n",
        "\n",
        "#### `__str__` и `__repr__` - Строковое представление объекта\n",
        "\n",
        "- `__str__` — используется для \"красивого\" представления объекта (например, при выводе через `print`).\n",
        "- `__repr__` — возвращает строку, которая должна быть валидным кодом Python для создания объекта.\n"
      ],
      "metadata": {
        "id": "UOxEWeDS-RrL"
      }
    },
    {
      "cell_type": "code",
      "source": [
        "class Person:\n",
        "    def __init__(self, name, age):\n",
        "        self.name = name\n",
        "        self.age = age\n",
        "\n",
        "    def __str__(self):\n",
        "        return f\"{self.name}, возраст {self.age}\"\n",
        "\n",
        "    def __repr__(self):\n",
        "        return f\"Person(name='{self.name}', age={self.age})\"\n",
        "\n",
        "# Проверяем\n",
        "person = Person(\"Алиса\", 25)\n",
        "print(person)             # Вывод: Алиса, возраст 25\n",
        "print(repr(person))       # Вывод: Person(name='Алиса', age=25)"
      ],
      "metadata": {
        "colab": {
          "base_uri": "https://localhost:8080/"
        },
        "id": "ep_dwiE1-abN",
        "outputId": "44634773-bbcd-474d-cde5-c2af882686b3"
      },
      "execution_count": null,
      "outputs": [
        {
          "output_type": "stream",
          "name": "stdout",
          "text": [
            "Алиса, возраст 25\n",
            "Person(name='Алиса', age=25)\n"
          ]
        }
      ]
    },
    {
      "cell_type": "markdown",
      "source": [
        "---\n",
        "\n",
        "#### `__hash__` - Хэширование объектов\n",
        "\n",
        "Используется для создания хэшируемых объектов, которые можно использовать как ключи в словарях или элементы множеств.\n"
      ],
      "metadata": {
        "id": "BT85J4A6_r6E"
      }
    },
    {
      "cell_type": "code",
      "source": [
        "class Person:\n",
        "    def __init__(self, name, age):\n",
        "        self.name = name\n",
        "        self.age = age\n",
        "\n",
        "    def __hash__(self):\n",
        "        return hash((self.name, self.age))\n",
        "\n",
        "# Проверяем\n",
        "person1 = Person(\"Алиса\", 25)\n",
        "person2 = Person(\"Боб\", 30)\n",
        "\n",
        "people = {person1: \"Дизайнер\", person2: \"Программист\"}\n",
        "print(people[person1])  # Вывод: Дизайнер"
      ],
      "metadata": {
        "colab": {
          "base_uri": "https://localhost:8080/"
        },
        "id": "e8DnvzHeALgn",
        "outputId": "ed66702d-b96e-4e44-d185-a5f51aef5f6c"
      },
      "execution_count": null,
      "outputs": [
        {
          "output_type": "stream",
          "name": "stdout",
          "text": [
            "Дизайнер\n"
          ]
        }
      ]
    },
    {
      "cell_type": "markdown",
      "source": [
        "**Зачем это нужно?**\n",
        "\n",
        "Использование пользовательских объектов в качестве ключей словаря позволяет создавать структуры данных, основанные на сложных сущностях (например, люди, товары, координаты).\n",
        "\n",
        "Без реализации метода `__hash__`, Python выдаст ошибку `TypeError: unhashable type`, так как по умолчанию объект не может быть использован как ключ. Переопределение `__hash__` и, при необходимости, `__eq__`, позволяет определять уникальность и корректно сравнивать объекты в словаре или множестве."
      ],
      "metadata": {
        "id": "SK3wYz14Ael_"
      }
    },
    {
      "cell_type": "markdown",
      "source": [
        "#### `__del__`: Деструктор\n",
        "\n",
        "Вызывается при удалении объекта. Используется редко, обычно для освобождения ресурсов."
      ],
      "metadata": {
        "id": "_uX43ILbA9RL"
      }
    },
    {
      "cell_type": "code",
      "source": [
        "class Resource:\n",
        "    def __init__(self, name):\n",
        "        self.name = name\n",
        "        print(f\"Ресурс {self.name} создан.\")\n",
        "\n",
        "    def __del__(self):\n",
        "        print(f\"Ресурс {self.name} удалён.\")\n",
        "\n",
        "# Проверяем\n",
        "res = Resource(\"Тестовый\")\n",
        "del res  # Вывод: Ресурс Тестовый удалён."
      ],
      "metadata": {
        "colab": {
          "base_uri": "https://localhost:8080/"
        },
        "id": "G-1kIe6DBCc6",
        "outputId": "43f19f2e-9d51-41cd-8b96-0fa4d8158ab3"
      },
      "execution_count": null,
      "outputs": [
        {
          "output_type": "stream",
          "name": "stdout",
          "text": [
            "Ресурс Тестовый создан.\n",
            "Ресурс Тестовый удалён.\n"
          ]
        }
      ]
    },
    {
      "cell_type": "markdown",
      "source": [
        "---\n",
        "\n",
        "### Дандер-методы для арифметических операций\n",
        "\n",
        "Дандер-методы позволяют настраивать поведение операторов для пользовательских классов. Например:\n",
        "\n",
        "- **`__add__`**: Оператор сложения (`+`).\n",
        "- **`__sub__`**: Оператор вычитания (`-`).\n",
        "- **`__mul__`**: Оператор умножения (`*`).\n",
        "- **`__truediv__`**: Оператор деления (`/`).\n",
        "- **`__floordiv__`**: Оператор целочисленного деления (`//`).\n",
        "- **`__mod__`**: Оператор остатка от деления (`%`).\n",
        "- **`__pow__`**: Оператор возведения в степень (`**`).\n",
        "\n",
        "---\n",
        "\n",
        "### Пример: Класс \"Число\"\n",
        "\n",
        "Создадим простой класс `Number`, который поддерживает базовые арифметические операции:"
      ],
      "metadata": {
        "id": "jVXuClGRVmgW"
      }
    },
    {
      "cell_type": "code",
      "source": [
        "class Number:\n",
        "    def __init__(self, value):\n",
        "        self.value = value\n",
        "\n",
        "    def __add__(self, other):\n",
        "        return Number(self.value + other.value)\n",
        "\n",
        "    def __sub__(self, other):\n",
        "        return Number(self.value - other.value)\n",
        "\n",
        "    def __mul__(self, other):\n",
        "        return Number(self.value * other.value)\n",
        "\n",
        "    def __truediv__(self, other):\n",
        "        return Number(self.value / other.value)\n",
        "\n",
        "    def __floordiv__(self, other):\n",
        "        return Number(self.value // other.value)\n",
        "\n",
        "    def __mod__(self, other):\n",
        "        return Number(self.value % other.value)\n",
        "\n",
        "    def __pow__(self, other):\n",
        "        return Number(self.value ** other.value)\n",
        "\n",
        "    def __repr__(self):\n",
        "        return f\"Number({self.value})\"\n",
        "\n",
        "# Проверяем\n",
        "a = Number(10)\n",
        "b = Number(3)\n",
        "\n",
        "print(a + b)  # Вывод: Number(13)\n",
        "print(a - b)  # Вывод: Number(7)\n",
        "print(a * b)  # Вывод: Number(30)\n",
        "print(a / b)  # Вывод: Number(3.3333333333333335)\n",
        "print(a // b) # Вывод: Number(3)\n",
        "print(a % b)  # Вывод: Number(1)\n",
        "print(a ** b) # Вывод: Number(1000)"
      ],
      "metadata": {
        "colab": {
          "base_uri": "https://localhost:8080/"
        },
        "id": "POUhnEGnVrJX",
        "outputId": "c5063e7c-4802-4374-aa91-1b39e3b7c1f8"
      },
      "execution_count": null,
      "outputs": [
        {
          "output_type": "stream",
          "name": "stdout",
          "text": [
            "Number(13)\n",
            "Number(7)\n",
            "Number(30)\n",
            "Number(3.3333333333333335)\n",
            "Number(3)\n",
            "Number(1)\n",
            "Number(1000)\n"
          ]
        }
      ]
    },
    {
      "cell_type": "markdown",
      "source": [
        "---\n",
        "\n",
        "#### `__eq__` - Сравнение объектов\n",
        "\n",
        "Позволяет определить поведение оператора `==`.\n"
      ],
      "metadata": {
        "id": "oL1LHXpQ_pGZ"
      }
    },
    {
      "cell_type": "code",
      "source": [
        "class Person:\n",
        "    def __init__(self, name, age):\n",
        "        self.name = name\n",
        "        self.age = age\n",
        "\n",
        "    def __eq__(self, other):\n",
        "        return self.age == other.age\n",
        "\n",
        "# Проверяем\n",
        "maria = Person(\"Маша\", 25)\n",
        "anastasiya = Person(\"Настя\", 25)\n",
        "kirill = Person(\"Кирилл\", 30)\n",
        "\n",
        "print(maria == anastasiya)  # Вывод: True\n",
        "print(maria == kirill)  # Вывод: False"
      ],
      "metadata": {
        "colab": {
          "base_uri": "https://localhost:8080/"
        },
        "id": "WIyz6EOt_tyZ",
        "outputId": "296bc6ac-7e5b-42aa-92ae-60dfb8f50271"
      },
      "execution_count": null,
      "outputs": [
        {
          "output_type": "stream",
          "name": "stdout",
          "text": [
            "True\n",
            "False\n"
          ]
        }
      ]
    },
    {
      "cell_type": "markdown",
      "source": [
        "Для полной реализации операторов сравнения (`==`, `!=`, `<`, `<=`, `>`, `>=`) нужно определить соответствующие дандер-методы:\n",
        "\n",
        "- `__eq__(self, other)` — равно (`==`).\n",
        "- `__ne__(self, other)` — не равно (`!=`).\n",
        "- `__lt__(self, other)` — меньше (`<`).\n",
        "- `__le__(self, other)` — меньше или равно (`<=`).\n",
        "- `__gt__(self, other)` — больше (`>`).\n",
        "- `__ge__(self, other)` — больше или равно (`>=`).\n",
        "\n",
        "---\n",
        "\n",
        "#### Пример: Класс `Person` с полным набором операторов сравнения\n"
      ],
      "metadata": {
        "id": "TRP1SlK3Cxvl"
      }
    },
    {
      "cell_type": "code",
      "source": [
        "class Person:\n",
        "    def __init__(self, name, age):\n",
        "        self.name = name\n",
        "        self.age = age\n",
        "\n",
        "    def __eq__(self, other):\n",
        "        return self.age == other.age\n",
        "\n",
        "    def __ne__(self, other):\n",
        "        return self.age != other.age\n",
        "\n",
        "    def __lt__(self, other):\n",
        "        return self.age < other.age\n",
        "\n",
        "    def __le__(self, other):\n",
        "        return self.age <= other.age\n",
        "\n",
        "    def __gt__(self, other):\n",
        "        return self.age > other.age\n",
        "\n",
        "    def __ge__(self, other):\n",
        "        return self.age >= other.age\n",
        "\n",
        "# Проверяем\n",
        "maria = Person(\"Маша\", 25)\n",
        "anastasiya = Person(\"Настя\", 25)\n",
        "kirill = Person(\"Кирилл\", 30)\n",
        "\n",
        "# Сравнения\n",
        "if maria == anastasiya:\n",
        "    print(\"Маша и Настя одного возраста.\")\n",
        "    # Вывод: Маша и Настя одного возраста.\n",
        "\n",
        "if maria != kirill:\n",
        "    print(\"Маша и Кирилл разного возраста.\")\n",
        "    # Вывод: Маша и Кирилл разного возраста.\n",
        "\n",
        "if maria < kirill:\n",
        "    print(\"Маша младше Кирилла.\")\n",
        "    # Вывод: Маша младше Кирилла.\n",
        "\n",
        "if maria <= anastasiya:\n",
        "    print(\"Маша не старше Насти.\")\n",
        "    # Вывод: Маша не старше Насти.\n",
        "\n",
        "if kirill > maria:\n",
        "    print(\"Кирилл старше Маши.\")\n",
        "    # Вывод: Кирилл старше Маши.\n",
        "\n",
        "if kirill >= anastasiya:\n",
        "    print(\"Кирилл не младше Насти.\")\n",
        "    # Вывод: Кирилл не младше Насти.\n"
      ],
      "metadata": {
        "colab": {
          "base_uri": "https://localhost:8080/"
        },
        "id": "p8da8Ic_C1UX",
        "outputId": "351023e6-e4a5-4723-9b02-531f838fc03f"
      },
      "execution_count": null,
      "outputs": [
        {
          "output_type": "stream",
          "name": "stdout",
          "text": [
            "Маша и Настя одного возраста.\n",
            "Маша и Кирилл разного возраста.\n",
            "Маша младше Кирилла.\n",
            "Маша не старше Насти.\n",
            "Кирилл старше Маши.\n",
            "Кирилл не младше Насти.\n"
          ]
        }
      ]
    },
    {
      "cell_type": "markdown",
      "source": [
        "Однако, реализовывать все шесть методов для сравнения (`__eq__`, `__ne__`, `__lt__`, `__le__`, `__gt__`, `__ge__`) может быть утомительно и избыточно, особенно когда они связаны логически. Например, если определён метод `__lt__` (меньше) и метод `__eq__` (равно), то остальные методы можно легко вывести из их комбинации.\n",
        "\n",
        "Чтобы упростить процесс, Python предоставляет **декоратор `functools.total_ordering`**, который автоматически реализует недостающие методы сравнения на основе двух обязательных: `__eq__` и одного из (`__lt__`, `__le__`, `__gt__`, `__ge__`)."
      ],
      "metadata": {
        "id": "R0M7SPa-ElmY"
      }
    },
    {
      "cell_type": "code",
      "source": [
        "from functools import total_ordering\n",
        "\n",
        "@total_ordering\n",
        "class Person:\n",
        "    def __init__(self, name, age):\n",
        "        self.name = name\n",
        "        self.age = age\n",
        "\n",
        "    def __eq__(self, other):\n",
        "        return self.age == other.age\n",
        "\n",
        "    def __lt__(self, other):\n",
        "        return self.age < other.age\n",
        "\n",
        "# Проверяем\n",
        "maria = Person(\"Маша\", 25)\n",
        "anastasiya = Person(\"Настя\", 25)\n",
        "kirill = Person(\"Кирилл\", 30)\n",
        "\n",
        "# Сравнения\n",
        "if maria == anastasiya:\n",
        "    print(\"Маша и Настя одного возраста.\")\n",
        "    # Вывод: Маша и Настя одного возраста.\n",
        "\n",
        "if maria != kirill:\n",
        "    print(\"Маша и Кирилл разного возраста.\")\n",
        "    # Вывод: Маша и Кирилл разного возраста.\n",
        "\n",
        "if maria < kirill:\n",
        "    print(\"Маша младше Кирилла.\")\n",
        "    # Вывод: Маша младше Кирилла.\n",
        "\n",
        "if maria <= anastasiya:\n",
        "    print(\"Маша не старше Насти.\")\n",
        "    # Вывод: Маша не старше Насти.\n",
        "\n",
        "if kirill > maria:\n",
        "    print(\"Кирилл старше Маши.\")\n",
        "    # Вывод: Кирилл старше Маши.\n",
        "\n",
        "if kirill >= anastasiya:\n",
        "    print(\"Кирилл не младше Насти.\")\n",
        "    # Вывод: Кирилл не младше Насти.\n"
      ],
      "metadata": {
        "colab": {
          "base_uri": "https://localhost:8080/"
        },
        "id": "mu-a-cayFV0a",
        "outputId": "9e3fafa1-3068-411b-a53d-b92d0a1085ee"
      },
      "execution_count": null,
      "outputs": [
        {
          "output_type": "stream",
          "name": "stdout",
          "text": [
            "Маша и Настя одного возраста.\n",
            "Маша и Кирилл разного возраста.\n",
            "Маша младше Кирилла.\n",
            "Маша не старше Насти.\n",
            "Кирилл старше Маши.\n",
            "Кирилл не младше Насти.\n"
          ]
        }
      ]
    },
    {
      "cell_type": "markdown",
      "source": [
        "## 3. Принципы и примеры переопределения методов\n",
        "\n",
        "Переопределение методов в классе позволяет адаптировать поведение, унаследованное от базового класса, к специфике задачи. Это ключевой механизм, обеспечивающий гибкость и возможность модификации поведения объектов.\n",
        "\n",
        "---\n",
        "\n",
        "### 3.1. Что такое переопределение?\n",
        "\n",
        "Переопределение (override) — это процесс, при котором дочерний класс заменяет или дополняет метод родительского класса. Если метод переопределён, при вызове этого метода у объекта дочернего класса будет использована новая версия.\n",
        "\n",
        "---\n",
        "\n",
        "### 3.2. Использование `super()`\n",
        "\n",
        "Метод `super()` позволяет обращаться к методам родительского класса. Это особенно полезно, когда нужно расширить, а не заменить поведение родительского метода."
      ],
      "metadata": {
        "id": "iwI6W-GPF8gC"
      }
    },
    {
      "cell_type": "code",
      "source": [
        "class Animal:\n",
        "    def __init__(self, name):\n",
        "        self.name = name\n",
        "\n",
        "    def speak(self):\n",
        "        return f\"{self.name} издаёт звук.\"\n",
        "\n",
        "class Dog(Animal):\n",
        "    def __init__(self, name, breed):\n",
        "        super().__init__(name)  # Вызов конструктора родительского класса\n",
        "        self.breed = breed\n",
        "\n",
        "    def speak(self):\n",
        "        return f\"{self.name}, породы {self.breed}, говорит: Гав!\"\n",
        "\n",
        "# Проверяем\n",
        "generic_animal = Animal(\"Животное\")\n",
        "dog = Dog(\"Рекс\", \"Лабрадор\")\n",
        "\n",
        "print(generic_animal.speak())  # Вывод: Животное издаёт звук.\n",
        "print(dog.speak())             # Вывод: Рекс, породы Лабрадор, говорит: Гав!"
      ],
      "metadata": {
        "colab": {
          "base_uri": "https://localhost:8080/"
        },
        "id": "wsvb9kifHGFS",
        "outputId": "6aa4c468-b47c-4820-c57b-4551cfbccdc2"
      },
      "execution_count": null,
      "outputs": [
        {
          "output_type": "stream",
          "name": "stdout",
          "text": [
            "Животное издаёт звук.\n",
            "Рекс, породы Лабрадор, говорит: Гав!\n"
          ]
        }
      ]
    },
    {
      "cell_type": "markdown",
      "source": [
        "---\n",
        "\n",
        "### Пример 2: Расширение метода с помощью `super()`"
      ],
      "metadata": {
        "id": "HonkAKQlHQGO"
      }
    },
    {
      "cell_type": "code",
      "source": [
        "class Vehicle:\n",
        "    def __init__(self, brand):\n",
        "        self.brand = brand\n",
        "\n",
        "    def info(self):\n",
        "        return f\"Транспортное средство марки {self.brand}.\"\n",
        "\n",
        "class Car(Vehicle):\n",
        "    def __init__(self, brand, doors):\n",
        "        super().__init__(brand)\n",
        "        self.doors = doors\n",
        "\n",
        "    def info(self):\n",
        "        base_info = super().info()  # Вызов родительского метода\n",
        "        return f\"{base_info} Количество дверей: {self.doors}.\"\n",
        "\n",
        "# Проверяем\n",
        "vehicle = Vehicle(\"Generic\")\n",
        "car = Car(\"Toyota\", 4)\n",
        "\n",
        "print(vehicle.info())\n",
        "# Вывод: Транспортное средство марки Generic.\n",
        "print(car.info())\n",
        "# Вывод: Транспортное средство марки Toyota. Количество дверей: 4."
      ],
      "metadata": {
        "colab": {
          "base_uri": "https://localhost:8080/"
        },
        "id": "2VvFe1OOHSJp",
        "outputId": "2b8533e0-49fe-4f25-d7ce-db17d0bc9098"
      },
      "execution_count": null,
      "outputs": [
        {
          "output_type": "stream",
          "name": "stdout",
          "text": [
            "Транспортное средство марки Generic.\n",
            "Транспортное средство марки Toyota. Количество дверей: 4.\n"
          ]
        }
      ]
    },
    {
      "cell_type": "markdown",
      "source": [
        "### Пример 3: Специализация поведения\n"
      ],
      "metadata": {
        "id": "D01n5tZiHdUr"
      }
    },
    {
      "cell_type": "markdown",
      "source": [
        "Помимо расширения методов исходного класса, мы можем добавлять и новые при наследовании, которые будут доступны наравне со старыми в дочернем классе:"
      ],
      "metadata": {
        "id": "E-bIEQvPJ7vt"
      }
    },
    {
      "cell_type": "code",
      "source": [
        "class BankAccount: # Обычный банковский аккаунт\n",
        "    def __init__(self, owner, balance=0):\n",
        "        self.owner = owner\n",
        "        self.balance = balance\n",
        "\n",
        "    def deposit(self, amount):\n",
        "        self.balance += amount\n",
        "        return f\"{self.owner} пополнил счёт на {amount}. Баланс: {self.balance}.\"\n",
        "\n",
        "class SavingsAccount(BankAccount): # Накопительный счет\n",
        "    def __init__(self, owner, balance=0, interest_rate=0.02):\n",
        "        super().__init__(owner, balance)\n",
        "        self.interest_rate = interest_rate\n",
        "\n",
        "    def add_interest(self):\n",
        "        interest = self.balance * self.interest_rate\n",
        "        self.balance += interest\n",
        "        return f\"Начислены проценты: {interest}. Баланс: {self.balance}.\"\n",
        "\n",
        "# Проверяем\n",
        "mikhail = BankAccount(\"Михаил\", 1000)\n",
        "vasiliy = SavingsAccount(\"Василий\", 2000, interest_rate=0.05)\n",
        "\n",
        "print(mikhail.deposit(500))\n",
        "# Вывод: Михаил пополнил счёт на 500. Баланс: 1500.\n",
        "print(vasiliy.deposit(1000))\n",
        "# Вывод: Василий пополнил счёт на 1000. Баланс: 3000.\n",
        "print(vasiliy.add_interest())\n",
        "# Вывод: Начислены проценты: 150.0. Баланс: 3150.0."
      ],
      "metadata": {
        "id": "d2FIG-9UJB_Z"
      },
      "execution_count": null,
      "outputs": []
    },
    {
      "cell_type": "markdown",
      "source": [
        "## 4. Полиморфизм и его применение к пользовательским классам\n",
        "\n",
        "**Полиморфизм** — это возможность взаимодействовать с объектами разных классов через единый интерфейс. Это даёт гибкость в написании кода, который не привязан к конкретным реализациям, а работает с абстракциями. Такая способность особенно важна в реальных проектах, где одна и та же операция может выполняться разными способами, в зависимости от конкретной ситуации.\n",
        "\n",
        "---\n",
        "\n",
        "### 4.1. Принцип полиморфизма\n",
        "\n",
        "Представьте, что у вас есть базовый класс с определённым методом. Разные дочерние классы реализуют этот метод по-своему. Код, который вызывает метод, не знает о деталях реализации — он просто вызывает общий интерфейс.\n",
        "\n",
        "---\n",
        "\n",
        "### Пример 1: Система уведомлений\n",
        "\n",
        "Представим, что в веб-приложении нужно отправлять уведомления пользователям. Уведомления могут приходить по электронной почте, в виде SMS или пуш-уведомлений в мобильное приложение. Все они имеют общий интерфейс отправки, но реализация отличается."
      ],
      "metadata": {
        "id": "z7JqsI3dMhJy"
      }
    },
    {
      "cell_type": "code",
      "source": [
        "class Notification:\n",
        "    def send(self, message):\n",
        "        raise NotImplementedError(\"Этот метод должен быть переопределён.\")\n",
        "\n",
        "class EmailNotification(Notification):\n",
        "    def send(self, message):\n",
        "        # Логика отправки email\n",
        "        print(f\"Отправка email: {message}\")\n",
        "\n",
        "class SMSNotification(Notification):\n",
        "    def send(self, message):\n",
        "        # Логика отправки SMS\n",
        "        print(f\"Отправка SMS: {message}\")\n",
        "\n",
        "class PushNotification(Notification):\n",
        "    def send(self, message):\n",
        "        # Логика отправки пуш-уведомления\n",
        "        print(f\"Отправка пуш-уведомления: {message}\")\n",
        "\n",
        "def notify_user(notification: Notification, message: str):\n",
        "    notification.send(message)\n",
        "\n",
        "# Проверяем\n",
        "email = EmailNotification()\n",
        "sms = SMSNotification()\n",
        "push = PushNotification()\n",
        "\n",
        "notify_user(email, \"Ваш заказ отправлен.\")\n",
        "notify_user(sms, \"Ваш код подтверждения: 1234\")\n",
        "notify_user(push, \"У вас новое сообщение.\")"
      ],
      "metadata": {
        "colab": {
          "base_uri": "https://localhost:8080/"
        },
        "id": "g4HMs7xFMlQU",
        "outputId": "cf48d1e7-51de-4f0c-84c9-eca6e9f08c2d"
      },
      "execution_count": null,
      "outputs": [
        {
          "output_type": "stream",
          "name": "stdout",
          "text": [
            "Отправка email: Ваш заказ отправлен.\n",
            "Отправка SMS: Ваш код подтверждения: 1234\n",
            "Отправка пуш-уведомления: У вас новое сообщение.\n"
          ]
        }
      ]
    },
    {
      "cell_type": "markdown",
      "source": [
        "### Пример 2: Оплата разными способами\n",
        "\n",
        "В интернет-магазине покупатель может оплачивать заказ разными способами, например банковской картой, PayPal или внутренним балансом. При этом общая операция — оплата, но её реализация различна."
      ],
      "metadata": {
        "id": "cz9jLfliM1qW"
      }
    },
    {
      "cell_type": "code",
      "source": [
        "class PaymentMethod:\n",
        "    def pay(self, amount):\n",
        "        raise NotImplementedError(\"Метод pay() должен быть переопределён.\")\n",
        "\n",
        "class CreditCardPayment(PaymentMethod):\n",
        "    def pay(self, amount):\n",
        "        # Логика оплаты по карте\n",
        "        print(f\"Оплата {amount} руб. банковской картой.\")\n",
        "\n",
        "class PayPalPayment(PaymentMethod):\n",
        "    def pay(self, amount):\n",
        "        # Логика оплаты через PayPal\n",
        "        print(f\"Оплата {amount} руб. через PayPal.\")\n",
        "\n",
        "class InternalBalancePayment(PaymentMethod):\n",
        "    # Логика оплаты через внутренний счет (с балансом)\n",
        "    def __init__(self, balance):\n",
        "        self.balance = balance\n",
        "\n",
        "    def pay(self, amount):\n",
        "        if self.balance >= amount:\n",
        "            self.balance -= amount\n",
        "            print(f\"Оплата {amount} руб. с внутреннего баланса. Остаток: {self.balance} руб.\")\n",
        "        else:\n",
        "            print(\"Недостаточно средств на внутреннем балансе.\")\n",
        "\n",
        "def process_payment(method: PaymentMethod, amount: int):\n",
        "    method.pay(amount)\n",
        "\n",
        "# Проверяем\n",
        "card = CreditCardPayment()\n",
        "paypal = PayPalPayment()\n",
        "internal = InternalBalancePayment(balance=500)\n",
        "\n",
        "process_payment(card, 300)      # Оплата 300 руб. банковской картой.\n",
        "process_payment(paypal, 450)    # Оплата 450 руб. через PayPal.\n",
        "process_payment(internal, 200)  # Оплата 200 руб. с внутреннего баланса. Остаток: 300 руб."
      ],
      "metadata": {
        "colab": {
          "base_uri": "https://localhost:8080/"
        },
        "id": "bK1tfw7AM_In",
        "outputId": "87866194-0a2e-4f90-bdca-59a18788ede1"
      },
      "execution_count": null,
      "outputs": [
        {
          "output_type": "stream",
          "name": "stdout",
          "text": [
            "Оплата 300 руб. банковской картой.\n",
            "Оплата 450 руб. через PayPal.\n",
            "Оплата 200 руб. с внутреннего баланса. Остаток: 300 руб.\n"
          ]
        }
      ]
    },
    {
      "cell_type": "markdown",
      "source": [
        "Таким образом, полиморфизм решает задачу дублирования кода, поскольку методы со схожим функционалом имеют одинаковое название, что позволяет использовать их в общем интервейсе."
      ],
      "metadata": {
        "id": "euNM2yJBM9kq"
      }
    },
    {
      "cell_type": "markdown",
      "source": [
        "## 5. Использование дандеров для реализации логических операций\n",
        "\n",
        "**Дандеры логических операций** позволяют настраивать поведение объектов при использовании операторов логики (`and`, `or`, `not`) и проверки истинности. Это делает пользовательские классы более гибкими и удобными, особенно в реальных проектах.\n",
        "\n",
        "---\n",
        "\n",
        "### 5.1. Дандер-метод `__bool__`\n",
        "\n",
        "Метод `__bool__` определяет, как объект оценивается на истинность. Если он возвращает `True`, объект считается \"истинным\", если `False` — \"ложным\".\n",
        "\n",
        "#### Пример: Проверка доступности ресурса\n",
        "\n",
        "Веб-приложение может проверять, доступен ли ресурс:"
      ],
      "metadata": {
        "id": "Ax0xnE5YNs_h"
      }
    },
    {
      "cell_type": "code",
      "source": [
        "class Resource:\n",
        "    def __init__(self, is_available):\n",
        "        self.is_available = is_available\n",
        "\n",
        "    def __bool__(self):\n",
        "        return self.is_available\n",
        "\n",
        "# Проверяем\n",
        "resource1 = Resource(True)\n",
        "resource2 = Resource(False)\n",
        "\n",
        "if resource1:\n",
        "    print(\"Ресурс 1 доступен.\")  # Вывод: Ресурс 1 доступен.\n",
        "\n",
        "if not resource2:\n",
        "    print(\"Ресурс 2 недоступен.\")  # Вывод: Ресурс 2 недоступен."
      ],
      "metadata": {
        "colab": {
          "base_uri": "https://localhost:8080/"
        },
        "id": "Xt_kyhVbOGD9",
        "outputId": "80849ee6-74f7-4015-c646-90f2dc9d672e"
      },
      "execution_count": null,
      "outputs": [
        {
          "output_type": "stream",
          "name": "stdout",
          "text": [
            "Ресурс 1 доступен.\n",
            "Ресурс 2 недоступен.\n"
          ]
        }
      ]
    },
    {
      "cell_type": "markdown",
      "source": [
        "Таким образом, метод `__bool__` позволяет использовать объекты класса `Resource` в условиях `if` или `not`, как если бы они были булевыми значениями."
      ],
      "metadata": {
        "id": "_9jbMIBsOR8J"
      }
    },
    {
      "cell_type": "markdown",
      "source": [
        "---\n",
        "\n",
        "### 5.2. Дандеры `__and__`, `__or__`, `__not__`\n",
        "\n",
        "Эти методы позволяют переопределить логику операторов `and`, `or` и `not` для пользовательских классов.\n",
        "\n",
        "#### Пример: Система прав доступа\n",
        "\n",
        "Представьте, что в системе есть пользователи с определёнными правами. Мы можем объединять права с помощью логических операторов."
      ],
      "metadata": {
        "id": "bkaW5GoxOXkf"
      }
    },
    {
      "cell_type": "code",
      "source": [
        "class Permission:\n",
        "    def __init__(self, can_read=False, can_write=False):\n",
        "        self.can_read = can_read\n",
        "        self.can_write = can_write\n",
        "\n",
        "    def __and__(self, other):\n",
        "        return Permission(\n",
        "            can_read=self.can_read and other.can_read,\n",
        "            can_write=self.can_write and other.can_write\n",
        "        )\n",
        "\n",
        "    def __or__(self, other):\n",
        "        return Permission(\n",
        "            can_read=self.can_read or other.can_read,\n",
        "            can_write=self.can_write or other.can_write\n",
        "        )\n",
        "\n",
        "    def __repr__(self):\n",
        "        return f\"Permission(read={self.can_read}, write={self.can_write})\"\n",
        "\n",
        "# Проверяем\n",
        "admin = Permission(can_read=True, can_write=True)\n",
        "editor = Permission(can_read=True, can_write=False)\n",
        "viewer = Permission(can_read=True, can_write=False)\n",
        "\n",
        "combined = admin & editor  # Совмещение прав (пересечение)\n",
        "print(combined)  # Вывод: Permission(read=True, write=False)\n",
        "\n",
        "union = editor | viewer  # Объединение прав\n",
        "print(union)  # Вывод: Permission(read=True, write=False)"
      ],
      "metadata": {
        "colab": {
          "base_uri": "https://localhost:8080/"
        },
        "id": "4t54XjAZOaNy",
        "outputId": "6d95e9dc-64a2-4004-e395-dcd228d6ee63"
      },
      "execution_count": null,
      "outputs": [
        {
          "output_type": "stream",
          "name": "stdout",
          "text": [
            "Permission(read=True, write=False)\n",
            "Permission(read=True, write=False)\n"
          ]
        }
      ]
    },
    {
      "cell_type": "markdown",
      "source": [
        "В данном примере, дандер `__and__` определяет логику пересечения прав, а дандер `__or__` реализует объединение прав."
      ],
      "metadata": {
        "id": "F3RTfGltPpkW"
      }
    },
    {
      "cell_type": "markdown",
      "source": [
        "---\n",
        "\n",
        "### 5.3. Пример: Условная активация\n",
        "\n",
        "В системе может быть сущность, которая активируется, если выполнены оба условия, или остаётся неактивной, если ни одно из них не выполнено.\n"
      ],
      "metadata": {
        "id": "dsV8dOZlPycW"
      }
    },
    {
      "cell_type": "code",
      "source": [
        "class FeatureToggle:\n",
        "    def __init__(self, is_enabled):\n",
        "        self.is_enabled = is_enabled\n",
        "\n",
        "    def __bool__(self):\n",
        "        return self.is_enabled\n",
        "\n",
        "    def __and__(self, other):\n",
        "        return FeatureToggle(self.is_enabled and other.is_enabled)\n",
        "\n",
        "    def __or__(self, other):\n",
        "        return FeatureToggle(self.is_enabled or other.is_enabled)\n",
        "\n",
        "    def __repr__(self):\n",
        "        return f\"FeatureToggle(enabled={self.is_enabled})\"\n",
        "\n",
        "# Проверяем\n",
        "feature_a = FeatureToggle(True)\n",
        "feature_b = FeatureToggle(False)\n",
        "\n",
        "combined_feature = feature_a & feature_b\n",
        "print(combined_feature)  # Вывод: FeatureToggle(enabled=False)\n",
        "\n",
        "union_feature = feature_a | feature_b\n",
        "print(union_feature)  # Вывод: FeatureToggle(enabled=True)"
      ],
      "metadata": {
        "colab": {
          "base_uri": "https://localhost:8080/"
        },
        "id": "1JnISWaMP487",
        "outputId": "3e946f43-2fac-4bb2-d17d-2d3f6e8c0c18"
      },
      "execution_count": null,
      "outputs": [
        {
          "output_type": "stream",
          "name": "stdout",
          "text": [
            "FeatureToggle(enabled=False)\n",
            "FeatureToggle(enabled=True)\n"
          ]
        }
      ]
    },
    {
      "cell_type": "markdown",
      "source": [
        "Как вы можете наблюдать, здесь использование `__and__` и `__or__` позволяет настраивать логику активации на основе комбинации условий."
      ],
      "metadata": {
        "id": "yTF944YAP7be"
      }
    },
    {
      "cell_type": "markdown",
      "source": [
        "## 6. Создание пользовательских итераторов и контекстных менеджеров через дандеры\n",
        "\n",
        "---\n",
        "\n",
        "### 6.1. Итераторы и дандеры `__iter__` и `__next__`\n",
        "\n",
        "**Итераторы** в Python используются для последовательного перебора элементов. Для реализации пользовательского итератора нужно определить два метода:\n",
        "\n",
        "- **`__iter__`**: Возвращает сам объект итератора.\n",
        "- **`__next__`**: Возвращает следующий элемент последовательности. При достижении конца последовательности выбрасывает исключение `StopIteration`.\n",
        "\n",
        "---\n",
        "\n",
        "#### Пример: Итератор для числового диапазона"
      ],
      "metadata": {
        "id": "dmZJ3_1KQEDf"
      }
    },
    {
      "cell_type": "code",
      "source": [
        "class RangeIterator:\n",
        "    def __init__(self, start, end):\n",
        "        self.current = start\n",
        "        self.end = end\n",
        "\n",
        "    def __iter__(self):\n",
        "        return self  # Итератор возвращает сам себя\n",
        "\n",
        "    def __next__(self):\n",
        "        if self.current >= self.end:\n",
        "            raise StopIteration  # Конец итерации\n",
        "        result = self.current\n",
        "        self.current += 1\n",
        "        return result\n",
        "\n",
        "# Проверяем\n",
        "custom_range = RangeIterator(1, 5)\n",
        "for num in custom_range:\n",
        "    print(num)\n",
        "# Вывод:\n",
        "# 1\n",
        "# 2\n",
        "# 3\n",
        "# 4"
      ],
      "metadata": {
        "id": "1td4vK5wQfy2"
      },
      "execution_count": null,
      "outputs": []
    },
    {
      "cell_type": "markdown",
      "source": [
        "В разработке подобные итераторы создаются например для постраничной загрузки данных из API."
      ],
      "metadata": {
        "id": "5rBgBda5QgkU"
      }
    },
    {
      "cell_type": "markdown",
      "source": [
        "--\n",
        "\n",
        "### 6.2. Контекстные менеджеры и дандеры `__enter__` и `__exit__`\n",
        "\n",
        "**Контекстные менеджеры** позволяют управлять ресурсами (например, файлами, соединениями с базой данных) с автоматическим закрытием или освобождением ресурсов. Для создания пользовательского контекстного менеджера нужно определить два метода:\n",
        "\n",
        "- **`__enter__`**: Выполняется при входе в блок `with`. Возвращает объект, который будет использоваться внутри блока.\n",
        "- **`__exit__`**: Выполняется при выходе из блока `with`, даже если внутри блока произошло исключение.\n",
        "\n",
        "Таким образом, мы можем автоматически открывать и закрывать подключение к базам данных, сетевые соединения, либо при рпаботе с файлами.\n",
        "\n",
        "---\n",
        "\n",
        "#### Пример: Контекстный менеджер для работы с файлом"
      ],
      "metadata": {
        "id": "osKF83eTQxiu"
      }
    },
    {
      "cell_type": "code",
      "source": [
        "class FileManager:\n",
        "    def __init__(self, filename, mode):\n",
        "        self.filename = filename\n",
        "        self.mode = mode\n",
        "        self.file = None\n",
        "\n",
        "    def __enter__(self):\n",
        "        self.file = open(self.filename, self.mode) # Открываем соединение\n",
        "        return self.file\n",
        "\n",
        "    def __exit__(self, exc_type, exc_value, traceback):\n",
        "        if self.file:\n",
        "            self.file.close() # Закрываем соединение\n",
        "\n",
        "# Проверяем\n",
        "with FileManager(\"example.txt\", \"w\") as f:\n",
        "    f.write(\"Привет, мир!\")\n",
        "\n",
        "with FileManager(\"example.txt\", \"r\") as f:\n",
        "    print(f.read())\n",
        "# Вывод:\n",
        "# Привет, мир!"
      ],
      "metadata": {
        "colab": {
          "base_uri": "https://localhost:8080/"
        },
        "id": "_kDgdiPxRMhG",
        "outputId": "430067a6-c8ba-4b45-9f9c-acf8efe87c9a"
      },
      "execution_count": null,
      "outputs": [
        {
          "output_type": "stream",
          "name": "stdout",
          "text": [
            "Привет, мир!\n"
          ]
        }
      ]
    },
    {
      "cell_type": "markdown",
      "source": [
        "---\n",
        "\n",
        "### 6.3. Пример из реальной разработки: Контекстный менеджер для подключения к базе данных\n"
      ],
      "metadata": {
        "id": "VkkxvShZQ2yk"
      }
    },
    {
      "cell_type": "code",
      "source": [
        "class DatabaseConnection:\n",
        "    def __init__(self, db_name):\n",
        "        self.db_name = db_name\n",
        "        self.connection = None\n",
        "\n",
        "    def __enter__(self):\n",
        "        self.connection = self.connect_to_db()\n",
        "        return self.connection\n",
        "\n",
        "    def __exit__(self, exc_type, exc_value, traceback):\n",
        "        self.disconnect()\n",
        "\n",
        "    def connect_to_db(self):\n",
        "        # Имитируем подключение\n",
        "        print(f\"Подключение к базе данных {self.db_name}\")\n",
        "        return f\"Соединение с {self.db_name}\"\n",
        "\n",
        "    def disconnect(self):\n",
        "        print(f\"Отключение от базы данных {self.db_name}\")\n",
        "\n",
        "# Проверяем\n",
        "with DatabaseConnection(\"example_db\") as conn:\n",
        "    print(f\"Используем {conn}\")\n",
        "# Вывод:\n",
        "# Подключение к базе данных example_db\n",
        "# Используем Соединение с example_db\n",
        "# Отключение от базы данных example_db"
      ],
      "metadata": {
        "colab": {
          "base_uri": "https://localhost:8080/"
        },
        "id": "ss9m4cyPRh1A",
        "outputId": "3d40b7db-f219-4418-abb0-232cee75f6e5"
      },
      "execution_count": null,
      "outputs": [
        {
          "output_type": "stream",
          "name": "stdout",
          "text": [
            "Подключение к базе данных example_db\n",
            "Используем Соединение с example_db\n",
            "Отключение от базы данных example_db\n"
          ]
        }
      ]
    },
    {
      "cell_type": "markdown",
      "source": [
        "Данный способ применяется в разработке для безопасного подключения и отключения от базы данных и уменьшения риска утечки ресурсов."
      ],
      "metadata": {
        "id": "nSLX32LARmGY"
      }
    },
    {
      "cell_type": "markdown",
      "source": [
        "## 7. Практические задания"
      ],
      "metadata": {
        "id": "WT7ZgL3QSEkq"
      }
    },
    {
      "cell_type": "markdown",
      "source": [
        "### Задача 1: Итератор для делителей числа\n",
        "\n",
        "Создайте класс `Divisors`, который возвращает все делители заданного числа с использованием итератора.\n",
        "\n",
        "**Требования:**\n",
        "1. Конструктор принимает одно число `n`.\n",
        "2. Реализуйте методы `__iter__` и `__next__`.\n",
        "3. При итерации объект должен возвращать делители числа в порядке возрастания.\n",
        "\n",
        "**Пример:**\n",
        "\n",
        "```python\n",
        "divisors = Divisors(12)\n",
        "for d in divisors:\n",
        "    print(d)\n",
        "# Вывод:\n",
        "# 1\n",
        "# 2\n",
        "# 3\n",
        "# 4\n",
        "# 6\n",
        "# 12\n",
        "```\n",
        "\n",
        "---\n",
        "\n",
        "### Задача 2: Контекстный менеджер для записи лога\n",
        "\n",
        "Создайте класс `Logger`, который работает как контекстный менеджер и записывает в файл сообщения, переданные в блоке `with`.\n",
        "\n",
        "**Требования:**\n",
        "1. Конструктор принимает имя файла.\n",
        "2. Реализуйте методы `__enter__` и `__exit__`.\n",
        "3. В блоке `with` можно вызывать метод `log(message)` для записи сообщения в файл.\n",
        "\n",
        "**Пример:**\n",
        "\n",
        "```python\n",
        "with Logger(\"log.txt\") as logger:\n",
        "    logger.log(\"Начало работы программы\")\n",
        "    logger.log(\"Произошла ошибка\")\n",
        "    logger.log(\"Завершение работы\")\n",
        "\n",
        "# Содержимое файла log.txt:\n",
        "# Начало работы программы\n",
        "# Произошла ошибка\n",
        "# Завершение работы\n",
        "```\n",
        "\n",
        "---\n",
        "\n",
        "### Задание 3: Система вычисления площади\n",
        "\n",
        "Создайте абстрактный класс `Shape` и несколько его наследников для вычисления площади различных фигур.\n",
        "\n",
        "**Требования:**\n",
        "1. Абстрактный класс `Shape` должен иметь абстрактный метод `area`.\n",
        "2. Реализуйте классы:\n",
        "   - `Rectangle` (прямоугольник) с атрибутами `width` и `height`.\n",
        "   - `Circle` (круг) с атрибутом `radius`.\n",
        "   - `Triangle` (треугольник) с атрибутами `base` и `height`.\n",
        "3. Каждый класс должен реализовать метод `area`, возвращающий площадь фигуры.\n",
        "4. Напишите функцию `print_area(shape)`, которая принимает объект фигуры и выводит её площадь.\n",
        "\n",
        "**Пример:**\n",
        "\n",
        "```python\n",
        "from math import pi\n",
        "\n",
        "rectangle = Rectangle(10, 5)\n",
        "circle = Circle(7)\n",
        "triangle = Triangle(6, 4)\n",
        "\n",
        "print_area(rectangle)  # Вывод: Площадь фигуры: 50\n",
        "print_area(circle)     # Вывод: Площадь фигуры: 153.94\n",
        "print_area(triangle)   # Вывод: Площадь фигуры: 12\n",
        "```\n",
        "\n",
        "**Подсказка:**\n",
        "- Используйте модуль `abc` для создания абстрактного класса.\n",
        "---\n",
        "\n",
        "### Задача 4: Список с логированием\n",
        "\n",
        "Создайте класс `LoggedList`, который наследуется от стандартного списка и ведёт логирование операций добавления и удаления элементов.\n",
        "\n",
        "**Требования:**\n",
        "1. Класс наследуется от `list`.\n",
        "2. Переопределите методы `append` и `remove`, чтобы они логировали изменения в список.\n",
        "3. Логи записываются в отдельный список `log`.\n",
        "\n",
        "**Пример:**\n",
        "\n",
        "```python\n",
        "lst = LoggedList()\n",
        "lst.append(10)\n",
        "lst.append(20)\n",
        "lst.remove(10)\n",
        "\n",
        "print(lst)  # Вывод: [20]\n",
        "print(lst.log)\n",
        "# Вывод:\n",
        "# ['Добавлен элемент: 10', 'Добавлен элемент: 20', 'Удалён элемент: 10']\n",
        "```"
      ],
      "metadata": {
        "id": "7pHhD3s4SO6I"
      }
    },
    {
      "cell_type": "markdown",
      "source": [
        "## Ответы и разбор заданий\n",
        "\n",
        "---\n",
        "\n",
        "\n",
        "### Задача 1: Итератор для делителей числа\n",
        "\n",
        "**Решение:**"
      ],
      "metadata": {
        "id": "xZHbQdVVTS8s"
      }
    },
    {
      "cell_type": "code",
      "source": [
        "class Divisors:\n",
        "    def __init__(self, n):\n",
        "        self.n = n\n",
        "        self.current = 1\n",
        "\n",
        "    def __iter__(self):\n",
        "        return self\n",
        "\n",
        "    def __next__(self):\n",
        "        while self.current <= self.n:\n",
        "            if self.n % self.current == 0:\n",
        "                result = self.current\n",
        "                self.current += 1\n",
        "                return result\n",
        "            self.current += 1\n",
        "        raise StopIteration\n",
        "\n",
        "# Проверяем\n",
        "divisors = Divisors(12)\n",
        "for d in divisors:\n",
        "    print(d)\n",
        "# Вывод:\n",
        "# 1\n",
        "# 2\n",
        "# 3\n",
        "# 4\n",
        "# 6\n",
        "# 12"
      ],
      "metadata": {
        "colab": {
          "base_uri": "https://localhost:8080/"
        },
        "id": "aa5r_tDGTaHH",
        "outputId": "1922b71c-7ca4-474d-c24c-43a40beca7bb"
      },
      "execution_count": null,
      "outputs": [
        {
          "output_type": "stream",
          "name": "stdout",
          "text": [
            "1\n",
            "2\n",
            "3\n",
            "4\n",
            "6\n",
            "12\n"
          ]
        }
      ]
    },
    {
      "cell_type": "markdown",
      "source": [
        "**Разбор:**\n",
        "- Итератор начинает с `self.current = 1` и проверяет, является ли текущее число делителем.\n",
        "- Если делитель найден, возвращается результат, и итерация продолжается.\n",
        "- Когда все делители пройдены, вызывается `StopIteration`.\n",
        "\n",
        "---\n",
        "\n",
        "### Задача 2: Контекстный менеджер для записи лога\n",
        "\n",
        "**Решение:**"
      ],
      "metadata": {
        "id": "3meS5B5LTjiO"
      }
    },
    {
      "cell_type": "code",
      "source": [
        "class Logger:\n",
        "    def __init__(self, filename):\n",
        "        self.filename = filename\n",
        "        self.file = None\n",
        "\n",
        "    def __enter__(self):\n",
        "        self.file = open(self.filename, \"a\")\n",
        "        return self\n",
        "\n",
        "    def __exit__(self, exc_type, exc_value, traceback):\n",
        "        if self.file:\n",
        "            self.file.close()\n",
        "\n",
        "    def log(self, message):\n",
        "        self.file.write(message + \"\\n\")\n",
        "\n",
        "# Проверяем\n",
        "with Logger(\"log.txt\") as logger:\n",
        "    logger.log(\"Начало работы программы\")\n",
        "    logger.log(\"Произошла ошибка\")\n",
        "    logger.log(\"Завершение работы\")\n",
        "\n",
        "# Содержимое файла log.txt:\n",
        "# Начало работы программы\n",
        "# Произошла ошибка\n",
        "# Завершение работы"
      ],
      "metadata": {
        "id": "U93B8r2ATnEZ"
      },
      "execution_count": null,
      "outputs": []
    },
    {
      "cell_type": "markdown",
      "source": [
        "\n",
        "**Разбор:**\n",
        "- `__enter__` открывает файл в режиме добавления и возвращает объект логгера.\n",
        "- Метод `log` записывает сообщения в файл.\n",
        "- `__exit__` закрывает файл при выходе из блока `with`."
      ],
      "metadata": {
        "id": "AgwBioxrTl5S"
      }
    },
    {
      "cell_type": "markdown",
      "source": [
        "### Задача 3: Система вычисления площади\n",
        "\n",
        "**Решение:**"
      ],
      "metadata": {
        "id": "v7nSFa10TrDp"
      }
    },
    {
      "cell_type": "code",
      "source": [
        "from abc import ABC, abstractmethod\n",
        "from math import pi\n",
        "\n",
        "class Shape(ABC):\n",
        "    @abstractmethod\n",
        "    def area(self):\n",
        "        pass\n",
        "\n",
        "class Rectangle(Shape):\n",
        "    def __init__(self, width, height):\n",
        "        self.width = width\n",
        "        self.height = height\n",
        "\n",
        "    def area(self):\n",
        "        return self.width * self.height\n",
        "\n",
        "class Circle(Shape):\n",
        "    def __init__(self, radius):\n",
        "        self.radius = radius\n",
        "\n",
        "    def area(self):\n",
        "        return round(pi * self.radius**2, 2)\n",
        "\n",
        "class Triangle(Shape):\n",
        "    def __init__(self, base, height):\n",
        "        self.base = base\n",
        "        self.height = height\n",
        "\n",
        "    def area(self):\n",
        "        return 0.5 * self.base * self.height\n",
        "\n",
        "def print_area(shape: Shape):\n",
        "    print(f\"Площадь фигуры: {shape.area()}\")\n",
        "\n",
        "# Проверяем\n",
        "rectangle = Rectangle(10, 5)\n",
        "circle = Circle(7)\n",
        "triangle = Triangle(6, 4)\n",
        "\n",
        "print_area(rectangle)  # Вывод: Площадь фигуры: 50\n",
        "print_area(circle)     # Вывод: Площадь фигуры: 153.94\n",
        "print_area(triangle)   # Вывод: Площадь фигуры: 12"
      ],
      "metadata": {
        "id": "Mx8DTFQUUF6I"
      },
      "execution_count": null,
      "outputs": []
    },
    {
      "cell_type": "markdown",
      "source": [
        "### Разбор:\n",
        "\n",
        "#### 1. **Абстрактный класс `Shape`:**\n",
        "   - Использован модуль `abc` для создания абстрактного класса `Shape`.\n",
        "   - Метод `area` объявлен как абстрактный с помощью декоратора `@abstractmethod`. Это заставляет дочерние классы реализовывать этот метод.\n",
        "\n",
        "#### 2. **Реализация фигур:**\n",
        "   - Каждая из фигур представляет свой метод для расчета площади.\n",
        "\n",
        "#### 3. **Функция `print_area`:**\n",
        "   - Принимает объект фигуры, вызывая метод `area`, чтобы вывести её площадь.\n",
        "   - Работает с любыми объектами, реализующими интерфейс `Shape`, демонстрируя полиморфизм."
      ],
      "metadata": {
        "id": "WZ9jAFxtULU3"
      }
    },
    {
      "cell_type": "markdown",
      "source": [
        "---\n",
        "\n",
        "### Задача 4: Список с логированием\n",
        "\n",
        "**Решение:**"
      ],
      "metadata": {
        "id": "M8ZFvBvjUd2u"
      }
    },
    {
      "cell_type": "code",
      "source": [
        "class LoggedList(list):\n",
        "    def __init__(self):\n",
        "        super().__init__()\n",
        "        self.log = []\n",
        "\n",
        "    def append(self, item):\n",
        "        super().append(item)\n",
        "        self.log.append(f\"Добавлен элемент: {item}\")\n",
        "\n",
        "    def remove(self, item):\n",
        "        super().remove(item)\n",
        "        self.log.append(f\"Удалён элемент: {item}\")\n",
        "\n",
        "# Проверяем\n",
        "lst = LoggedList()\n",
        "lst.append(10)\n",
        "lst.append(20)\n",
        "lst.remove(10)\n",
        "\n",
        "print(lst)       # Вывод: [20]\n",
        "print(lst.log)"
      ],
      "metadata": {
        "colab": {
          "base_uri": "https://localhost:8080/"
        },
        "id": "YvBDLEgKUhI4",
        "outputId": "af4a5a84-5715-4e6d-f8fc-b4721a9aa89e"
      },
      "execution_count": null,
      "outputs": [
        {
          "metadata": {
            "tags": null
          },
          "name": "stdout",
          "output_type": "stream",
          "text": [
            "[20]\n",
            "['Добавлен элемент: 10', 'Добавлен элемент: 20', 'Удалён элемент: 10']\n"
          ]
        }
      ]
    },
    {
      "cell_type": "markdown",
      "source": [
        "\n",
        "**Разбор:**\n",
        "- Класс `LoggedList` наследуется от стандартного списка, переопределяя методы `append` и `remove`.\n",
        "- Каждая операция записывается в отдельный список `log`, что позволяет отслеживать изменения."
      ],
      "metadata": {
        "id": "TeF6vSanUggy"
      }
    },
    {
      "cell_type": "markdown",
      "source": [
        "# Заключение\n",
        "\n",
        "Итераторы, контекстные менеджеры и дандер-методы — это мощные инструменты, которые делают Python таким гибким и выразительным. На этом занятии мы увидели, как создавать собственные классы, которые ведут себя как стандартные структуры данных, управляют ресурсами или работают с логическими операциями.\n",
        "\n",
        "Практическое применение этих инструментов встречается повсюду: от обработки больших объёмов данных с итераторами до безопасного управления файлами через контекстные менеджеры. Полиморфизм и переопределение методов помогают писать код, который легко масштабируется и адаптируется к новым требованиям.\n",
        "\n",
        "Главное, что стоит вынести из этого занятия, — это понимание, как создавать классы, которые будут интуитивно понятны и удобны в использовании. Чем лучше вы освоите эти концепции, тем проще будет проектировать сложные, но элегантные решения."
      ],
      "metadata": {
        "id": "DYkRLC8uU4Qc"
      }
    }
  ]
}
