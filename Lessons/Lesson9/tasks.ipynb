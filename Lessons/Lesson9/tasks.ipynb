{
 "cells": [
  {
   "cell_type": "code",
   "id": "initial_id",
   "metadata": {
    "collapsed": true,
    "ExecuteTime": {
     "end_time": "2025-11-01T09:46:45.248565Z",
     "start_time": "2025-11-01T09:46:45.242895Z"
    }
   },
   "source": [
    "from Lessons.Lesson7.telephone_book import file\n",
    "\n",
    "'''\n",
    "Создайте класс Divisors, который возвращает все делители заданного числа с использованием итератора.\n",
    "\n",
    "Требования:\n",
    "\n",
    "Конструктор принимает одно число n.\n",
    "Реализуйте методы __iter__ и __next__.\n",
    "При итерации объект должен возвращать делители числа в порядке возрастания.\n",
    "'''\n",
    "\n",
    "\n",
    "class Divisors:\n",
    "    def __init__(self, n):\n",
    "        self.n = n\n",
    "        self.i = 1\n",
    "\n",
    "    def __iter__(self):\n",
    "        return self\n",
    "\n",
    "    def __next__(self):\n",
    "        for x in range(self.i, self.n + 1):\n",
    "            if self.n % self.i == 0:\n",
    "                self.i += 1\n",
    "                return self.i - 1\n",
    "            else:\n",
    "                self.i += 1\n",
    "        raise StopIteration\n",
    "\n",
    "\n",
    "divisors = Divisors(12)\n",
    "for d in divisors:\n",
    "    print(d)\n",
    "\n"
   ],
   "outputs": [
    {
     "name": "stdout",
     "output_type": "stream",
     "text": [
      "1\n",
      "2\n",
      "3\n",
      "4\n",
      "6\n",
      "12\n"
     ]
    }
   ],
   "execution_count": 10
  },
  {
   "metadata": {
    "ExecuteTime": {
     "end_time": "2025-11-01T10:14:01.215690Z",
     "start_time": "2025-11-01T10:14:01.209256Z"
    }
   },
   "cell_type": "code",
   "source": [
    "'''\n",
    "Создайте класс Logger, который работает как контекстный менеджер и записывает в файл сообщения, переданные в блоке with.\n",
    "\n",
    "Требования:\n",
    "\n",
    "Конструктор принимает имя файла.\n",
    "Реализуйте методы __enter__ и __exit__.\n",
    "В блоке with можно вызывать метод log(message) для записи сообщения в файл.\n",
    "'''\n",
    "\n",
    "\n",
    "class Logger:\n",
    "    def __init__(self, log_file):\n",
    "        self.file_name = log_file\n",
    "        self.log_file = None\n",
    "\n",
    "    def __enter__(self):\n",
    "        self.log_file = open(self.file_name, 'w', encoding='utf-8')\n",
    "        return self\n",
    "\n",
    "    def __exit__(self, exc_type, exc_val, exc_tb):\n",
    "        if self.log_file:\n",
    "            self.log_file.close()\n",
    "\n",
    "\n",
    "    def log(self, message):\n",
    "        self.log_file.write(message + '\\n')\n",
    "\n",
    "\n",
    "with Logger('log.txt') as logger:\n",
    "    logger.log('Начало работы программы')\n",
    "    logger.log('Произошла ошибка')\n",
    "    logger.log('Завершение работы')\n",
    "\n"
   ],
   "id": "f6495760d37a0864",
   "outputs": [],
   "execution_count": 16
  },
  {
   "metadata": {
    "ExecuteTime": {
     "end_time": "2025-11-01T10:49:23.339504Z",
     "start_time": "2025-11-01T10:49:23.327686Z"
    }
   },
   "cell_type": "code",
   "source": [
    "'''\n",
    "Создайте абстрактный класс Shape и несколько его наследников для вычисления площади различных фигур.\n",
    "\n",
    "Требования:\n",
    "\n",
    "Абстрактный класс Shape должен иметь абстрактный метод area.\n",
    "Реализуйте классы:\n",
    "Rectangle (прямоугольник) с атрибутами width и height.\n",
    "Circle (круг) с атрибутом radius.\n",
    "Triangle (треугольник) с атрибутами base и height.\n",
    "Каждый класс должен реализовать метод area, возвращающий площадь фигуры.\n",
    "Напишите функцию print_area(shape), которая принимает объект фигуры и выводит её площадь.\n",
    "'''\n",
    "from math import pi\n",
    "from abc import ABC, abstractmethod\n",
    "\n",
    "\n",
    "class Shape(ABC):\n",
    "    @abstractmethod\n",
    "    def area(self):\n",
    "        pass\n",
    "\n",
    "\n",
    "class Rectangle(Shape):\n",
    "    def __init__(self, base, height):\n",
    "        self.base = base\n",
    "        self.height = height\n",
    "\n",
    "    def area(self):\n",
    "        return self.base * self.height\n",
    "\n",
    "\n",
    "class Circle(Shape):\n",
    "    def __init__(self, radius):\n",
    "        self.radius = radius\n",
    "\n",
    "    def area(self):\n",
    "        return round(pi * self.radius * self.radius, 2)\n",
    "\n",
    "\n",
    "class Triangle(Shape):\n",
    "    def __init__(self, base, height):\n",
    "        self.base = base\n",
    "        self.height = height\n",
    "\n",
    "    def area(self):\n",
    "        return self.base * self.height / 2\n",
    "\n",
    "\n",
    "def print_area(shape):\n",
    "    print(shape.area())\n",
    "\n",
    "\n",
    "rectangle = Rectangle(10, 5)\n",
    "circle = Circle(7)\n",
    "triangle = Triangle(6, 4)\n",
    "\n",
    "print_area(rectangle)\n",
    "print_area(circle)\n",
    "print_area(triangle)\n",
    "\n"
   ],
   "id": "d476b243d6e0ff18",
   "outputs": [
    {
     "name": "stdout",
     "output_type": "stream",
     "text": [
      "50\n",
      "153.94\n",
      "12.0\n"
     ]
    }
   ],
   "execution_count": 18
  },
  {
   "metadata": {
    "ExecuteTime": {
     "end_time": "2025-11-01T12:24:42.700703Z",
     "start_time": "2025-11-01T12:24:42.694400Z"
    }
   },
   "cell_type": "code",
   "source": [
    "'''\n",
    "Создайте класс LoggedList, который наследуется от стандартного списка и ведёт логирование операций добавления и удаления элементов.\n",
    "\n",
    "Требования:\n",
    "\n",
    "Класс наследуется от list.\n",
    "Переопределите методы append и remove, чтобы они логировали изменения в список.\n",
    "Логи записываются в отдельный список log.\n",
    "'''\n",
    "\n",
    "\n",
    "class LoggedList(list):\n",
    "    def __init__(self):\n",
    "        super().__init__()\n",
    "        self.log_list = []\n",
    "\n",
    "    def append(self, value):\n",
    "        self.log_list.append('Добавлен элемент: ' + str(value))\n",
    "        super().append(value)\n",
    "\n",
    "    def remove(self, value):\n",
    "        self.log_list.append('Удалён элемент: ' + str(value))\n",
    "        super().remove(value)\n",
    "\n",
    "\n",
    "lst = LoggedList()\n",
    "lst.append(10)\n",
    "lst.append(20)\n",
    "lst.remove(10)\n",
    "\n",
    "print(lst)\n",
    "print(lst.log_list)"
   ],
   "id": "f392a53c2e694d18",
   "outputs": [
    {
     "name": "stdout",
     "output_type": "stream",
     "text": [
      "[20]\n",
      "['Добавлен элемент: 10', 'Добавлен элемент: 20', 'Удалён элемент: 10']\n"
     ]
    }
   ],
   "execution_count": 34
  },
  {
   "metadata": {},
   "cell_type": "code",
   "outputs": [],
   "execution_count": null,
   "source": "",
   "id": "66b6cbe22f35c1b3"
  }
 ],
 "metadata": {
  "kernelspec": {
   "display_name": "Python 3",
   "language": "python",
   "name": "python3"
  },
  "language_info": {
   "codemirror_mode": {
    "name": "ipython",
    "version": 2
   },
   "file_extension": ".py",
   "mimetype": "text/x-python",
   "name": "python",
   "nbconvert_exporter": "python",
   "pygments_lexer": "ipython2",
   "version": "2.7.6"
  }
 },
 "nbformat": 4,
 "nbformat_minor": 5
}
