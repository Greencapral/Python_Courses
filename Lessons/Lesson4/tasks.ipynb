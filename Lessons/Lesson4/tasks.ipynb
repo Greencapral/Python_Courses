{
 "cells": [
  {
   "cell_type": "code",
   "id": "initial_id",
   "metadata": {
    "collapsed": true,
    "ExecuteTime": {
     "end_time": "2025-10-10T12:58:21.127973Z",
     "start_time": "2025-10-10T12:58:21.123874Z"
    }
   },
   "source": [
    "new_list = list(range(1, 11))\n",
    "print(new_list)\n",
    "for item in new_list.copy():\n",
    "    new_list.remove(item) if not item % 2 else 1\n",
    "print(new_list)"
   ],
   "outputs": [
    {
     "name": "stdout",
     "output_type": "stream",
     "text": [
      "[1, 2, 3, 4, 5, 6, 7, 8, 9, 10]\n",
      "[1, 3, 5, 7, 9]\n"
     ]
    }
   ],
   "execution_count": 26
  },
  {
   "metadata": {
    "ExecuteTime": {
     "end_time": "2025-10-10T12:41:04.287230Z",
     "start_time": "2025-10-10T12:41:04.283484Z"
    }
   },
   "cell_type": "code",
   "source": [
    "words = [\"apple\", \"banana\", \"cherry\", \"date\", \"fig\", \"grape\"]\n",
    "new_words = words[:3]\n",
    "print(new_words)"
   ],
   "id": "9b1704edf047f868",
   "outputs": [
    {
     "name": "stdout",
     "output_type": "stream",
     "text": [
      "['apple', 'banana', 'cherry']\n"
     ]
    }
   ],
   "execution_count": 18
  },
  {
   "metadata": {
    "ExecuteTime": {
     "end_time": "2025-10-10T12:43:52.704265Z",
     "start_time": "2025-10-10T12:43:52.699912Z"
    }
   },
   "cell_type": "code",
   "source": [
    "numbers = [5, 3, 8, 6, 2, 9, 1]\n",
    "numbers.sort(reverse=True)\n",
    "print(numbers)"
   ],
   "id": "596d1b6bb468dfdc",
   "outputs": [
    {
     "name": "stdout",
     "output_type": "stream",
     "text": [
      "[9, 8, 6, 5, 3, 2, 1]\n"
     ]
    }
   ],
   "execution_count": 22
  },
  {
   "metadata": {
    "ExecuteTime": {
     "end_time": "2025-10-10T12:55:33.827416Z",
     "start_time": "2025-10-10T12:55:33.822996Z"
    }
   },
   "cell_type": "code",
   "source": [
    "names = [\"Alice\", \"Bob\", \"Charlie\", \"David\"]\n",
    "names[names.index(\"Charlie\")] = \"Eve\"\n",
    "print(names)"
   ],
   "id": "eb716402ef0709d3",
   "outputs": [
    {
     "name": "stdout",
     "output_type": "stream",
     "text": [
      "['Alice', 'Bob', 'Eve', 'David']\n"
     ]
    }
   ],
   "execution_count": 23
  },
  {
   "metadata": {
    "ExecuteTime": {
     "end_time": "2025-10-10T14:03:03.410924Z",
     "start_time": "2025-10-10T14:03:03.406786Z"
    }
   },
   "cell_type": "code",
   "source": [
    "cort = tuple(range(1, 6))\n",
    "print(cort)\n",
    "new_cort = tuple(list(cort) + [6])\n",
    "print(new_cort)"
   ],
   "id": "d2c1a24e5f235829",
   "outputs": [
    {
     "name": "stdout",
     "output_type": "stream",
     "text": [
      "(1, 2, 3, 4, 5)\n",
      "(1, 2, 3, 4, 5, 6)\n"
     ]
    }
   ],
   "execution_count": 20
  },
  {
   "metadata": {
    "ExecuteTime": {
     "end_time": "2025-10-10T14:04:21.060750Z",
     "start_time": "2025-10-10T14:04:21.056031Z"
    }
   },
   "cell_type": "code",
   "source": [
    "fruits = (\"apple\", \"banana\", \"cherry\", \"date\")\n",
    "new_fruits = fruits[:2]\n",
    "print(new_fruits)"
   ],
   "id": "308838c3bc057f76",
   "outputs": [
    {
     "name": "stdout",
     "output_type": "stream",
     "text": [
      "('apple', 'banana')\n"
     ]
    }
   ],
   "execution_count": 22
  },
  {
   "metadata": {
    "ExecuteTime": {
     "end_time": "2025-10-10T14:05:32.612709Z",
     "start_time": "2025-10-10T14:05:32.608724Z"
    }
   },
   "cell_type": "code",
   "source": [
    "info = (\"John\", \"Doe\", 30, \"New York\")\n",
    "name = info[0]\n",
    "surname = info[1]\n",
    "print(name, surname)\n"
   ],
   "id": "911910e0ed27691c",
   "outputs": [
    {
     "name": "stdout",
     "output_type": "stream",
     "text": [
      "John Doe\n"
     ]
    }
   ],
   "execution_count": 23
  },
  {
   "metadata": {
    "ExecuteTime": {
     "end_time": "2025-10-10T14:13:32.326938Z",
     "start_time": "2025-10-10T14:13:32.322737Z"
    }
   },
   "cell_type": "code",
   "source": [
    "data = (10, 20, 30, 40, 50)\n",
    "a, b, *others = data\n",
    "print(a, b, others)"
   ],
   "id": "fb4790a0f6bf4238",
   "outputs": [
    {
     "name": "stdout",
     "output_type": "stream",
     "text": [
      "10 20 [30, 40, 50]\n"
     ]
    }
   ],
   "execution_count": 29
  },
  {
   "metadata": {
    "ExecuteTime": {
     "end_time": "2025-10-10T14:19:36.400795Z",
     "start_time": "2025-10-10T14:19:36.396582Z"
    }
   },
   "cell_type": "code",
   "source": [
    "original_set = {1, 2, 3, 4, 5}\n",
    "print(original_set)\n",
    "original_set.add(6)\n",
    "print(original_set)\n",
    "original_set.discard(3)\n",
    "print(original_set)"
   ],
   "id": "2541b093cd8cd1d2",
   "outputs": [
    {
     "name": "stdout",
     "output_type": "stream",
     "text": [
      "{1, 2, 3, 4, 5}\n",
      "{1, 2, 3, 4, 5, 6}\n",
      "{1, 2, 4, 5, 6}\n"
     ]
    }
   ],
   "execution_count": 36
  },
  {
   "metadata": {
    "ExecuteTime": {
     "end_time": "2025-10-10T14:20:21.422609Z",
     "start_time": "2025-10-10T14:20:21.418914Z"
    }
   },
   "cell_type": "code",
   "source": [
    "set_a = {1, 2, 3, 4}\n",
    "set_b = {3, 4, 5, 6}\n",
    "print(set_a & set_b)"
   ],
   "id": "f35dfa38b14889bf",
   "outputs": [
    {
     "name": "stdout",
     "output_type": "stream",
     "text": [
      "{3, 4}\n"
     ]
    }
   ],
   "execution_count": 38
  },
  {
   "metadata": {
    "ExecuteTime": {
     "end_time": "2025-10-10T14:20:56.701350Z",
     "start_time": "2025-10-10T14:20:56.697403Z"
    }
   },
   "cell_type": "code",
   "source": [
    "set_a = {10, 20, 30}\n",
    "set_b = {20, 40, 50}\n",
    "print(set_a - set_b)"
   ],
   "id": "bd392a6cdb845e9",
   "outputs": [
    {
     "name": "stdout",
     "output_type": "stream",
     "text": [
      "{10, 30}\n"
     ]
    }
   ],
   "execution_count": 39
  },
  {
   "metadata": {
    "ExecuteTime": {
     "end_time": "2025-10-10T14:21:33.891362Z",
     "start_time": "2025-10-10T14:21:33.887582Z"
    }
   },
   "cell_type": "code",
   "source": [
    "numbers = {5, 10, 15, 20}\n",
    "print(numbers)\n",
    "numbers.clear()\n",
    "print(numbers)"
   ],
   "id": "b72c7653900c2d39",
   "outputs": [
    {
     "name": "stdout",
     "output_type": "stream",
     "text": [
      "{10, 20, 5, 15}\n",
      "set()\n"
     ]
    }
   ],
   "execution_count": 40
  },
  {
   "metadata": {
    "ExecuteTime": {
     "end_time": "2025-10-13T08:31:36.992266Z",
     "start_time": "2025-10-13T08:31:36.978872Z"
    }
   },
   "cell_type": "code",
   "source": [
    "dct = {\"Alice\": 25, \"Bob\": 30, \"Charlie\": 35}\n",
    "dct[\"David\"] = 40\n",
    "print(dct)\n"
   ],
   "id": "9d885c582ef87561",
   "outputs": [
    {
     "name": "stdout",
     "output_type": "stream",
     "text": [
      "{'Alice': 25, 'Bob': 30, 'Charlie': 35, 'David': 40}\n"
     ]
    }
   ],
   "execution_count": 44
  },
  {
   "metadata": {
    "ExecuteTime": {
     "end_time": "2025-10-13T08:33:26.671594Z",
     "start_time": "2025-10-13T08:33:26.665168Z"
    }
   },
   "cell_type": "code",
   "source": [
    "person = {\"name\": \"Alice\", \"age\": 25, \"city\": \"New York\"}\n",
    "person['age'] = 26\n",
    "person.pop('city')\n",
    "print(person)\n"
   ],
   "id": "2ac64463249f37fd",
   "outputs": [
    {
     "name": "stdout",
     "output_type": "stream",
     "text": [
      "{'name': 'Alice', 'age': 26}\n"
     ]
    }
   ],
   "execution_count": 45
  },
  {
   "metadata": {
    "ExecuteTime": {
     "end_time": "2025-10-13T08:34:24.421383Z",
     "start_time": "2025-10-13T08:34:24.417298Z"
    }
   },
   "cell_type": "code",
   "source": [
    "grades = {\"Math\": 90, \"Science\": 85, \"English\": 88}\n",
    "print(list(grades.keys()))"
   ],
   "id": "4f5a74de0ad539ca",
   "outputs": [
    {
     "name": "stdout",
     "output_type": "stream",
     "text": [
      "['Math', 'Science', 'English']\n"
     ]
    }
   ],
   "execution_count": 48
  },
  {
   "metadata": {
    "ExecuteTime": {
     "end_time": "2025-10-13T08:36:43.914523Z",
     "start_time": "2025-10-13T08:36:43.909050Z"
    }
   },
   "cell_type": "code",
   "source": [
    "contacts = {\"John\": \"123-4567\", \"Jane\": \"987-6543\"}\n",
    "print(contacts.get(\"Jane\"), \"; \", contacts.get(\"Jake\", \"Not found\"))"
   ],
   "id": "55ce44669fa4de8c",
   "outputs": [
    {
     "name": "stdout",
     "output_type": "stream",
     "text": [
      "987-6543 ;  Not found\n"
     ]
    }
   ],
   "execution_count": 51
  },
  {
   "metadata": {
    "ExecuteTime": {
     "end_time": "2025-10-13T19:24:49.215883Z",
     "start_time": "2025-10-13T19:24:45.346454Z"
    }
   },
   "cell_type": "code",
   "source": [
    "from timeit import timeit\n",
    "\n",
    "for count in [10, 100, 1000, 10000, 100000]:\n",
    "    setup_str = f\"\"\"from random import randint; n = {count}; numbers_set = set(range(n));numbers_list = list(range(n))\"\"\"\n",
    "    stmt_set = \"randint(0, n-1) in numbers_set\"\n",
    "    stmt_list = \"randint(0, n-1) in numbers_list\"\n",
    "    t_set = timeit(stmt_set, setup=setup_str, number=10000)\n",
    "    t_list = timeit(stmt_list, setup=setup_str, number=10000)\n",
    "    print(f\"{count: >6}: {t_set:e} vs. {t_list:e}\")"
   ],
   "id": "e1ca3558dbd389fc",
   "outputs": [
    {
     "name": "stdout",
     "output_type": "stream",
     "text": [
      "    10: 7.887100e-03 vs. 6.241200e-03\n",
      "   100: 5.885200e-03 vs. 1.033040e-02\n",
      "  1000: 4.189900e-03 vs. 4.497010e-02\n",
      " 10000: 6.265800e-03 vs. 3.599883e-01\n",
      "100000: 6.142800e-03 vs. 3.396768e+00\n"
     ]
    }
   ],
   "execution_count": 16
  },
  {
   "metadata": {
    "ExecuteTime": {
     "end_time": "2025-10-13T19:23:24.953441Z",
     "start_time": "2025-10-13T19:23:24.949070Z"
    }
   },
   "cell_type": "code",
   "source": [
    "for i in range(10):\n",
    "    print(' ' * (10 - i), end='')\n",
    "    print('*' * i * 2)"
   ],
   "id": "ca3a3d83a56a8986",
   "outputs": [
    {
     "name": "stdout",
     "output_type": "stream",
     "text": [
      "          \n",
      "         **\n",
      "        ****\n",
      "       ******\n",
      "      ********\n",
      "     **********\n",
      "    ************\n",
      "   **************\n",
      "  ****************\n",
      " ******************\n"
     ]
    }
   ],
   "execution_count": 12
  },
  {
   "metadata": {
    "ExecuteTime": {
     "end_time": "2025-10-13T19:22:05.817337Z",
     "start_time": "2025-10-13T19:22:05.814018Z"
    }
   },
   "cell_type": "code",
   "source": [
    "print('ab', end='')\n",
    "print('cd')"
   ],
   "id": "a17b7c2a4f6cfb41",
   "outputs": [
    {
     "name": "stdout",
     "output_type": "stream",
     "text": [
      "abcd\n"
     ]
    }
   ],
   "execution_count": 9
  },
  {
   "metadata": {
    "ExecuteTime": {
     "end_time": "2025-10-13T19:30:41.232094Z",
     "start_time": "2025-10-13T19:30:41.204963Z"
    }
   },
   "cell_type": "code",
   "source": [
    "k = 1\n",
    "for i in range(1, 10):\n",
    "    k = k * 10\n",
    "    print(f'{k:d <10},{k:d >10}')"
   ],
   "id": "445c17ba24fa06d9",
   "outputs": [
    {
     "ename": "ValueError",
     "evalue": "Invalid format specifier 'd <10' for object of type 'int'",
     "output_type": "error",
     "traceback": [
      "\u001B[31m---------------------------------------------------------------------------\u001B[39m",
      "\u001B[31mValueError\u001B[39m                                Traceback (most recent call last)",
      "\u001B[36mCell\u001B[39m\u001B[36m \u001B[39m\u001B[32mIn[32]\u001B[39m\u001B[32m, line 4\u001B[39m\n\u001B[32m      2\u001B[39m \u001B[38;5;28;01mfor\u001B[39;00m i \u001B[38;5;129;01min\u001B[39;00m \u001B[38;5;28mrange\u001B[39m(\u001B[32m1\u001B[39m,\u001B[32m10\u001B[39m):\n\u001B[32m      3\u001B[39m     k=k*\u001B[32m10\u001B[39m\n\u001B[32m----> \u001B[39m\u001B[32m4\u001B[39m     \u001B[38;5;28mprint\u001B[39m(\u001B[33mf\u001B[39m\u001B[33m'\u001B[39m\u001B[38;5;132;01m{\u001B[39;00mk\u001B[38;5;132;01m:\u001B[39;00m\u001B[33md <10\u001B[39m\u001B[38;5;132;01m}\u001B[39;00m\u001B[33m,\u001B[39m\u001B[38;5;132;01m{\u001B[39;00mk\u001B[38;5;132;01m:\u001B[39;00m\u001B[33md >10\u001B[39m\u001B[38;5;132;01m}\u001B[39;00m\u001B[33m'\u001B[39m)\n",
      "\u001B[31mValueError\u001B[39m: Invalid format specifier 'd <10' for object of type 'int'"
     ]
    }
   ],
   "execution_count": 32
  },
  {
   "metadata": {
    "ExecuteTime": {
     "end_time": "2025-10-19T17:33:11.109249Z",
     "start_time": "2025-10-19T17:33:11.103458Z"
    }
   },
   "cell_type": "code",
   "source": [
    "s1 = [1, 2, 3, 4, 5, 6]\n",
    "s2 = ['a', 'b', 'c', 'd', 'e', 'f']\n",
    "s3 = ['b', 'c', 'd', 'f']\n",
    "\n",
    "print(list(zip(s1, s2,s3)))\n",
    "\n"
   ],
   "id": "52befb53b92c8f2c",
   "outputs": [
    {
     "name": "stdout",
     "output_type": "stream",
     "text": [
      "[(1, 'a', 'b'), (2, 'b', 'c'), (3, 'c', 'd'), (4, 'd', 'f')]\n"
     ]
    }
   ],
   "execution_count": 11
  }
 ],
 "metadata": {
  "kernelspec": {
   "display_name": "Python 3",
   "language": "python",
   "name": "python3"
  },
  "language_info": {
   "codemirror_mode": {
    "name": "ipython",
    "version": 2
   },
   "file_extension": ".py",
   "mimetype": "text/x-python",
   "name": "python",
   "nbconvert_exporter": "python",
   "pygments_lexer": "ipython2",
   "version": "2.7.6"
  }
 },
 "nbformat": 4,
 "nbformat_minor": 5
}
