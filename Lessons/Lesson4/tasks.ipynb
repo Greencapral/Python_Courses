{
 "cells": [
  {
   "cell_type": "code",
   "id": "initial_id",
   "metadata": {
    "collapsed": true,
    "ExecuteTime": {
     "end_time": "2025-10-10T12:58:21.127973Z",
     "start_time": "2025-10-10T12:58:21.123874Z"
    }
   },
   "source": [
    "new_list = list(range(1, 11))\n",
    "print(new_list)\n",
    "for item in new_list.copy():\n",
    "    new_list.remove(item) if not item % 2 else 1\n",
    "print(new_list)"
   ],
   "outputs": [
    {
     "name": "stdout",
     "output_type": "stream",
     "text": [
      "[1, 2, 3, 4, 5, 6, 7, 8, 9, 10]\n",
      "[1, 3, 5, 7, 9]\n"
     ]
    }
   ],
   "execution_count": 26
  },
  {
   "metadata": {
    "ExecuteTime": {
     "end_time": "2025-10-10T12:41:04.287230Z",
     "start_time": "2025-10-10T12:41:04.283484Z"
    }
   },
   "cell_type": "code",
   "source": [
    "words = [\"apple\", \"banana\", \"cherry\", \"date\", \"fig\", \"grape\"]\n",
    "new_words = words[:3]\n",
    "print(new_words)"
   ],
   "id": "9b1704edf047f868",
   "outputs": [
    {
     "name": "stdout",
     "output_type": "stream",
     "text": [
      "['apple', 'banana', 'cherry']\n"
     ]
    }
   ],
   "execution_count": 18
  },
  {
   "metadata": {
    "ExecuteTime": {
     "end_time": "2025-10-10T12:43:52.704265Z",
     "start_time": "2025-10-10T12:43:52.699912Z"
    }
   },
   "cell_type": "code",
   "source": [
    "numbers = [5, 3, 8, 6, 2, 9, 1]\n",
    "numbers.sort(reverse=True)\n",
    "print(numbers)"
   ],
   "id": "596d1b6bb468dfdc",
   "outputs": [
    {
     "name": "stdout",
     "output_type": "stream",
     "text": [
      "[9, 8, 6, 5, 3, 2, 1]\n"
     ]
    }
   ],
   "execution_count": 22
  },
  {
   "metadata": {
    "ExecuteTime": {
     "end_time": "2025-10-10T12:55:33.827416Z",
     "start_time": "2025-10-10T12:55:33.822996Z"
    }
   },
   "cell_type": "code",
   "source": [
    "names = [\"Alice\", \"Bob\", \"Charlie\", \"David\"]\n",
    "names[names.index(\"Charlie\")] = \"Eve\"\n",
    "print(names)"
   ],
   "id": "eb716402ef0709d3",
   "outputs": [
    {
     "name": "stdout",
     "output_type": "stream",
     "text": [
      "['Alice', 'Bob', 'Eve', 'David']\n"
     ]
    }
   ],
   "execution_count": 23
  },
  {
   "metadata": {
    "ExecuteTime": {
     "end_time": "2025-10-10T14:03:03.410924Z",
     "start_time": "2025-10-10T14:03:03.406786Z"
    }
   },
   "cell_type": "code",
   "source": [
    "cort = tuple(range(1,6))\n",
    "print(cort)\n",
    "new_cort = tuple(list(cort) + [6])\n",
    "print(new_cort)"
   ],
   "id": "d2c1a24e5f235829",
   "outputs": [
    {
     "name": "stdout",
     "output_type": "stream",
     "text": [
      "(1, 2, 3, 4, 5)\n",
      "(1, 2, 3, 4, 5, 6)\n"
     ]
    }
   ],
   "execution_count": 20
  },
  {
   "metadata": {
    "ExecuteTime": {
     "end_time": "2025-10-10T14:04:21.060750Z",
     "start_time": "2025-10-10T14:04:21.056031Z"
    }
   },
   "cell_type": "code",
   "source": [
    "fruits = (\"apple\", \"banana\", \"cherry\", \"date\")\n",
    "new_fruits = fruits[:2]\n",
    "print(new_fruits)"
   ],
   "id": "308838c3bc057f76",
   "outputs": [
    {
     "name": "stdout",
     "output_type": "stream",
     "text": [
      "('apple', 'banana')\n"
     ]
    }
   ],
   "execution_count": 22
  },
  {
   "metadata": {
    "ExecuteTime": {
     "end_time": "2025-10-10T14:05:32.612709Z",
     "start_time": "2025-10-10T14:05:32.608724Z"
    }
   },
   "cell_type": "code",
   "source": [
    "info = (\"John\", \"Doe\", 30, \"New York\")\n",
    "name = info[0]\n",
    "surname = info[1]\n",
    "print(name, surname)\n"
   ],
   "id": "911910e0ed27691c",
   "outputs": [
    {
     "name": "stdout",
     "output_type": "stream",
     "text": [
      "John Doe\n"
     ]
    }
   ],
   "execution_count": 23
  },
  {
   "metadata": {
    "ExecuteTime": {
     "end_time": "2025-10-10T14:13:32.326938Z",
     "start_time": "2025-10-10T14:13:32.322737Z"
    }
   },
   "cell_type": "code",
   "source": [
    "data = (10, 20, 30, 40, 50)\n",
    "a, b, *others  = data\n",
    "print(a, b, others)"
   ],
   "id": "fb4790a0f6bf4238",
   "outputs": [
    {
     "name": "stdout",
     "output_type": "stream",
     "text": [
      "10 20 [30, 40, 50]\n"
     ]
    }
   ],
   "execution_count": 29
  },
  {
   "metadata": {
    "ExecuteTime": {
     "end_time": "2025-10-10T14:19:36.400795Z",
     "start_time": "2025-10-10T14:19:36.396582Z"
    }
   },
   "cell_type": "code",
   "source": [
    "original_set = {1,2,3,4,5}\n",
    "print(original_set)\n",
    "original_set.add(6)\n",
    "print(original_set)\n",
    "original_set.discard(3)\n",
    "print(original_set)"
   ],
   "id": "2541b093cd8cd1d2",
   "outputs": [
    {
     "name": "stdout",
     "output_type": "stream",
     "text": [
      "{1, 2, 3, 4, 5}\n",
      "{1, 2, 3, 4, 5, 6}\n",
      "{1, 2, 4, 5, 6}\n"
     ]
    }
   ],
   "execution_count": 36
  },
  {
   "metadata": {
    "ExecuteTime": {
     "end_time": "2025-10-10T14:20:21.422609Z",
     "start_time": "2025-10-10T14:20:21.418914Z"
    }
   },
   "cell_type": "code",
   "source": [
    "set_a = {1, 2, 3, 4}\n",
    "set_b = {3, 4, 5, 6}\n",
    "print(set_a & set_b)"
   ],
   "id": "f35dfa38b14889bf",
   "outputs": [
    {
     "name": "stdout",
     "output_type": "stream",
     "text": [
      "{3, 4}\n"
     ]
    }
   ],
   "execution_count": 38
  },
  {
   "metadata": {
    "ExecuteTime": {
     "end_time": "2025-10-10T14:20:56.701350Z",
     "start_time": "2025-10-10T14:20:56.697403Z"
    }
   },
   "cell_type": "code",
   "source": [
    "set_a = {10, 20, 30}\n",
    "set_b = {20, 40, 50}\n",
    "print(set_a - set_b)"
   ],
   "id": "bd392a6cdb845e9",
   "outputs": [
    {
     "name": "stdout",
     "output_type": "stream",
     "text": [
      "{10, 30}\n"
     ]
    }
   ],
   "execution_count": 39
  },
  {
   "metadata": {
    "ExecuteTime": {
     "end_time": "2025-10-10T14:21:33.891362Z",
     "start_time": "2025-10-10T14:21:33.887582Z"
    }
   },
   "cell_type": "code",
   "source": [
    "numbers = {5, 10, 15, 20}\n",
    "print(numbers)\n",
    "numbers.clear()\n",
    "print(numbers)"
   ],
   "id": "b72c7653900c2d39",
   "outputs": [
    {
     "name": "stdout",
     "output_type": "stream",
     "text": [
      "{10, 20, 5, 15}\n",
      "set()\n"
     ]
    }
   ],
   "execution_count": 40
  }
 ],
 "metadata": {
  "kernelspec": {
   "display_name": "Python 3",
   "language": "python",
   "name": "python3"
  },
  "language_info": {
   "codemirror_mode": {
    "name": "ipython",
    "version": 2
   },
   "file_extension": ".py",
   "mimetype": "text/x-python",
   "name": "python",
   "nbconvert_exporter": "python",
   "pygments_lexer": "ipython2",
   "version": "2.7.6"
  }
 },
 "nbformat": 4,
 "nbformat_minor": 5
}
