{
 "cells": [
  {
   "cell_type": "code",
   "id": "initial_id",
   "metadata": {
    "collapsed": true,
    "ExecuteTime": {
     "end_time": "2025-10-10T12:58:21.127973Z",
     "start_time": "2025-10-10T12:58:21.123874Z"
    }
   },
   "source": [
    "new_list = list(range(1, 11))\n",
    "print(new_list)\n",
    "for item in new_list.copy():\n",
    "    new_list.remove(item) if not item % 2 else 1\n",
    "print(new_list)"
   ],
   "outputs": [
    {
     "name": "stdout",
     "output_type": "stream",
     "text": [
      "[1, 2, 3, 4, 5, 6, 7, 8, 9, 10]\n",
      "[1, 3, 5, 7, 9]\n"
     ]
    }
   ],
   "execution_count": 26
  },
  {
   "metadata": {
    "ExecuteTime": {
     "end_time": "2025-10-10T12:41:04.287230Z",
     "start_time": "2025-10-10T12:41:04.283484Z"
    }
   },
   "cell_type": "code",
   "source": [
    "words = [\"apple\", \"banana\", \"cherry\", \"date\", \"fig\", \"grape\"]\n",
    "new_words = words[:3]\n",
    "print(new_words)"
   ],
   "id": "9b1704edf047f868",
   "outputs": [
    {
     "name": "stdout",
     "output_type": "stream",
     "text": [
      "['apple', 'banana', 'cherry']\n"
     ]
    }
   ],
   "execution_count": 18
  },
  {
   "metadata": {
    "ExecuteTime": {
     "end_time": "2025-10-10T12:43:52.704265Z",
     "start_time": "2025-10-10T12:43:52.699912Z"
    }
   },
   "cell_type": "code",
   "source": [
    "numbers = [5, 3, 8, 6, 2, 9, 1]\n",
    "numbers.sort(reverse=True)\n",
    "print(numbers)"
   ],
   "id": "596d1b6bb468dfdc",
   "outputs": [
    {
     "name": "stdout",
     "output_type": "stream",
     "text": [
      "[9, 8, 6, 5, 3, 2, 1]\n"
     ]
    }
   ],
   "execution_count": 22
  },
  {
   "metadata": {
    "ExecuteTime": {
     "end_time": "2025-10-10T12:55:33.827416Z",
     "start_time": "2025-10-10T12:55:33.822996Z"
    }
   },
   "cell_type": "code",
   "source": [
    "names = [\"Alice\", \"Bob\", \"Charlie\", \"David\"]\n",
    "names[names.index(\"Charlie\")] = \"Eve\"\n",
    "print(names)"
   ],
   "id": "eb716402ef0709d3",
   "outputs": [
    {
     "name": "stdout",
     "output_type": "stream",
     "text": [
      "['Alice', 'Bob', 'Eve', 'David']\n"
     ]
    }
   ],
   "execution_count": 23
  }
 ],
 "metadata": {
  "kernelspec": {
   "display_name": "Python 3",
   "language": "python",
   "name": "python3"
  },
  "language_info": {
   "codemirror_mode": {
    "name": "ipython",
    "version": 2
   },
   "file_extension": ".py",
   "mimetype": "text/x-python",
   "name": "python",
   "nbconvert_exporter": "python",
   "pygments_lexer": "ipython2",
   "version": "2.7.6"
  }
 },
 "nbformat": 4,
 "nbformat_minor": 5
}
