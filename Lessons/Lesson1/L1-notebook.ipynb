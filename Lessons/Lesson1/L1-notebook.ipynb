{
 "cells": [
  {
   "cell_type": "code",
   "id": "initial_id",
   "metadata": {
    "collapsed": true,
    "ExecuteTime": {
     "end_time": "2025-09-30T08:20:37.648145Z",
     "start_time": "2025-09-30T08:20:37.642025Z"
    }
   },
   "source": "print('Hello World')",
   "outputs": [
    {
     "name": "stdout",
     "output_type": "stream",
     "text": [
      "Hello World\n"
     ]
    }
   ],
   "execution_count": 1
  },
  {
   "metadata": {
    "ExecuteTime": {
     "end_time": "2025-09-30T09:05:43.149908Z",
     "start_time": "2025-09-30T09:05:43.143073Z"
    }
   },
   "cell_type": "code",
   "source": [
    "test = '12345'\n",
    "key = 1\n",
    "list(map(lambda test, 1: chr(ord(test) + key), test))\n"
   ],
   "id": "82e5b6f378746021",
   "outputs": [
    {
     "ename": "SyntaxError",
     "evalue": "invalid syntax (2542033832.py, line 3)",
     "output_type": "error",
     "traceback": [
      "  \u001B[36mCell\u001B[39m\u001B[36m \u001B[39m\u001B[32mIn[9]\u001B[39m\u001B[32m, line 3\u001B[39m\n\u001B[31m    \u001B[39m\u001B[31mlist(map(lambda test, 1: chr(ord(test) + key), test))\u001B[39m\n                          ^\n\u001B[31mSyntaxError\u001B[39m\u001B[31m:\u001B[39m invalid syntax\n"
     ]
    }
   ],
   "execution_count": 9
  },
  {
   "metadata": {},
   "cell_type": "code",
   "outputs": [],
   "execution_count": null,
   "source": "",
   "id": "3acfdb2af43e6a37"
  }
 ],
 "metadata": {
  "kernelspec": {
   "display_name": "Python 3",
   "language": "python",
   "name": "python3"
  },
  "language_info": {
   "codemirror_mode": {
    "name": "ipython",
    "version": 2
   },
   "file_extension": ".py",
   "mimetype": "text/x-python",
   "name": "python",
   "nbconvert_exporter": "python",
   "pygments_lexer": "ipython2",
   "version": "2.7.6"
  }
 },
 "nbformat": 4,
 "nbformat_minor": 5
}
