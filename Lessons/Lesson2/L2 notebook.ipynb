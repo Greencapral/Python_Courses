{
 "cells": [
  {
   "metadata": {
    "ExecuteTime": {
     "end_time": "2025-09-30T18:15:02.025685Z",
     "start_time": "2025-09-30T18:15:02.021886Z"
    }
   },
   "cell_type": "code",
   "source": [
    "s='15'\n",
    "b=15\n",
    "int = 18\n",
    "print(type(s),type(b))"
   ],
   "id": "840ada37b5c8fd7a",
   "outputs": [
    {
     "name": "stdout",
     "output_type": "stream",
     "text": [
      "<class 'str'> <class 'int'>\n"
     ]
    }
   ],
   "execution_count": 16
  },
  {
   "metadata": {
    "ExecuteTime": {
     "end_time": "2025-09-30T18:24:41.234153Z",
     "start_time": "2025-09-30T18:24:22.053283Z"
    }
   },
   "cell_type": "code",
   "source": [
    "a, b, c = map(int,input('Введите три числа для расчета среднего арифметического:').split(','))\n",
    "print((a+b+c)/3)"
   ],
   "id": "1419290bfff7a34e",
   "outputs": [
    {
     "ename": "TypeError",
     "evalue": "'int' object is not callable",
     "output_type": "error",
     "traceback": [
      "\u001B[31m---------------------------------------------------------------------------\u001B[39m",
      "\u001B[31mTypeError\u001B[39m                                 Traceback (most recent call last)",
      "\u001B[36mCell\u001B[39m\u001B[36m \u001B[39m\u001B[32mIn[24]\u001B[39m\u001B[32m, line 1\u001B[39m\n\u001B[32m----> \u001B[39m\u001B[32m1\u001B[39m a, b, c = \u001B[38;5;28mmap\u001B[39m(\u001B[38;5;28mint\u001B[39m,\u001B[38;5;28minput\u001B[39m(\u001B[33m'\u001B[39m\u001B[33mВведите три числа для расчета среднего арифметического:\u001B[39m\u001B[33m'\u001B[39m).split(\u001B[33m'\u001B[39m\u001B[33m,\u001B[39m\u001B[33m'\u001B[39m))\n\u001B[32m      2\u001B[39m \u001B[38;5;28mprint\u001B[39m((a+b+c)/\u001B[32m3\u001B[39m)\n",
      "\u001B[31mTypeError\u001B[39m: 'int' object is not callable"
     ]
    }
   ],
   "execution_count": 24
  }
 ],
 "metadata": {
  "kernelspec": {
   "display_name": "Python 3",
   "language": "python",
   "name": "python3"
  },
  "language_info": {
   "codemirror_mode": {
    "name": "ipython",
    "version": 2
   },
   "file_extension": ".py",
   "mimetype": "text/x-python",
   "name": "python",
   "nbconvert_exporter": "python",
   "pygments_lexer": "ipython2",
   "version": "2.7.6"
  }
 },
 "nbformat": 4,
 "nbformat_minor": 5
}
