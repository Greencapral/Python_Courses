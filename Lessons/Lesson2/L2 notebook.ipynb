{
 "cells": [
  {
   "metadata": {
    "ExecuteTime": {
     "end_time": "2025-09-30T18:15:02.025685Z",
     "start_time": "2025-09-30T18:15:02.021886Z"
    }
   },
   "cell_type": "code",
   "source": [
    "s = '15'\n",
    "b = 15\n",
    "int = 18\n",
    "print(type(s), type(b))"
   ],
   "id": "840ada37b5c8fd7a",
   "outputs": [
    {
     "name": "stdout",
     "output_type": "stream",
     "text": [
      "<class 'str'> <class 'int'>\n"
     ]
    }
   ],
   "execution_count": 16
  },
  {
   "metadata": {
    "ExecuteTime": {
     "end_time": "2025-10-06T18:01:17.809034Z",
     "start_time": "2025-10-06T18:01:15.653385Z"
    }
   },
   "cell_type": "code",
   "source": [
    "a, b, c = map(int, input('Введите три числа для расчета среднего арифметического:').split(','))\n",
    "print((a + b + c) / 3)"
   ],
   "id": "1419290bfff7a34e",
   "outputs": [
    {
     "ename": "KeyboardInterrupt",
     "evalue": "Interrupted by user",
     "output_type": "error",
     "traceback": [
      "\u001B[31m---------------------------------------------------------------------------\u001B[39m",
      "\u001B[31mKeyboardInterrupt\u001B[39m                         Traceback (most recent call last)",
      "\u001B[36mCell\u001B[39m\u001B[36m \u001B[39m\u001B[32mIn[1]\u001B[39m\u001B[32m, line 1\u001B[39m\n\u001B[32m----> \u001B[39m\u001B[32m1\u001B[39m a, b, c = \u001B[38;5;28mmap\u001B[39m(\u001B[38;5;28mint\u001B[39m,\u001B[38;5;28;43minput\u001B[39;49m\u001B[43m(\u001B[49m\u001B[33;43m'\u001B[39;49m\u001B[33;43mВведите три числа для расчета среднего арифметического:\u001B[39;49m\u001B[33;43m'\u001B[39;49m\u001B[43m)\u001B[49m.split(\u001B[33m'\u001B[39m\u001B[33m,\u001B[39m\u001B[33m'\u001B[39m))\n\u001B[32m      2\u001B[39m \u001B[38;5;28mprint\u001B[39m((a+b+c)/\u001B[32m3\u001B[39m)\n",
      "\u001B[36mFile \u001B[39m\u001B[32m~\\AppData\\Roaming\\Python\\Python313\\site-packages\\ipykernel\\kernelbase.py:1275\u001B[39m, in \u001B[36mKernel.raw_input\u001B[39m\u001B[34m(self, prompt)\u001B[39m\n\u001B[32m   1273\u001B[39m     msg = \u001B[33m\"\u001B[39m\u001B[33mraw_input was called, but this frontend does not support input requests.\u001B[39m\u001B[33m\"\u001B[39m\n\u001B[32m   1274\u001B[39m     \u001B[38;5;28;01mraise\u001B[39;00m StdinNotImplementedError(msg)\n\u001B[32m-> \u001B[39m\u001B[32m1275\u001B[39m \u001B[38;5;28;01mreturn\u001B[39;00m \u001B[38;5;28;43mself\u001B[39;49m\u001B[43m.\u001B[49m\u001B[43m_input_request\u001B[49m\u001B[43m(\u001B[49m\n\u001B[32m   1276\u001B[39m \u001B[43m    \u001B[49m\u001B[38;5;28;43mstr\u001B[39;49m\u001B[43m(\u001B[49m\u001B[43mprompt\u001B[49m\u001B[43m)\u001B[49m\u001B[43m,\u001B[49m\n\u001B[32m   1277\u001B[39m \u001B[43m    \u001B[49m\u001B[38;5;28;43mself\u001B[39;49m\u001B[43m.\u001B[49m\u001B[43m_parent_ident\u001B[49m\u001B[43m[\u001B[49m\u001B[33;43m\"\u001B[39;49m\u001B[33;43mshell\u001B[39;49m\u001B[33;43m\"\u001B[39;49m\u001B[43m]\u001B[49m\u001B[43m,\u001B[49m\n\u001B[32m   1278\u001B[39m \u001B[43m    \u001B[49m\u001B[38;5;28;43mself\u001B[39;49m\u001B[43m.\u001B[49m\u001B[43mget_parent\u001B[49m\u001B[43m(\u001B[49m\u001B[33;43m\"\u001B[39;49m\u001B[33;43mshell\u001B[39;49m\u001B[33;43m\"\u001B[39;49m\u001B[43m)\u001B[49m\u001B[43m,\u001B[49m\n\u001B[32m   1279\u001B[39m \u001B[43m    \u001B[49m\u001B[43mpassword\u001B[49m\u001B[43m=\u001B[49m\u001B[38;5;28;43;01mFalse\u001B[39;49;00m\u001B[43m,\u001B[49m\n\u001B[32m   1280\u001B[39m \u001B[43m\u001B[49m\u001B[43m)\u001B[49m\n",
      "\u001B[36mFile \u001B[39m\u001B[32m~\\AppData\\Roaming\\Python\\Python313\\site-packages\\ipykernel\\kernelbase.py:1320\u001B[39m, in \u001B[36mKernel._input_request\u001B[39m\u001B[34m(self, prompt, ident, parent, password)\u001B[39m\n\u001B[32m   1317\u001B[39m \u001B[38;5;28;01mexcept\u001B[39;00m \u001B[38;5;167;01mKeyboardInterrupt\u001B[39;00m:\n\u001B[32m   1318\u001B[39m     \u001B[38;5;66;03m# re-raise KeyboardInterrupt, to truncate traceback\u001B[39;00m\n\u001B[32m   1319\u001B[39m     msg = \u001B[33m\"\u001B[39m\u001B[33mInterrupted by user\u001B[39m\u001B[33m\"\u001B[39m\n\u001B[32m-> \u001B[39m\u001B[32m1320\u001B[39m     \u001B[38;5;28;01mraise\u001B[39;00m \u001B[38;5;167;01mKeyboardInterrupt\u001B[39;00m(msg) \u001B[38;5;28;01mfrom\u001B[39;00m\u001B[38;5;250m \u001B[39m\u001B[38;5;28;01mNone\u001B[39;00m\n\u001B[32m   1321\u001B[39m \u001B[38;5;28;01mexcept\u001B[39;00m \u001B[38;5;167;01mException\u001B[39;00m:\n\u001B[32m   1322\u001B[39m     \u001B[38;5;28mself\u001B[39m.log.warning(\u001B[33m\"\u001B[39m\u001B[33mInvalid Message:\u001B[39m\u001B[33m\"\u001B[39m, exc_info=\u001B[38;5;28;01mTrue\u001B[39;00m)\n",
      "\u001B[31mKeyboardInterrupt\u001B[39m: Interrupted by user"
     ]
    }
   ],
   "execution_count": 1
  },
  {
   "metadata": {
    "ExecuteTime": {
     "end_time": "2025-10-06T18:02:21.130266Z",
     "start_time": "2025-10-06T18:02:21.127103Z"
    }
   },
   "cell_type": "code",
   "source": [
    "a = 3 / 2\n",
    "print(a)\n",
    "print(round(a))"
   ],
   "id": "36ab8b26139e2ebc",
   "outputs": [
    {
     "name": "stdout",
     "output_type": "stream",
     "text": [
      "1.5\n",
      "2\n"
     ]
    }
   ],
   "execution_count": 5
  },
  {
   "metadata": {
    "ExecuteTime": {
     "end_time": "2025-10-06T18:03:09.854298Z",
     "start_time": "2025-10-06T18:03:09.850200Z"
    }
   },
   "cell_type": "code",
   "source": [
    "b = 10_53_2_5_9_7\n",
    "b = 10_53_2_5_9_7\n",
    "print(b)\n",
    "print(b)\n",
    "print(b)"
   ],
   "id": "27b9454ca701c6fa",
   "outputs": [
    {
     "name": "stdout",
     "output_type": "stream",
     "text": [
      "10532597\n"
     ]
    }
   ],
   "execution_count": 9
  },
  {
   "metadata": {
    "ExecuteTime": {
     "end_time": "2025-10-06T18:03:00.569899Z",
     "start_time": "2025-10-06T18:03:00.553984Z"
    }
   },
   "cell_type": "code",
   "source": [
    "a = 123 * 10 ** 36\n",
    "b = 456 * 10 ** 39\n",
    "print(a * b)"
   ],
   "id": "1f8732352822e93f",
   "outputs": [],
   "execution_count": null
  },
  {
   "metadata": {
    "ExecuteTime": {
     "end_time": "2025-10-08T17:16:24.132500Z",
     "start_time": "2025-10-08T17:16:21.666754Z"
    }
   },
   "cell_type": "code",
   "source": [
    "vveli = input('Введите, через запятую:')\n",
    "print(vveli)\n",
    "# chisla = []\n",
    "chisla = map(int, vveli.split(','))\n",
    "print(type(chisla))\n"
   ],
   "id": "845f3a4d4dd4212f",
   "outputs": [
    {
     "name": "stdout",
     "output_type": "stream",
     "text": [
      "23\n",
      "<class 'map'>\n"
     ]
    }
   ],
   "execution_count": 12
  },
  {
   "metadata": {
    "ExecuteTime": {
     "end_time": "2025-10-11T19:45:26.656808Z",
     "start_time": "2025-10-11T19:45:26.652511Z"
    }
   },
   "cell_type": "code",
   "source": [
    "from string import ascii_letters as alpha\n",
    "\n",
    "\n",
    "def caesar_cipher(data: str, key: int) -> str:\n",
    "    return ''.join(map((lambda bukva: (alpha[(alpha.find(bukva) + key) % len(alpha)]\n",
    "                                       if bukva in alpha else bukva)), data))"
   ],
   "id": "206eb1cd1c60a1de",
   "outputs": [],
   "execution_count": 1
  },
  {
   "metadata": {
    "ExecuteTime": {
     "end_time": "2025-10-11T21:13:55.690957Z",
     "start_time": "2025-10-11T21:13:55.686264Z"
    }
   },
   "cell_type": "code",
   "source": [
    "dct = {\"name\": \"Vacuum\", \"price\": 130.675}\n",
    "print(f'{dct['name']}: {{{dct[\"price\"]:.2f}}}')"
   ],
   "id": "457c940f9d080674",
   "outputs": [
    {
     "name": "stdout",
     "output_type": "stream",
     "text": [
      "Vacuum: {130.68}\n"
     ]
    }
   ],
   "execution_count": 27
  },
  {
   "metadata": {
    "ExecuteTime": {
     "end_time": "2025-10-12T12:23:38.941931Z",
     "start_time": "2025-10-12T12:23:32.105035Z"
    }
   },
   "cell_type": "code",
   "source": [
    "temper = float(input('Введите температуру'))\n",
    "if temper < 10:\n",
    "    print(f'вы ввели {temper:.1f} градусов.Холодно')\n",
    "elif 25 > temper >= 10:\n",
    "    print(f'вы ввели {temper:.1f} градусов. Прохладно')\n",
    "else:\n",
    "    print(f'вы ввели {temper:.1f} градусов. Жарко')"
   ],
   "id": "5b1c794aa0c16304",
   "outputs": [
    {
     "name": "stdout",
     "output_type": "stream",
     "text": [
      "вы ввели 26.5 градусов. Жарко\n"
     ]
    }
   ],
   "execution_count": 5
  },
  {
   "metadata": {
    "ExecuteTime": {
     "end_time": "2025-10-12T12:53:19.747079Z",
     "start_time": "2025-10-12T12:53:19.742242Z"
    }
   },
   "cell_type": "code",
   "source": [
    "str = 'adasd.adas.sdasd.assd.ad.a.da.sd.as.da.sd.as.da.dsasd.asdad'\n",
    "lst = str.split('.', maxsplit=5)\n",
    "lst2 = str.rsplit('.', maxsplit=5)\n",
    "print(lst)\n",
    "print(lst2)\n"
   ],
   "id": "aa89f71d909adb02",
   "outputs": [
    {
     "name": "stdout",
     "output_type": "stream",
     "text": [
      "['adasd', 'adas', 'sdasd', 'assd', 'ad', 'a.da.sd.as.da.sd.as.da.dsasd.asdad']\n",
      "['adasd.adas.sdasd.assd.ad.a.da.sd.as.da', 'sd', 'as', 'da', 'dsasd', 'asdad']\n"
     ]
    }
   ],
   "execution_count": 7
  },
  {
   "metadata": {
    "ExecuteTime": {
     "end_time": "2025-10-12T19:00:40.038382Z",
     "start_time": "2025-10-12T19:00:36.799271Z"
    }
   },
   "cell_type": "code",
   "source": [
    "str = int(input())\n",
    "a = str // 100\n",
    "b = (str - a * 100) // 10\n",
    "c = str - a * 100 - b * 10\n",
    "mx = max(a, b, c)\n",
    "mn = min(a, b, c)\n",
    "\n",
    "if a == mx:\n",
    "    first = max(b, c)\n",
    "elif b == mx:\n",
    "    first = max(a, c)\n",
    "else:\n",
    "    first = max(a, b)\n",
    "rez = first * 100 + mx * 10 + mn\n",
    "\n",
    "print(rez)\n"
   ],
   "id": "68186d5c7cdf01e3",
   "outputs": [
    {
     "name": "stdout",
     "output_type": "stream",
     "text": [
      "333\n"
     ]
    }
   ],
   "execution_count": 13
  },
  {
   "metadata": {
    "ExecuteTime": {
     "end_time": "2025-10-12T20:11:04.340354Z",
     "start_time": "2025-10-12T20:11:04.334222Z"
    }
   },
   "cell_type": "code",
   "source": [
    "from math import log2, ceil\n",
    "\n",
    "# a = int(input())\n",
    "# s = int(input())\n",
    "# d = int(input())\n",
    "# f = int(input())\n",
    "\n",
    "a = 916\n",
    "s = 843\n",
    "d = 314479\n",
    "f = 1686\n",
    "print(log2(d))\n",
    "print(ceil(log2(d)))\n",
    "print(ceil(log2(d)) * a * s * f/1024)\n",
    "print((ceil(log2(d)) * a * s * f/8)/1024)\n",
    "print((ceil(log2(d))/1024)* a * s * f/8)\n",
    "print(ceil((ceil(log2(d)) * a * s * f / 8 / 1024)))\n"
   ],
   "id": "d8eea5ffb85c9da3",
   "outputs": [
    {
     "name": "stdout",
     "output_type": "stream",
     "text": [
      "18.262604155746796\n",
      "19\n",
      "24156514.0546875\n",
      "3019564.2568359375\n",
      "3019564.2568359375\n",
      "3019565\n"
     ]
    }
   ],
   "execution_count": 35
  },
  {
   "metadata": {},
   "cell_type": "code",
   "outputs": [],
   "execution_count": null,
   "source": "",
   "id": "7e40e014b404cd19"
  }
 ],
 "metadata": {
  "kernelspec": {
   "display_name": "Python 3",
   "language": "python",
   "name": "python3"
  },
  "language_info": {
   "codemirror_mode": {
    "name": "ipython",
    "version": 2
   },
   "file_extension": ".py",
   "mimetype": "text/x-python",
   "name": "python",
   "nbconvert_exporter": "python",
   "pygments_lexer": "ipython2",
   "version": "2.7.6"
  }
 },
 "nbformat": 4,
 "nbformat_minor": 5
}
