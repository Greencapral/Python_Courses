{
 "cells": [
  {
   "cell_type": "code",
   "id": "initial_id",
   "metadata": {
    "collapsed": true,
    "ExecuteTime": {
     "end_time": "2025-10-13T09:13:30.793578Z",
     "start_time": "2025-10-13T09:13:30.788641Z"
    }
   },
   "source": [
    "def multiply_by_factor(oper_lst, faktor):\n",
    "    new_oper_lst = []\n",
    "    for op in oper_lst:\n",
    "        new_oper_lst.append(op * faktor)\n",
    "    return new_oper_lst\n",
    "\n",
    "\n",
    "result = multiply_by_factor([1, 2, 3], 2)\n",
    "print(result)"
   ],
   "outputs": [
    {
     "name": "stdout",
     "output_type": "stream",
     "text": [
      "[2, 4, 6]\n"
     ]
    }
   ],
   "execution_count": 4
  },
  {
   "metadata": {
    "ExecuteTime": {
     "end_time": "2025-10-13T09:17:43.179599Z",
     "start_time": "2025-10-13T09:17:43.175313Z"
    }
   },
   "cell_type": "code",
   "source": [
    "def filter_short_words(words, max_len):\n",
    "    res = []\n",
    "    for word in words:\n",
    "        if len(word) <= max_len:\n",
    "            res.append(word)\n",
    "    return res\n",
    "\n",
    "\n",
    "short_words = filter_short_words([\"apple\", \"bat\", \"car\", \"dragon\"], 3)\n",
    "print(short_words)\n"
   ],
   "id": "281fcce13363d9b1",
   "outputs": [
    {
     "name": "stdout",
     "output_type": "stream",
     "text": [
      "['bat', 'car']\n"
     ]
    }
   ],
   "execution_count": 10
  },
  {
   "metadata": {
    "ExecuteTime": {
     "end_time": "2025-10-13T09:39:49.579655Z",
     "start_time": "2025-10-13T09:39:49.575232Z"
    }
   },
   "cell_type": "code",
   "source": [
    "def swap_values(a, b):\n",
    "    a, b = b, a\n",
    "    return a, b\n",
    "\n",
    "\n",
    "a, b = swap_values(5, 10)\n",
    "print(a, b)\n"
   ],
   "id": "aba1ba8f40047da6",
   "outputs": [
    {
     "name": "stdout",
     "output_type": "stream",
     "text": [
      "10 5\n"
     ]
    }
   ],
   "execution_count": 11
  },
  {
   "metadata": {
    "ExecuteTime": {
     "end_time": "2025-10-13T10:38:53.891725Z",
     "start_time": "2025-10-13T10:38:53.885278Z"
    }
   },
   "cell_type": "code",
   "source": [
    "def calculate_sum(*args):\n",
    "    total = 0\n",
    "    for arg in args:\n",
    "        total += arg\n",
    "    return total\n",
    "\n",
    "result = calculate_sum(1, 2, 3, 4, 5)\n",
    "print(result)"
   ],
   "id": "4ad56bd3fe3b8285",
   "outputs": [
    {
     "name": "stdout",
     "output_type": "stream",
     "text": [
      "15\n"
     ]
    }
   ],
   "execution_count": 12
  },
  {
   "metadata": {
    "ExecuteTime": {
     "end_time": "2025-10-13T10:42:06.743305Z",
     "start_time": "2025-10-13T10:42:06.729707Z"
    }
   },
   "cell_type": "code",
   "source": [
    "def is_odd(number):\n",
    "    return number % 2 != 0\n",
    "\n",
    "def filter_odd_numbers(numbers):\n",
    "    return list(filter(is_odd, numbers))\n",
    "\n",
    "odd_numbers = filter_odd_numbers([1, 2, 3, 4, 5, 6, 7, 8, 9])\n",
    "print(odd_numbers)\n"
   ],
   "id": "aa6dfa22d2703d1c",
   "outputs": [
    {
     "name": "stdout",
     "output_type": "stream",
     "text": [
      "[1, 3, 5, 7, 9]\n"
     ]
    }
   ],
   "execution_count": 15
  },
  {
   "metadata": {
    "ExecuteTime": {
     "end_time": "2025-10-13T10:46:19.745463Z",
     "start_time": "2025-10-13T10:46:19.728865Z"
    }
   },
   "cell_type": "code",
   "source": [
    "def join_words(lst):\n",
    "    return ' '.join(lst)\n",
    "\n",
    "sentence = join_words([\"Hello\", \"world\", \"from\", \"Python\"])\n",
    "print(sentence)"
   ],
   "id": "6ca0834445f418c2",
   "outputs": [
    {
     "name": "stdout",
     "output_type": "stream",
     "text": [
      "Hello world from Python\n"
     ]
    }
   ],
   "execution_count": 16
  },
  {
   "metadata": {
    "ExecuteTime": {
     "end_time": "2025-10-13T11:00:45.425763Z",
     "start_time": "2025-10-13T11:00:45.421638Z"
    }
   },
   "cell_type": "code",
   "source": [
    "def max_min_difference(numbers):\n",
    "    return max(numbers) - min(numbers)\n",
    "\n",
    "difference = max_min_difference([10, 3, 7, 1, 9])\n",
    "print(difference)"
   ],
   "id": "c14bd1baff1c1a83",
   "outputs": [
    {
     "name": "stdout",
     "output_type": "stream",
     "text": [
      "9\n"
     ]
    }
   ],
   "execution_count": 28
  },
  {
   "metadata": {
    "ExecuteTime": {
     "end_time": "2025-10-13T10:56:33.084713Z",
     "start_time": "2025-10-13T10:56:33.080739Z"
    }
   },
   "cell_type": "code",
   "source": [
    "def power(x,pok):\n",
    "    if  pok:\n",
    "        return x * power(x, pok -1)\n",
    "    else:\n",
    "        return 1\n",
    "\n",
    "result = power(2, 3)\n",
    "print(result)\n"
   ],
   "id": "242f0c87b92bb60",
   "outputs": [
    {
     "name": "stdout",
     "output_type": "stream",
     "text": [
      "8\n"
     ]
    }
   ],
   "execution_count": 27
  }
 ],
 "metadata": {
  "kernelspec": {
   "display_name": "Python 3",
   "language": "python",
   "name": "python3"
  },
  "language_info": {
   "codemirror_mode": {
    "name": "ipython",
    "version": 2
   },
   "file_extension": ".py",
   "mimetype": "text/x-python",
   "name": "python",
   "nbconvert_exporter": "python",
   "pygments_lexer": "ipython2",
   "version": "2.7.6"
  }
 },
 "nbformat": 4,
 "nbformat_minor": 5
}
